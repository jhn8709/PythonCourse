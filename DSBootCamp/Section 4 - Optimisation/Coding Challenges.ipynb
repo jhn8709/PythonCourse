{
 "cells": [
  {
   "cell_type": "markdown",
   "id": "60376e73",
   "metadata": {},
   "source": [
    "### Coding Challenge 4"
   ]
  },
  {
   "cell_type": "code",
   "execution_count": 5,
   "id": "875d862c",
   "metadata": {},
   "outputs": [],
   "source": [
    "def sing(num_bottles):\n",
    "    #TODO: Add your code to achieve the desired output and pass the challenge. \n",
    "    #NOTE: The f String method of String Interpolation does not work. \n",
    "    n = num_bottles\n",
    "    lyrics = []\n",
    "    while n > 0:\n",
    "        string = \"{} bottles of beer on the wall, {} bottles of beer.\".format(n, n)\n",
    "        lyrics.append(string)\n",
    "        n -= 1\n",
    "        string = \"Take one down and pass it around, {} bottles of beer on the wall.\".format(n)\n",
    "        lyrics.append(string)\n",
    "        lyrics.append(\"\")\n",
    "    return lyrics\n",
    "        "
   ]
  },
  {
   "cell_type": "code",
   "execution_count": 6,
   "id": "971a2883",
   "metadata": {},
   "outputs": [
    {
     "name": "stdout",
     "output_type": "stream",
     "text": [
      "['5 bottles of beer on the wall, 5 bottles of beer.', 'Take one down and pass it around, 4 bottles of beer on the wall.', '', '4 bottles of beer on the wall, 4 bottles of beer.', 'Take one down and pass it around, 3 bottles of beer on the wall.', '', '3 bottles of beer on the wall, 3 bottles of beer.', 'Take one down and pass it around, 2 bottles of beer on the wall.', '', '2 bottles of beer on the wall, 2 bottles of beer.', 'Take one down and pass it around, 1 bottles of beer on the wall.', '', '1 bottles of beer on the wall, 1 bottles of beer.', 'Take one down and pass it around, 0 bottles of beer on the wall.', '']\n"
     ]
    }
   ],
   "source": [
    "lyrics = sing(5)\n",
    "print(lyrics)"
   ]
  },
  {
   "cell_type": "code",
   "execution_count": null,
   "id": "dc8a44a4",
   "metadata": {},
   "outputs": [],
   "source": []
  }
 ],
 "metadata": {
  "kernelspec": {
   "display_name": "Python 3 (ipykernel)",
   "language": "python",
   "name": "python3"
  },
  "language_info": {
   "codemirror_mode": {
    "name": "ipython",
    "version": 3
   },
   "file_extension": ".py",
   "mimetype": "text/x-python",
   "name": "python",
   "nbconvert_exporter": "python",
   "pygments_lexer": "ipython3",
   "version": "3.9.12"
  }
 },
 "nbformat": 4,
 "nbformat_minor": 5
}
