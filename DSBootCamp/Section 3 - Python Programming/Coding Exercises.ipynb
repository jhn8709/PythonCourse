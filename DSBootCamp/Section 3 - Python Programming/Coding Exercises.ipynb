{
 "cells": [
  {
   "cell_type": "markdown",
   "id": "6ec78595",
   "metadata": {},
   "source": [
    "### Coding Exercise 1"
   ]
  },
  {
   "cell_type": "code",
   "execution_count": 1,
   "id": "1a7ad004",
   "metadata": {},
   "outputs": [],
   "source": [
    "def test(A, B):\n",
    "    a = A\n",
    "    b = B\n",
    "    \n",
    "    # TODO: Below this comment write your code.\n",
    "    a = B\n",
    "    b = A\n",
    "\n",
    "\n",
    "    # Leave this line alone as well\n",
    "    return (a, b)"
   ]
  },
  {
   "cell_type": "code",
   "execution_count": 2,
   "id": "e3564321",
   "metadata": {},
   "outputs": [
    {
     "name": "stdout",
     "output_type": "stream",
     "text": [
      "8\n",
      "5\n"
     ]
    }
   ],
   "source": [
    "(a,b) = test(5, 8)\n",
    "print(a)\n",
    "print(b)"
   ]
  },
  {
   "cell_type": "markdown",
   "id": "d911ca55",
   "metadata": {},
   "source": [
    "### Coding Exercise 2"
   ]
  },
  {
   "cell_type": "code",
   "execution_count": 14,
   "id": "265868e2",
   "metadata": {},
   "outputs": [],
   "source": [
    "def top_three(scores):\n",
    "    scores = scores\n",
    "    top_scores = []\n",
    "    \n",
    "    # TODO: Delete this line and replace with your code\n",
    "    ordered_scores = sorted(scores, reverse=True)\n",
    "    top_scores = ordered_scores[0:3]\n",
    "    \n",
    "    \n",
    "    \n",
    "    # Leave this line alone\n",
    "    return top_scores"
   ]
  },
  {
   "cell_type": "code",
   "execution_count": 15,
   "id": "ff98a6b4",
   "metadata": {},
   "outputs": [
    {
     "name": "stdout",
     "output_type": "stream",
     "text": [
      "[78, 43, 14]\n"
     ]
    }
   ],
   "source": [
    "scores = [43, 12, 6, 78, 2, 14]\n",
    "top_scores = top_three(scores)\n",
    "print(top_scores)\n"
   ]
  },
  {
   "cell_type": "markdown",
   "id": "a3bf0214",
   "metadata": {},
   "source": [
    "### Coding Exercise 3"
   ]
  },
  {
   "cell_type": "code",
   "execution_count": 2,
   "id": "e39e0513",
   "metadata": {},
   "outputs": [
    {
     "data": {
      "text/plain": [
       "2.718281828459045"
      ]
     },
     "execution_count": 2,
     "metadata": {},
     "output_type": "execute_result"
    }
   ],
   "source": [
    "tracker = 0\n",
    "\n",
    "def moveForwards():\n",
    "    global tracker \n",
    "    tracker += 1\n",
    "    print('moved forward by one step.')\n",
    "\n",
    "def turnRight():\n",
    "    global tracker\n",
    "    tracker -= 1\n",
    "    print('turning right')\n",
    "    \n",
    "def move():\n",
    "\n",
    "    moveForwards()\n",
    "    moveForwards()\n",
    "    turnRight()\n",
    "    turnRight()\n",
    "    turnRight()\n",
    "    turnRight()\n",
    "\n",
    "    return tracker"
   ]
  },
  {
   "cell_type": "markdown",
   "id": "3b9263fb",
   "metadata": {},
   "source": [
    "### Coding Exercise 4"
   ]
  },
  {
   "cell_type": "code",
   "execution_count": 6,
   "id": "64606233",
   "metadata": {},
   "outputs": [],
   "source": [
    "# TODO 1: Add two parameters (length_ft and width_ft)\n",
    "def calc_square_meters_from_feet(length_ft, width_ft):\n",
    "    \n",
    "    \n",
    "    # TODO 2: Modify the code below:\n",
    "    metric_area = 0\n",
    "    square_feet = length_ft*width_ft\n",
    "    metric_area = square_feet*(0.3048**2)\n",
    "    \n",
    "    \n",
    "    \n",
    "\n",
    "    # Leave the line below as it is\n",
    "    return metric_area"
   ]
  },
  {
   "cell_type": "markdown",
   "id": "b9477238",
   "metadata": {},
   "source": [
    "### Coding Exercise 5"
   ]
  },
  {
   "cell_type": "code",
   "execution_count": 7,
   "id": "03d30dbb",
   "metadata": {},
   "outputs": [
    {
     "name": "stdout",
     "output_type": "stream",
     "text": [
      "[5, 6, 7, 8, 4, 3, 2, 1]\n"
     ]
    }
   ],
   "source": [
    "def concatenate_lists(a, b):\n",
    "    return a+b\n",
    "    "
   ]
  },
  {
   "cell_type": "code",
   "execution_count": null,
   "id": "327d66f9",
   "metadata": {},
   "outputs": [],
   "source": []
  }
 ],
 "metadata": {
  "kernelspec": {
   "display_name": "Python 3 (ipykernel)",
   "language": "python",
   "name": "python3"
  },
  "language_info": {
   "codemirror_mode": {
    "name": "ipython",
    "version": 3
   },
   "file_extension": ".py",
   "mimetype": "text/x-python",
   "name": "python",
   "nbconvert_exporter": "python",
   "pygments_lexer": "ipython3",
   "version": "3.9.12"
  }
 },
 "nbformat": 4,
 "nbformat_minor": 5
}
