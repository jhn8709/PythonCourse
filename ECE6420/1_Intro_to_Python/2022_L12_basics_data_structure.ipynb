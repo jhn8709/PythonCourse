{
 "cells": [
  {
   "cell_type": "markdown",
   "id": "16f0c6d3",
   "metadata": {},
   "source": [
    "\n",
    "# Intro to Pytohn\n",
    "\n",
    " We will use Jupyter Notebook to do in-class examples. \n",
    "\n",
    "## Hello, World"
   ]
  },
  {
   "cell_type": "code",
   "execution_count": 2,
   "id": "25cc181a",
   "metadata": {},
   "outputs": [
    {
     "name": "stdout",
     "output_type": "stream",
     "text": [
      "Hello, World!\n"
     ]
    }
   ],
   "source": [
    "print('Hello, World!')"
   ]
  },
  {
   "cell_type": "code",
   "execution_count": 3,
   "id": "5a74abcf",
   "metadata": {},
   "outputs": [
    {
     "name": "stdout",
     "output_type": "stream",
     "text": [
      "Hello, world!\n"
     ]
    }
   ],
   "source": [
    "print(\"Hello, world!\")"
   ]
  },
  {
   "cell_type": "markdown",
   "id": "0067d005",
   "metadata": {},
   "source": [
    "## *int* and *float*"
   ]
  },
  {
   "cell_type": "code",
   "execution_count": 4,
   "id": "644d6d71",
   "metadata": {},
   "outputs": [],
   "source": [
    "x = 2"
   ]
  },
  {
   "cell_type": "code",
   "execution_count": 5,
   "id": "d56bc822",
   "metadata": {},
   "outputs": [],
   "source": [
    "y = 2.5"
   ]
  },
  {
   "cell_type": "markdown",
   "id": "664629da",
   "metadata": {},
   "source": [
    "### Calculation\n",
    "\n",
    "- +, -, * — standard addition, subtraction, multiplication\n",
    "- ** — exponentiation\n",
    "- / — floating point division\n",
    "- // — integer division\n"
   ]
  },
  {
   "cell_type": "code",
   "execution_count": 6,
   "id": "27c770cb",
   "metadata": {},
   "outputs": [
    {
     "data": {
      "text/plain": [
       "8"
      ]
     },
     "execution_count": 6,
     "metadata": {},
     "output_type": "execute_result"
    }
   ],
   "source": [
    "2 ** 3"
   ]
  },
  {
   "cell_type": "code",
   "execution_count": 7,
   "id": "be81c599",
   "metadata": {},
   "outputs": [
    {
     "data": {
      "text/plain": [
       "2.5"
      ]
     },
     "execution_count": 7,
     "metadata": {},
     "output_type": "execute_result"
    }
   ],
   "source": [
    "5 / 2"
   ]
  },
  {
   "cell_type": "code",
   "execution_count": 8,
   "id": "c6ff847c",
   "metadata": {},
   "outputs": [
    {
     "data": {
      "text/plain": [
       "2"
      ]
     },
     "execution_count": 8,
     "metadata": {},
     "output_type": "execute_result"
    }
   ],
   "source": [
    "5 // 2"
   ]
  },
  {
   "cell_type": "code",
   "execution_count": 9,
   "id": "bcd27d54",
   "metadata": {},
   "outputs": [
    {
     "data": {
      "text/plain": [
       "2.0"
      ]
     },
     "execution_count": 9,
     "metadata": {},
     "output_type": "execute_result"
    }
   ],
   "source": [
    "5.0 // 2"
   ]
  },
  {
   "cell_type": "markdown",
   "id": "94c77be8",
   "metadata": {},
   "source": [
    "## Assignment"
   ]
  },
  {
   "cell_type": "code",
   "execution_count": 10,
   "id": "ef7dc469",
   "metadata": {},
   "outputs": [
    {
     "name": "stdout",
     "output_type": "stream",
     "text": [
      "3\n",
      "5.0\n"
     ]
    }
   ],
   "source": [
    "x = 3\n",
    "print(x)\n",
    "\n",
    "y = 3 + 2.0\n",
    "print(y)"
   ]
  },
  {
   "cell_type": "markdown",
   "id": "63700681",
   "metadata": {},
   "source": [
    "### Dynamic variables"
   ]
  },
  {
   "cell_type": "code",
   "execution_count": 11,
   "id": "9c7cb776",
   "metadata": {},
   "outputs": [
    {
     "name": "stdout",
     "output_type": "stream",
     "text": [
      "3.14\n",
      "Hello, World\n"
     ]
    }
   ],
   "source": [
    "x = 3\n",
    "x = 3.14\n",
    "print(x)\n",
    "\n",
    "x = 'Hello, World'\n",
    "print(x)"
   ]
  },
  {
   "cell_type": "markdown",
   "id": "7286f7ca",
   "metadata": {},
   "source": [
    "### Expression"
   ]
  },
  {
   "cell_type": "code",
   "execution_count": 13,
   "id": "36df05b9",
   "metadata": {},
   "outputs": [
    {
     "data": {
      "text/plain": [
       "5"
      ]
     },
     "execution_count": 13,
     "metadata": {},
     "output_type": "execute_result"
    }
   ],
   "source": [
    "# addition\n",
    "2 + 3"
   ]
  },
  {
   "cell_type": "code",
   "execution_count": 14,
   "id": "1aa5f3b2",
   "metadata": {},
   "outputs": [
    {
     "data": {
      "text/plain": [
       "False"
      ]
     },
     "execution_count": 14,
     "metadata": {},
     "output_type": "execute_result"
    }
   ],
   "source": [
    "# Comparison\n",
    "3 > 4"
   ]
  },
  {
   "cell_type": "code",
   "execution_count": 15,
   "id": "8ad28239",
   "metadata": {},
   "outputs": [],
   "source": [
    "# assign an expression to a variable\n",
    "x = 2 + 3"
   ]
  },
  {
   "cell_type": "markdown",
   "id": "0cf1b06b",
   "metadata": {},
   "source": [
    "---\n",
    "## Boolean"
   ]
  },
  {
   "cell_type": "code",
   "execution_count": 16,
   "id": "78c24aff",
   "metadata": {},
   "outputs": [],
   "source": [
    "x = True \n",
    "y = False"
   ]
  },
  {
   "cell_type": "markdown",
   "id": "1eddcb13",
   "metadata": {},
   "source": [
    "### Boolean Operators\n",
    "\n",
    "- *and*\n",
    "- *or*\n",
    "- *not*\n",
    "\n",
    "![](https://upload.wikimedia.org/wikipedia/commons/4/4a/Truth_table_for_AND%2C_OR%2C_and_NOT.png)\n",
    "\n",
    "**Precedence**\n",
    "\n",
    "*not* > *and* > *or*"
   ]
  },
  {
   "cell_type": "code",
   "execution_count": 17,
   "id": "e87f8bba",
   "metadata": {},
   "outputs": [
    {
     "data": {
      "text/plain": [
       "False"
      ]
     },
     "execution_count": 17,
     "metadata": {},
     "output_type": "execute_result"
    }
   ],
   "source": [
    "not True"
   ]
  },
  {
   "cell_type": "code",
   "execution_count": 18,
   "id": "7b3d9179",
   "metadata": {},
   "outputs": [
    {
     "data": {
      "text/plain": [
       "False"
      ]
     },
     "execution_count": 18,
     "metadata": {},
     "output_type": "execute_result"
    }
   ],
   "source": [
    "True and False"
   ]
  },
  {
   "cell_type": "code",
   "execution_count": 19,
   "id": "d0adf25f",
   "metadata": {},
   "outputs": [
    {
     "data": {
      "text/plain": [
       "False"
      ]
     },
     "execution_count": 19,
     "metadata": {},
     "output_type": "execute_result"
    }
   ],
   "source": [
    "True and not True"
   ]
  },
  {
   "cell_type": "code",
   "execution_count": 20,
   "id": "b78ca196",
   "metadata": {},
   "outputs": [
    {
     "data": {
      "text/plain": [
       "True"
      ]
     },
     "execution_count": 20,
     "metadata": {},
     "output_type": "execute_result"
    }
   ],
   "source": [
    "False or True and True"
   ]
  },
  {
   "cell_type": "code",
   "execution_count": 21,
   "id": "a9bdd569",
   "metadata": {},
   "outputs": [
    {
     "data": {
      "text/plain": [
       "True"
      ]
     },
     "execution_count": 21,
     "metadata": {},
     "output_type": "execute_result"
    }
   ],
   "source": [
    "(False or True) and True"
   ]
  },
  {
   "cell_type": "markdown",
   "id": "a19b4942",
   "metadata": {},
   "source": [
    "### Comparation\n",
    "\n",
    "- ==, <, >, <=, >= compare elements by value\n",
    "- *is* compare by reference (identity)"
   ]
  },
  {
   "cell_type": "code",
   "execution_count": 22,
   "id": "cc2881a3",
   "metadata": {},
   "outputs": [
    {
     "data": {
      "text/plain": [
       "True"
      ]
     },
     "execution_count": 22,
     "metadata": {},
     "output_type": "execute_result"
    }
   ],
   "source": [
    "x = 1\n",
    "y = 1\n",
    "x == y"
   ]
  },
  {
   "cell_type": "markdown",
   "id": "6442986b",
   "metadata": {},
   "source": [
    "## Conditional Control Flow\n"
   ]
  },
  {
   "cell_type": "code",
   "execution_count": 23,
   "id": "f42cfdaf",
   "metadata": {},
   "outputs": [
    {
     "name": "stdout",
     "output_type": "stream",
     "text": [
      "x is two :)\n"
     ]
    }
   ],
   "source": [
    "\n",
    "x = 2\n",
    "if x == 1:\n",
    "    print('x is one :(')\n",
    "elif x == 2:\n",
    "    print('x is two :)')\n",
    "else:\n",
    "    print('Oh oh...')"
   ]
  },
  {
   "cell_type": "markdown",
   "id": "20e975c2",
   "metadata": {},
   "source": [
    "The following two examples are equivalent. One implements multiple separate comparisons and the other uses Python's chained comparisons"
   ]
  },
  {
   "cell_type": "code",
   "execution_count": 24,
   "id": "d888c639",
   "metadata": {},
   "outputs": [
    {
     "name": "stdout",
     "output_type": "stream",
     "text": [
      ":)\n"
     ]
    }
   ],
   "source": [
    "\n",
    "'''\n",
    "This compares x and y\n",
    "'''\n",
    "x = 2 ** 3    # 8\n",
    "y = 2 * 3     # 6\n",
    "\n",
    "if y <= 7 and x >= 7:\n",
    "    print(':)')\n",
    "else:\n",
    "    print(':(')\n",
    "    print(x, y)"
   ]
  },
  {
   "cell_type": "code",
   "execution_count": 25,
   "id": "98a99e10",
   "metadata": {
    "lines_to_next_cell": 2
   },
   "outputs": [
    {
     "name": "stdout",
     "output_type": "stream",
     "text": [
      ":)\n"
     ]
    }
   ],
   "source": [
    "\n",
    "# This cell's code is equivalent to the previous one\n",
    "x = 2 ** 3    # 8\n",
    "y = 2 * 3     # 6\n",
    "\n",
    "if y <= 7 <= x:\n",
    "    print(':)')\n",
    "else:\n",
    "    print(':(')\n",
    "    print(x, y)"
   ]
  },
  {
   "cell_type": "markdown",
   "id": "4985951c",
   "metadata": {},
   "source": [
    "## *range*"
   ]
  },
  {
   "cell_type": "markdown",
   "id": "c0603ec3",
   "metadata": {},
   "source": [
    "- The python *range()* function creates a collection of numbers on the fly, like 0, 1, 2, 3, 4. \n",
    "- This is very useful, since the numbers can be used to index into collections such as string\n",
    "- Built-in collection of int objects\n",
    "- Constructors\n",
    "    - range(stop) — from *0* to *stop-1*\n",
    "    - range(start, stop) — from *start* to *stop-1*\n",
    "    - range(start, stop, step) — from *start* to *stop-1* on *step*\n",
    "<!-- #endregion -->"
   ]
  },
  {
   "cell_type": "code",
   "execution_count": 26,
   "id": "df9818f0",
   "metadata": {},
   "outputs": [
    {
     "data": {
      "text/plain": [
       "range(0, 10)"
      ]
     },
     "execution_count": 26,
     "metadata": {},
     "output_type": "execute_result"
    }
   ],
   "source": [
    "range(10)"
   ]
  },
  {
   "cell_type": "code",
   "execution_count": 27,
   "id": "1834283a",
   "metadata": {},
   "outputs": [
    {
     "data": {
      "text/plain": [
       "range"
      ]
     },
     "execution_count": 27,
     "metadata": {},
     "output_type": "execute_result"
    }
   ],
   "source": [
    "type(range(10))"
   ]
  },
  {
   "cell_type": "code",
   "execution_count": 28,
   "id": "0393d597",
   "metadata": {},
   "outputs": [
    {
     "data": {
      "text/plain": [
       "range(1, 10, 3)"
      ]
     },
     "execution_count": 28,
     "metadata": {},
     "output_type": "execute_result"
    }
   ],
   "source": [
    "range(1, 10, 3)"
   ]
  },
  {
   "cell_type": "code",
   "execution_count": 29,
   "id": "0cfe5477",
   "metadata": {
    "lines_to_next_cell": 2
   },
   "outputs": [
    {
     "data": {
      "text/plain": [
       "[1, 4, 7]"
      ]
     },
     "execution_count": 29,
     "metadata": {},
     "output_type": "execute_result"
    }
   ],
   "source": [
    "# visualize a range object using a list\n",
    "list(range(1, 10, 3))"
   ]
  },
  {
   "cell_type": "markdown",
   "id": "1fcbf818",
   "metadata": {},
   "source": [
    "## Loops\n",
    "\n",
    "The following two code cells are equivalent implementations with `while` and `for` loops.\n"
   ]
  },
  {
   "cell_type": "code",
   "execution_count": 30,
   "id": "419be818",
   "metadata": {},
   "outputs": [
    {
     "name": "stdout",
     "output_type": "stream",
     "text": [
      "0\n",
      "1\n",
      "2\n",
      "3\n",
      "4\n",
      "5\n",
      "6\n",
      "7\n",
      "8\n",
      "9\n"
     ]
    }
   ],
   "source": [
    "i = 0 \n",
    "while i < 10:\n",
    "    print(i)\n",
    "    i += 1"
   ]
  },
  {
   "cell_type": "code",
   "execution_count": 31,
   "id": "0d9a327a",
   "metadata": {
    "lines_to_next_cell": 2
   },
   "outputs": [
    {
     "name": "stdout",
     "output_type": "stream",
     "text": [
      "0\n",
      "1\n",
      "2\n",
      "3\n",
      "4\n",
      "5\n",
      "6\n",
      "7\n",
      "8\n",
      "9\n"
     ]
    }
   ],
   "source": [
    "# This cell's code is equivalent to the previous one  \n",
    "for i in range(10):\n",
    "    print(i)"
   ]
  },
  {
   "cell_type": "markdown",
   "id": "6d1e80a5",
   "metadata": {},
   "source": [
    "# Python data types and data structures\n",
    "\n",
    "Python contains several powerful built-in data structures. In today's class, we will study the most used ones, and see some examples for how to use them."
   ]
  },
  {
   "cell_type": "markdown",
   "id": "65d3db86",
   "metadata": {},
   "source": [
    "## List\n",
    "\n",
    "- Built-in collection of objects\n",
    "- Mutable: its elements can be modified\n",
    "- Arbitrarily typed elements (even differently typed)\n",
    "- Usually elements are of the same type\n",
    "- Typically implemented as dynamic arrays (like ArrayList in Java)\n",
    "- Constructors:\n",
    "    - [a, b, c] — comma separated values, potentially empty\n",
    "    - list(iterable) — e.g., list(range(5))\n",
    "    - [x for x in iterable] — list comprehension, more later\n"
   ]
  },
  {
   "cell_type": "markdown",
   "id": "90793114",
   "metadata": {},
   "source": [
    "### Construction"
   ]
  },
  {
   "cell_type": "code",
   "execution_count": 32,
   "id": "3e55294d",
   "metadata": {},
   "outputs": [
    {
     "name": "stdout",
     "output_type": "stream",
     "text": [
      "[1, 2, 3]\n",
      "<class 'list'>\n"
     ]
    }
   ],
   "source": [
    "x = [1, 2, 3]\n",
    "print(x)\n",
    "print(type(x))"
   ]
  },
  {
   "cell_type": "code",
   "execution_count": 33,
   "id": "93441b12",
   "metadata": {},
   "outputs": [
    {
     "data": {
      "text/plain": [
       "[1, 2, 3]"
      ]
     },
     "execution_count": 33,
     "metadata": {},
     "output_type": "execute_result"
    }
   ],
   "source": [
    "list(range(1, 4))"
   ]
  },
  {
   "cell_type": "code",
   "execution_count": 34,
   "id": "789caa2b",
   "metadata": {},
   "outputs": [
    {
     "data": {
      "text/plain": [
       "[1, 2, 3]"
      ]
     },
     "execution_count": 34,
     "metadata": {},
     "output_type": "execute_result"
    }
   ],
   "source": [
    "[x for x in range(1,4)]"
   ]
  },
  {
   "cell_type": "code",
   "execution_count": 35,
   "id": "31d4b2a7",
   "metadata": {},
   "outputs": [
    {
     "data": {
      "text/plain": [
       "[3, 6, 9]"
      ]
     },
     "execution_count": 35,
     "metadata": {},
     "output_type": "execute_result"
    }
   ],
   "source": [
    "[x*3 for x in range(1,4)]"
   ]
  },
  {
   "cell_type": "code",
   "execution_count": 36,
   "id": "ea4a1f6f",
   "metadata": {},
   "outputs": [],
   "source": [
    "y = [1, 2.5, True]"
   ]
  },
  {
   "cell_type": "markdown",
   "id": "0094a978",
   "metadata": {},
   "source": [
    "### Length of a list"
   ]
  },
  {
   "cell_type": "code",
   "execution_count": 37,
   "id": "9ad67a71",
   "metadata": {},
   "outputs": [
    {
     "data": {
      "text/plain": [
       "3"
      ]
     },
     "execution_count": 37,
     "metadata": {},
     "output_type": "execute_result"
    }
   ],
   "source": [
    "y.__len__()"
   ]
  },
  {
   "cell_type": "code",
   "execution_count": 38,
   "id": "5ce96d5f",
   "metadata": {},
   "outputs": [
    {
     "data": {
      "text/plain": [
       "3"
      ]
     },
     "execution_count": 38,
     "metadata": {},
     "output_type": "execute_result"
    }
   ],
   "source": [
    "len(y)"
   ]
  },
  {
   "cell_type": "markdown",
   "id": "79f3e4a8",
   "metadata": {},
   "source": [
    "### Insert and delete"
   ]
  },
  {
   "cell_type": "code",
   "execution_count": 39,
   "id": "853f2f87",
   "metadata": {},
   "outputs": [
    {
     "name": "stdout",
     "output_type": "stream",
     "text": [
      "[1, 2, 3]\n",
      "[1, 2, 3, 4]\n",
      "[2, 3, 4]\n"
     ]
    }
   ],
   "source": [
    "x = [1, 2, 3]\n",
    "print(x)\n",
    "x.append(4) # appends to end of list\n",
    "print(x)\n",
    "x.remove(1)\n",
    "print(x)"
   ]
  },
  {
   "cell_type": "code",
   "execution_count": 40,
   "id": "85642a2e",
   "metadata": {},
   "outputs": [
    {
     "data": {
      "text/plain": [
       "[3, 4, 5]"
      ]
     },
     "execution_count": 40,
     "metadata": {},
     "output_type": "execute_result"
    }
   ],
   "source": [
    "x = [1, 2, 3, 4, 5]\n",
    "del x[0:2]\n",
    "x"
   ]
  },
  {
   "cell_type": "code",
   "execution_count": 42,
   "id": "e123b5bd",
   "metadata": {},
   "outputs": [
    {
     "ename": "ValueError",
     "evalue": "list.remove(x): x not in list",
     "output_type": "error",
     "traceback": [
      "\u001b[1;31m---------------------------------------------------------------------------\u001b[0m",
      "\u001b[1;31mValueError\u001b[0m                                Traceback (most recent call last)",
      "\u001b[1;32m~\\AppData\\Local\\Temp\\ipykernel_22508\\1490376735.py\u001b[0m in \u001b[0;36m<cell line: 2>\u001b[1;34m()\u001b[0m\n\u001b[0;32m      1\u001b[0m \u001b[0mx\u001b[0m \u001b[1;33m=\u001b[0m \u001b[1;33m[\u001b[0m\u001b[1;36m1\u001b[0m\u001b[1;33m,\u001b[0m \u001b[1;36m2\u001b[0m\u001b[1;33m,\u001b[0m \u001b[1;36m3\u001b[0m\u001b[1;33m]\u001b[0m\u001b[1;33m\u001b[0m\u001b[1;33m\u001b[0m\u001b[0m\n\u001b[1;32m----> 2\u001b[1;33m \u001b[0mx\u001b[0m\u001b[1;33m.\u001b[0m\u001b[0mremove\u001b[0m\u001b[1;33m(\u001b[0m\u001b[1;36m5\u001b[0m\u001b[1;33m)\u001b[0m\u001b[1;33m\u001b[0m\u001b[1;33m\u001b[0m\u001b[0m\n\u001b[0m",
      "\u001b[1;31mValueError\u001b[0m: list.remove(x): x not in list"
     ]
    }
   ],
   "source": [
    "x = [1, 2, 3]\n",
    "x.remove(5)"
   ]
  },
  {
   "cell_type": "markdown",
   "id": "6cbb8c7d",
   "metadata": {},
   "source": [
    "---\n",
    "### Index\n",
    "\n",
    "- l[i] — returns the i-th element of a, using 0-based indexing\n",
    "- i must be between 0 and len(l)-1\n"
   ]
  },
  {
   "cell_type": "code",
   "execution_count": null,
   "id": "67983dda",
   "metadata": {},
   "outputs": [],
   "source": [
    "x = [2,4,6,8,10,12] \n",
    "# Python is zero indexed\n",
    "x[0]"
   ]
  },
  {
   "cell_type": "markdown",
   "id": "08ee5568",
   "metadata": {},
   "source": [
    "### Reverse index\n",
    "\n",
    "- l[-i] — returns the i-th element of a list from the right, using 1-based indexing\n",
    "- Intuitively means len(l)-i, hence 1-based\n",
    "- i must be between 1 and len(l)\n"
   ]
  },
  {
   "cell_type": "code",
   "execution_count": 1,
   "id": "f4f2e96c",
   "metadata": {},
   "outputs": [
    {
     "data": {
      "text/plain": [
       "12"
      ]
     },
     "execution_count": 1,
     "metadata": {},
     "output_type": "execute_result"
    }
   ],
   "source": [
    "x = [2,4,6,8,10,12] \n",
    "x[-1]"
   ]
  },
  {
   "cell_type": "code",
   "execution_count": 2,
   "id": "5560122a",
   "metadata": {},
   "outputs": [
    {
     "ename": "IndexError",
     "evalue": "list index out of range",
     "output_type": "error",
     "traceback": [
      "\u001b[1;31m---------------------------------------------------------------------------\u001b[0m",
      "\u001b[1;31mIndexError\u001b[0m                                Traceback (most recent call last)",
      "Input \u001b[1;32mIn [2]\u001b[0m, in \u001b[0;36m<cell line: 2>\u001b[1;34m()\u001b[0m\n\u001b[0;32m      1\u001b[0m x \u001b[38;5;241m=\u001b[39m [\u001b[38;5;241m2\u001b[39m,\u001b[38;5;241m4\u001b[39m,\u001b[38;5;241m6\u001b[39m,\u001b[38;5;241m8\u001b[39m,\u001b[38;5;241m10\u001b[39m,\u001b[38;5;241m12\u001b[39m] \n\u001b[1;32m----> 2\u001b[0m \u001b[43mx\u001b[49m\u001b[43m[\u001b[49m\u001b[38;5;241;43m-\u001b[39;49m\u001b[38;5;241;43m100\u001b[39;49m\u001b[43m]\u001b[49m\n",
      "\u001b[1;31mIndexError\u001b[0m: list index out of range"
     ]
    }
   ],
   "source": [
    "x = [2,4,6,8,10,12] \n",
    "x[-100]"
   ]
  },
  {
   "cell_type": "markdown",
   "id": "b543041d",
   "metadata": {},
   "source": [
    "### Containment by values"
   ]
  },
  {
   "cell_type": "code",
   "execution_count": 3,
   "id": "02ef74a7",
   "metadata": {},
   "outputs": [
    {
     "name": "stdout",
     "output_type": "stream",
     "text": [
      "True\n",
      "False\n"
     ]
    }
   ],
   "source": [
    "# wheter a value is an element of a list\n",
    "x = [1, 2, 3, 4, 5]\n",
    "print( 2 in x )\n",
    "print(10 in x )"
   ]
  },
  {
   "cell_type": "markdown",
   "id": "f668fc9a",
   "metadata": {},
   "source": [
    "---\n",
    "### Slicing\n",
    "\n",
    "- slicing: retrieve (not necessarily contiguous) sublists\n",
    "- slice notation: \\[start:end:stride\\]\n",
    "- if any of these are not provided, python defaults to\n",
    "    - start = 0\n",
    "    - end = length of list\n",
    "    - stride = 1\n",
    "\n"
   ]
  },
  {
   "cell_type": "code",
   "execution_count": null,
   "id": "33bda041",
   "metadata": {},
   "outputs": [],
   "source": [
    "x = list(range(10))\n",
    "print(x)\n",
    "\n",
    "# print everything but the first element\n",
    "print(x[1:])\n",
    "# print everything but the last element\n",
    "print(x[:-1])\n",
    "# print elements at index 2 and 3\n",
    "print(x[2:4]) "
   ]
  },
  {
   "cell_type": "code",
   "execution_count": 43,
   "id": "24d84bb6",
   "metadata": {},
   "outputs": [
    {
     "name": "stdout",
     "output_type": "stream",
     "text": [
      "[1, 3]\n",
      "[3, 2, 1]\n",
      "[1, 2, 3]\n"
     ]
    }
   ],
   "source": [
    "# print every other element (start at index 0, increment by  2)\n",
    "print(x[::2])\n",
    "# print elements in reverse (start at index 0, decrement by 1)\n",
    "print(x[::-1])\n",
    "# print everything\n",
    "print(x[::])"
   ]
  },
  {
   "cell_type": "markdown",
   "id": "3156c36b",
   "metadata": {},
   "source": [
    "### Loop over a list"
   ]
  },
  {
   "cell_type": "code",
   "execution_count": 44,
   "id": "900f6b72",
   "metadata": {
    "lines_to_next_cell": 2
   },
   "outputs": [
    {
     "name": "stdout",
     "output_type": "stream",
     "text": [
      "tic\n",
      "tac\n",
      "toe\n"
     ]
    }
   ],
   "source": [
    "\n",
    "for x in ['tic', 'tac', 'toe']:\n",
    "    print(x)"
   ]
  },
  {
   "cell_type": "markdown",
   "id": "e9d918a3",
   "metadata": {},
   "source": [
    "## dictionary"
   ]
  },
  {
   "cell_type": "markdown",
   "id": "d999e1d2",
   "metadata": {},
   "source": [
    "### Construction"
   ]
  },
  {
   "cell_type": "code",
   "execution_count": 45,
   "id": "4913f250",
   "metadata": {},
   "outputs": [
    {
     "name": "stdout",
     "output_type": "stream",
     "text": [
      "{}\n",
      "{'J': 11, 'Q': 12, 'K': 13}\n"
     ]
    }
   ],
   "source": [
    "card_ranks = {}\n",
    "print(card_ranks)\n",
    "card_ranks = {'J': 11, 'Q': 12, 'K': 13}  \n",
    "print(card_ranks)"
   ]
  },
  {
   "cell_type": "code",
   "execution_count": 46,
   "id": "24db66d9",
   "metadata": {},
   "outputs": [
    {
     "name": "stdout",
     "output_type": "stream",
     "text": [
      "{'name': 'alex'}\n"
     ]
    }
   ],
   "source": [
    "# keys would be int/float/boolean/string\n",
    "l = {}\n",
    "l['name'] = 'alex'\n",
    "print(l)"
   ]
  },
  {
   "cell_type": "code",
   "execution_count": 47,
   "id": "48eac960",
   "metadata": {},
   "outputs": [
    {
     "ename": "TypeError",
     "evalue": "unhashable type: 'list'",
     "output_type": "error",
     "traceback": [
      "\u001b[1;31m---------------------------------------------------------------------------\u001b[0m",
      "\u001b[1;31mTypeError\u001b[0m                                 Traceback (most recent call last)",
      "\u001b[1;32m~\\AppData\\Local\\Temp\\ipykernel_22508\\1165783142.py\u001b[0m in \u001b[0;36m<cell line: 1>\u001b[1;34m()\u001b[0m\n\u001b[1;32m----> 1\u001b[1;33m \u001b[0ml\u001b[0m\u001b[1;33m[\u001b[0m\u001b[1;33m[\u001b[0m\u001b[1;36m0\u001b[0m\u001b[1;33m,\u001b[0m \u001b[1;36m1\u001b[0m\u001b[1;33m,\u001b[0m \u001b[1;36m3\u001b[0m\u001b[1;33m]\u001b[0m\u001b[1;33m]\u001b[0m \u001b[1;33m=\u001b[0m \u001b[1;36m0\u001b[0m\u001b[1;33m\u001b[0m\u001b[1;33m\u001b[0m\u001b[0m\n\u001b[0m",
      "\u001b[1;31mTypeError\u001b[0m: unhashable type: 'list'"
     ]
    }
   ],
   "source": [
    "l[[0, 1, 3]] = 0"
   ]
  },
  {
   "cell_type": "markdown",
   "id": "63b2fc9e",
   "metadata": {},
   "source": [
    "### Index by keys"
   ]
  },
  {
   "cell_type": "code",
   "execution_count": 48,
   "id": "15b6adf3",
   "metadata": {},
   "outputs": [
    {
     "data": {
      "text/plain": [
       "11"
      ]
     },
     "execution_count": 48,
     "metadata": {},
     "output_type": "execute_result"
    }
   ],
   "source": [
    "card_ranks = {'J': 11, 'Q': 12, 'K': 13}  \n",
    "card_ranks['J']"
   ]
  },
  {
   "cell_type": "markdown",
   "id": "03894432",
   "metadata": {},
   "source": [
    "### Insert and delete"
   ]
  },
  {
   "cell_type": "code",
   "execution_count": 49,
   "id": "1c52a8c3",
   "metadata": {},
   "outputs": [
    {
     "name": "stdout",
     "output_type": "stream",
     "text": [
      "{'J': 11, 'Q': 12, 'K': 13, 'A': 14, 10: 10}\n"
     ]
    }
   ],
   "source": [
    "card_ranks = {'J': 11, 'Q': 12, 'K': 13}  \n",
    "\n",
    "# insert by keys\n",
    "card_ranks['A'] = 14\n",
    "card_ranks[10] = 10  \n",
    "\n",
    "print(card_ranks)"
   ]
  },
  {
   "cell_type": "code",
   "execution_count": 50,
   "id": "cfba6074",
   "metadata": {},
   "outputs": [
    {
     "name": "stdout",
     "output_type": "stream",
     "text": [
      "{'J': 11, 'Q': 12, 'K': 13, 'A': 14}\n"
     ]
    }
   ],
   "source": [
    "# deletion by keys\n",
    "del card_ranks[10]  \n",
    "print(card_ranks)"
   ]
  },
  {
   "cell_type": "markdown",
   "id": "8b808fdb",
   "metadata": {},
   "source": [
    "### Containment"
   ]
  },
  {
   "cell_type": "code",
   "execution_count": 51,
   "id": "df92af5d",
   "metadata": {},
   "outputs": [
    {
     "data": {
      "text/plain": [
       "True"
      ]
     },
     "execution_count": 51,
     "metadata": {},
     "output_type": "execute_result"
    }
   ],
   "source": [
    "# key in dict\n",
    "card_ranks = {'J': 11, 'Q': 12, 'K': 13}  \n",
    "'J' in card_ranks"
   ]
  },
  {
   "cell_type": "markdown",
   "id": "9b960755",
   "metadata": {},
   "source": [
    "### Length of a dict"
   ]
  },
  {
   "cell_type": "code",
   "execution_count": 52,
   "id": "eef2eaab",
   "metadata": {},
   "outputs": [
    {
     "data": {
      "text/plain": [
       "3"
      ]
     },
     "execution_count": 52,
     "metadata": {},
     "output_type": "execute_result"
    }
   ],
   "source": [
    "card_ranks = {'J': 11, 'Q': 12, 'K': 13}  \n",
    "card_ranks.__len__()"
   ]
  },
  {
   "cell_type": "code",
   "execution_count": 53,
   "id": "9e453a87",
   "metadata": {},
   "outputs": [
    {
     "data": {
      "text/plain": [
       "3"
      ]
     },
     "execution_count": 53,
     "metadata": {},
     "output_type": "execute_result"
    }
   ],
   "source": [
    "len(card_ranks)"
   ]
  },
  {
   "cell_type": "markdown",
   "id": "784e67b1",
   "metadata": {},
   "source": [
    "### Obtain keys and values"
   ]
  },
  {
   "cell_type": "code",
   "execution_count": 54,
   "id": "f135c7dd",
   "metadata": {},
   "outputs": [
    {
     "data": {
      "text/plain": [
       "dict_keys(['J', 'Q', 'K'])"
      ]
     },
     "execution_count": 54,
     "metadata": {},
     "output_type": "execute_result"
    }
   ],
   "source": [
    "card_ranks = {'J': 11, 'Q': 12, 'K': 13}  \n",
    "card_ranks.keys()"
   ]
  },
  {
   "cell_type": "code",
   "execution_count": 55,
   "id": "ef6204d0",
   "metadata": {},
   "outputs": [
    {
     "data": {
      "text/plain": [
       "dict_values([11, 12, 13])"
      ]
     },
     "execution_count": 55,
     "metadata": {},
     "output_type": "execute_result"
    }
   ],
   "source": [
    "card_ranks.values()"
   ]
  },
  {
   "cell_type": "markdown",
   "id": "88cc5481",
   "metadata": {},
   "source": [
    "### Loop over a dict\n"
   ]
  },
  {
   "cell_type": "code",
   "execution_count": 56,
   "id": "85c9e8d5",
   "metadata": {},
   "outputs": [
    {
     "name": "stdout",
     "output_type": "stream",
     "text": [
      "gallahad\n",
      "robin\n"
     ]
    }
   ],
   "source": [
    "\n",
    "knights = {'gallahad': 'the pure', 'robin': 'the brave'}\n",
    "for k in knights:         # only keys\n",
    "    print(k)"
   ]
  },
  {
   "cell_type": "code",
   "execution_count": 57,
   "id": "14252591",
   "metadata": {
    "lines_to_next_cell": 2
   },
   "outputs": [
    {
     "name": "stdout",
     "output_type": "stream",
     "text": [
      "gallahad the pure\n",
      "robin the brave\n"
     ]
    }
   ],
   "source": [
    "\n",
    "for k, v in knights.items():         # key-value pairs\n",
    "    print(k, v)"
   ]
  },
  {
   "cell_type": "markdown",
   "id": "2e554a44",
   "metadata": {},
   "source": [
    "## string\n",
    "\n",
    "A string is an immutable lists of characters.\n",
    "(There is no a type of character implicitly. A character is a string with a single literal).\n",
    "\n",
    "A string starts and ends with single/double quotes.\n",
    "They must be paired!"
   ]
  },
  {
   "cell_type": "code",
   "execution_count": 58,
   "id": "4a9ac55c",
   "metadata": {},
   "outputs": [
    {
     "name": "stdout",
     "output_type": "stream",
     "text": [
      "hello world!\n"
     ]
    }
   ],
   "source": [
    "s1 = 'hello'\n",
    "s2 = \"world!\"\n",
    "print(s1, s2)"
   ]
  },
  {
   "cell_type": "markdown",
   "id": "bcd913ec",
   "metadata": {},
   "source": [
    "If ' or \" is needed as a raw literal, e.g. *No, it isn't.*, use the quotes \n",
    "- with a escape sign \\ (backslash)\n",
    "- by mixing \" and '"
   ]
  },
  {
   "cell_type": "code",
   "execution_count": 59,
   "id": "47690294",
   "metadata": {},
   "outputs": [
    {
     "name": "stdout",
     "output_type": "stream",
     "text": [
      "No, it isn't. \n",
      "No, it isn't. \n"
     ]
    }
   ],
   "source": [
    "s1 = 'No, it isn\\'t. '\n",
    "print(s1)\n",
    "\n",
    "s2 = \"No, it isn't. \"\n",
    "print(s2)"
   ]
  },
  {
   "cell_type": "markdown",
   "id": "ffe70e7a",
   "metadata": {},
   "source": [
    "### string behaves like a list"
   ]
  },
  {
   "cell_type": "code",
   "execution_count": 60,
   "id": "605eedef",
   "metadata": {},
   "outputs": [
    {
     "name": "stdout",
     "output_type": "stream",
     "text": [
      "ban\n"
     ]
    }
   ],
   "source": [
    "fruit = \"banana\"\n",
    "# same slicing operations\n",
    "print(fruit[0:3:])"
   ]
  },
  {
   "cell_type": "code",
   "execution_count": 61,
   "id": "226cc03b",
   "metadata": {},
   "outputs": [
    {
     "name": "stdout",
     "output_type": "stream",
     "text": [
      "b\n",
      "a\n",
      "n\n",
      "a\n",
      "n\n",
      "a\n"
     ]
    }
   ],
   "source": [
    "# same looping operations\n",
    "for c in fruit:\n",
    "    print(c)\n"
   ]
  },
  {
   "cell_type": "markdown",
   "id": "0a2e9e78",
   "metadata": {},
   "source": [
    "### string concatenation\n",
    "\n",
    "- String literals are concatenated with whitespaces\n",
    "- String variables are concatenated with +\n",
    "- Repeat string with *\n"
   ]
  },
  {
   "cell_type": "code",
   "execution_count": 62,
   "id": "fe9f62ca",
   "metadata": {},
   "outputs": [
    {
     "name": "stdout",
     "output_type": "stream",
     "text": [
      "Helloworld!\n"
     ]
    }
   ],
   "source": [
    "s1 = 'Hello' 'world!'\n",
    "print(s1)"
   ]
  },
  {
   "cell_type": "code",
   "execution_count": 63,
   "id": "aaf0d8e4",
   "metadata": {},
   "outputs": [
    {
     "name": "stdout",
     "output_type": "stream",
     "text": [
      "Helloworld!\n"
     ]
    }
   ],
   "source": [
    "s1 = 'Hello' + 'world!'\n",
    "print(s1)"
   ]
  },
  {
   "cell_type": "code",
   "execution_count": 64,
   "id": "12e0280f",
   "metadata": {},
   "outputs": [
    {
     "name": "stdout",
     "output_type": "stream",
     "text": [
      "abcabcabcabcabc\n"
     ]
    }
   ],
   "source": [
    "s2 = 'abc' * 5\n",
    "print(s2)"
   ]
  },
  {
   "cell_type": "markdown",
   "id": "6f178b82",
   "metadata": {},
   "source": [
    "### Manipulations\n",
    "\n",
    "- split()\n",
    "- join()"
   ]
  },
  {
   "cell_type": "code",
   "execution_count": 65,
   "id": "d81680f4",
   "metadata": {},
   "outputs": [
    {
     "data": {
      "text/plain": [
       "['The', 'quick', 'red', 'fox', 'jumped', 'over', 'the', 'lazy', 'brown', 'dog']"
      ]
     },
     "execution_count": 65,
     "metadata": {},
     "output_type": "execute_result"
    }
   ],
   "source": [
    "s1 = \"The quick red fox jumped over the lazy brown dog\"\n",
    "s1.split() # the default delimiter is ' ' (a white spalce)"
   ]
  },
  {
   "cell_type": "code",
   "execution_count": 66,
   "id": "8f90184c",
   "metadata": {},
   "outputs": [
    {
     "data": {
      "text/plain": [
       "['123', '456', '7890']"
      ]
     },
     "execution_count": 66,
     "metadata": {},
     "output_type": "execute_result"
    }
   ],
   "source": [
    "s1 = \"123-456-7890\"\n",
    "s1.split('-')"
   ]
  },
  {
   "cell_type": "code",
   "execution_count": 67,
   "id": "b88f2ebc",
   "metadata": {},
   "outputs": [
    {
     "name": "stdout",
     "output_type": "stream",
     "text": [
      "Help on method_descriptor:\n",
      "\n",
      "join(self, iterable, /)\n",
      "    Concatenate any number of strings.\n",
      "    \n",
      "    The string whose method is called is inserted in between each given string.\n",
      "    The result is returned as a new string.\n",
      "    \n",
      "    Example: '.'.join(['ab', 'pq', 'rs']) -> 'ab.pq.rs'\n",
      "\n"
     ]
    }
   ],
   "source": [
    "# join(): concatenate strings with the given delimiter\n",
    "\n",
    "help(str.join)"
   ]
  },
  {
   "cell_type": "code",
   "execution_count": 68,
   "id": "7fb600dc",
   "metadata": {},
   "outputs": [
    {
     "data": {
      "text/plain": [
       "'ab#pq#rs'"
      ]
     },
     "execution_count": 68,
     "metadata": {},
     "output_type": "execute_result"
    }
   ],
   "source": [
    "'#'.join(['ab', 'pq', 'rs']) "
   ]
  },
  {
   "cell_type": "markdown",
   "id": "3398900f",
   "metadata": {},
   "source": [
    "---\n",
    "### string formatting - create nicer output in Python"
   ]
  },
  {
   "cell_type": "code",
   "execution_count": 69,
   "id": "95938770",
   "metadata": {},
   "outputs": [
    {
     "name": "stdout",
     "output_type": "stream",
     "text": [
      "1 2.5 hello\n"
     ]
    }
   ],
   "source": [
    "# comma-separated style\n",
    "print(1, 2.5, 'hello')"
   ]
  },
  {
   "cell_type": "code",
   "execution_count": 70,
   "id": "e0954483",
   "metadata": {},
   "outputs": [
    {
     "name": "stdout",
     "output_type": "stream",
     "text": [
      "1$2.5$hello\n"
     ]
    }
   ],
   "source": [
    "# All the values are separated by blanks. \n",
    "# We can change the default value to an arbitrary string.\n",
    "print(1, 2.5, 'hello', sep = '$')"
   ]
  },
  {
   "cell_type": "code",
   "execution_count": 71,
   "id": "ee3acdfd",
   "metadata": {},
   "outputs": [
    {
     "name": "stdout",
     "output_type": "stream",
     "text": [
      "Hello, alex\n",
      "Hello, alex. This is bob\n"
     ]
    }
   ],
   "source": [
    "# c style / printf-style\n",
    "name1 = 'alex'\n",
    "name2 = 'bob'\n",
    "print('Hello, %s' % name1)\n",
    "print('Hello, %s. This is %s' % (name1, name2) )"
   ]
  },
  {
   "cell_type": "code",
   "execution_count": 72,
   "id": "a2403937",
   "metadata": {},
   "outputs": [
    {
     "name": "stdout",
     "output_type": "stream",
     "text": [
      "11.200 is a float number\n"
     ]
    }
   ],
   "source": [
    "print('%0.3f is a float number'%11.2)"
   ]
  },
  {
   "cell_type": "code",
   "execution_count": 73,
   "id": "9abfebf7",
   "metadata": {},
   "outputs": [
    {
     "name": "stdout",
     "output_type": "stream",
     "text": [
      "Hello, alex. This is bob\n"
     ]
    }
   ],
   "source": [
    "# new format-style\n",
    "name1 = 'alex'\n",
    "name2 = 'bob'\n",
    "print('Hello, {}. This is {}'.format(name1, name2))"
   ]
  },
  {
   "cell_type": "code",
   "execution_count": 74,
   "id": "77c3e148",
   "metadata": {},
   "outputs": [
    {
     "name": "stdout",
     "output_type": "stream",
     "text": [
      "2.5 + 3.6 = 6.200\n"
     ]
    }
   ],
   "source": [
    "# formatting the number\n",
    "print('2.5 + 3.6 = {:0.3f}'.format(2.6 + 3.6))"
   ]
  },
  {
   "cell_type": "code",
   "execution_count": 75,
   "id": "ec7656d0",
   "metadata": {},
   "outputs": [
    {
     "data": {
      "text/plain": [
       "'Hello, alex. This is bob'"
      ]
     },
     "execution_count": 75,
     "metadata": {},
     "output_type": "execute_result"
    }
   ],
   "source": [
    "# f-string for Python 3.6+\n",
    "name1 = 'alex'\n",
    "name2 = 'bob'\n",
    "f'Hello, {name1}. This is {name2}'"
   ]
  }
 ],
 "metadata": {
  "jupytext": {
   "cell_metadata_filter": "-all",
   "main_language": "python"
  },
  "kernelspec": {
   "display_name": "Python 3 (ipykernel)",
   "language": "python",
   "name": "python3"
  },
  "language_info": {
   "codemirror_mode": {
    "name": "ipython",
    "version": 3
   },
   "file_extension": ".py",
   "mimetype": "text/x-python",
   "name": "python",
   "nbconvert_exporter": "python",
   "pygments_lexer": "ipython3",
   "version": "3.9.12"
  },
  "toc": {
   "base_numbering": 1,
   "nav_menu": {},
   "number_sections": true,
   "sideBar": true,
   "skip_h1_title": false,
   "title_cell": "Table of Contents",
   "title_sidebar": "Contents",
   "toc_cell": false,
   "toc_position": {},
   "toc_section_display": true,
   "toc_window_display": true
  }
 },
 "nbformat": 4,
 "nbformat_minor": 5
}
