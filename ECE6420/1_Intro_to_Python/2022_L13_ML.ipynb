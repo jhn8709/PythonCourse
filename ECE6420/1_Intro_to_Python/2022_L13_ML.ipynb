{
 "cells": [
  {
   "cell_type": "markdown",
   "id": "e839347a",
   "metadata": {},
   "source": [
    "\n",
    "# NumPy\n"
   ]
  },
  {
   "cell_type": "code",
   "execution_count": 1,
   "id": "45575e35",
   "metadata": {},
   "outputs": [],
   "source": [
    "import numpy as np"
   ]
  },
  {
   "cell_type": "markdown",
   "id": "2938bfb0",
   "metadata": {},
   "source": [
    "## Create an `array`"
   ]
  },
  {
   "cell_type": "markdown",
   "id": "d9062fb7",
   "metadata": {},
   "source": [
    "### Convert a list to an array"
   ]
  },
  {
   "cell_type": "code",
   "execution_count": 2,
   "id": "29a1722b",
   "metadata": {},
   "outputs": [],
   "source": [
    "# always import the numpy package\n",
    "import numpy as np"
   ]
  },
  {
   "cell_type": "code",
   "execution_count": 3,
   "id": "9985fd57",
   "metadata": {},
   "outputs": [
    {
     "name": "stdout",
     "output_type": "stream",
     "text": [
      "[0 1]\n"
     ]
    }
   ],
   "source": [
    "# 1-D array\n",
    "arr_1D = np.array([0, 1])\n",
    "print(arr_1D)"
   ]
  },
  {
   "cell_type": "code",
   "execution_count": 4,
   "id": "7784c103",
   "metadata": {},
   "outputs": [
    {
     "name": "stdout",
     "output_type": "stream",
     "text": [
      "[[0 1]\n",
      " [2 3]\n",
      " [4 5]]\n"
     ]
    }
   ],
   "source": [
    "# 2-D array\n",
    "arr_2D = np.array([[0, 1], [2, 3], [4, 5]])\n",
    "print(arr_2D)"
   ]
  },
  {
   "cell_type": "code",
   "execution_count": 5,
   "id": "d37f82a3",
   "metadata": {},
   "outputs": [
    {
     "name": "stdout",
     "output_type": "stream",
     "text": [
      "[[[ 0  1]\n",
      "  [ 2  3]\n",
      "  [ 4  5]]\n",
      "\n",
      " [[10 11]\n",
      "  [12 13]\n",
      "  [14 15]]\n",
      "\n",
      " [[20 21]\n",
      "  [22 23]\n",
      "  [24 25]]\n",
      "\n",
      " [[30 31]\n",
      "  [32 33]\n",
      "  [34 35]]]\n"
     ]
    }
   ],
   "source": [
    "arr_3D = np.array([[[0, 1], [2, 3], [4, 5]], \n",
    "                   [[10, 11], [12, 13], [14, 15]],\n",
    "                   [[20, 21], [22, 23], [24, 25]],\n",
    "                   [[30, 31], [32, 33], [34, 35]]])\n",
    "print(arr_3D)"
   ]
  },
  {
   "cell_type": "markdown",
   "id": "1b17d32a",
   "metadata": {},
   "source": [
    "### Arrays of zeros/ones with the given shape"
   ]
  },
  {
   "cell_type": "code",
   "execution_count": 6,
   "id": "1af2c9ce",
   "metadata": {},
   "outputs": [
    {
     "data": {
      "text/plain": [
       "array([1.])"
      ]
     },
     "execution_count": 6,
     "metadata": {},
     "output_type": "execute_result"
    }
   ],
   "source": [
    "np.ones((1))"
   ]
  },
  {
   "cell_type": "code",
   "execution_count": 7,
   "id": "b53f44b6",
   "metadata": {},
   "outputs": [
    {
     "data": {
      "text/plain": [
       "array([[1., 1., 1.],\n",
       "       [1., 1., 1.]])"
      ]
     },
     "execution_count": 7,
     "metadata": {},
     "output_type": "execute_result"
    }
   ],
   "source": [
    "np.ones((2, 3))"
   ]
  },
  {
   "cell_type": "markdown",
   "id": "79b2ef5e",
   "metadata": {},
   "source": [
    "### Random arrays with the given dimensions"
   ]
  },
  {
   "cell_type": "code",
   "execution_count": 8,
   "id": "c1fe2881",
   "metadata": {},
   "outputs": [
    {
     "data": {
      "text/plain": [
       "array([[0.4061076 , 0.69946972, 0.10549862],\n",
       "       [0.80394459, 0.436098  , 0.31817724]])"
      ]
     },
     "execution_count": 8,
     "metadata": {},
     "output_type": "execute_result"
    }
   ],
   "source": [
    "np.random.rand(2, 3)"
   ]
  },
  {
   "cell_type": "code",
   "execution_count": 9,
   "id": "ea5eaf34",
   "metadata": {},
   "outputs": [
    {
     "data": {
      "text/plain": [
       "array([[6, 2, 0],\n",
       "       [8, 3, 4]])"
      ]
     },
     "execution_count": 9,
     "metadata": {},
     "output_type": "execute_result"
    }
   ],
   "source": [
    "np.random.randint(0, 10, size=(2, 3))  # size is a tuple"
   ]
  },
  {
   "cell_type": "markdown",
   "id": "72957b53",
   "metadata": {},
   "source": [
    "---"
   ]
  },
  {
   "cell_type": "markdown",
   "id": "8c1ba6a5",
   "metadata": {},
   "source": [
    "## `ndarray` Operators"
   ]
  },
  {
   "cell_type": "markdown",
   "id": "c21908a3",
   "metadata": {},
   "source": [
    "### indexing"
   ]
  },
  {
   "cell_type": "code",
   "execution_count": 10,
   "id": "f94de932",
   "metadata": {},
   "outputs": [],
   "source": [
    "arr = np.random.randint(0, 10, size=(5, 5))"
   ]
  },
  {
   "cell_type": "code",
   "execution_count": 11,
   "id": "68297fd9",
   "metadata": {},
   "outputs": [
    {
     "data": {
      "text/plain": [
       "array([[7, 4, 5, 1, 5],\n",
       "       [8, 8, 6, 2, 0],\n",
       "       [5, 4, 2, 8, 3],\n",
       "       [4, 3, 8, 6, 1],\n",
       "       [7, 2, 1, 6, 5]])"
      ]
     },
     "execution_count": 11,
     "metadata": {},
     "output_type": "execute_result"
    }
   ],
   "source": [
    "arr"
   ]
  },
  {
   "cell_type": "code",
   "execution_count": 12,
   "id": "e05adea6",
   "metadata": {},
   "outputs": [
    {
     "data": {
      "text/plain": [
       "6"
      ]
     },
     "execution_count": 12,
     "metadata": {},
     "output_type": "execute_result"
    }
   ],
   "source": [
    "arr[1][2]"
   ]
  },
  {
   "cell_type": "code",
   "execution_count": 13,
   "id": "36b62ed8",
   "metadata": {},
   "outputs": [
    {
     "data": {
      "text/plain": [
       "array([8, 8, 6, 2, 0])"
      ]
     },
     "execution_count": 13,
     "metadata": {},
     "output_type": "execute_result"
    }
   ],
   "source": [
    "# break down the index\n",
    "temp_arr = arr[1]\n",
    "temp_arr"
   ]
  },
  {
   "cell_type": "code",
   "execution_count": 14,
   "id": "03102e2d",
   "metadata": {},
   "outputs": [
    {
     "data": {
      "text/plain": [
       "6"
      ]
     },
     "execution_count": 14,
     "metadata": {},
     "output_type": "execute_result"
    }
   ],
   "source": [
    "temp_arr[2]"
   ]
  },
  {
   "cell_type": "code",
   "execution_count": 15,
   "id": "93413d1a",
   "metadata": {},
   "outputs": [
    {
     "data": {
      "text/plain": [
       "6"
      ]
     },
     "execution_count": 15,
     "metadata": {},
     "output_type": "execute_result"
    }
   ],
   "source": [
    "# a more efficient way:\n",
    "# no need to separate each dimension's index into its iwn set of square brackets\n",
    "arr[1, 2]"
   ]
  },
  {
   "cell_type": "markdown",
   "id": "658ea901",
   "metadata": {},
   "source": [
    "### slicing"
   ]
  },
  {
   "cell_type": "code",
   "execution_count": 16,
   "id": "2adf6a9d",
   "metadata": {},
   "outputs": [
    {
     "data": {
      "text/plain": [
       "array([[7, 4, 5, 1],\n",
       "       [8, 8, 6, 2],\n",
       "       [5, 4, 2, 8]])"
      ]
     },
     "execution_count": 16,
     "metadata": {},
     "output_type": "execute_result"
    }
   ],
   "source": [
    "arr[:3, :4]"
   ]
  },
  {
   "cell_type": "code",
   "execution_count": 17,
   "id": "1042b338",
   "metadata": {},
   "outputs": [
    {
     "data": {
      "text/plain": [
       "array([[4, 3, 8, 6],\n",
       "       [7, 2, 1, 6]])"
      ]
     },
     "execution_count": 17,
     "metadata": {},
     "output_type": "execute_result"
    }
   ],
   "source": [
    "arr[-2:, :4]"
   ]
  },
  {
   "cell_type": "markdown",
   "id": "a4da17ec",
   "metadata": {},
   "source": [
    "### assignment"
   ]
  },
  {
   "cell_type": "code",
   "execution_count": 18,
   "id": "8e848bb5",
   "metadata": {},
   "outputs": [
    {
     "data": {
      "text/plain": [
       "array([[0, 0, 5, 1, 5],\n",
       "       [0, 0, 6, 2, 0],\n",
       "       [5, 4, 2, 8, 3],\n",
       "       [4, 3, 8, 6, 1],\n",
       "       [7, 2, 1, 6, 5]])"
      ]
     },
     "execution_count": 18,
     "metadata": {},
     "output_type": "execute_result"
    }
   ],
   "source": [
    "arr[:2, :2] = np.zeros((2, 2))\n",
    "arr"
   ]
  },
  {
   "cell_type": "code",
   "execution_count": 19,
   "id": "c32cae1f",
   "metadata": {},
   "outputs": [
    {
     "name": "stdout",
     "output_type": "stream",
     "text": [
      "[[1 0 5 1 5]\n",
      " [0 0 6 2 0]\n",
      " [5 4 2 8 3]\n",
      " [4 3 8 6 1]\n",
      " [7 2 1 6 5]]\n"
     ]
    }
   ],
   "source": [
    "arr[0, 0] = 1  # assign an index\n",
    "print(arr)"
   ]
  },
  {
   "cell_type": "code",
   "execution_count": 20,
   "id": "614b828a",
   "metadata": {},
   "outputs": [
    {
     "data": {
      "text/plain": [
       "array([[2, 0, 5, 1, 5],\n",
       "       [2, 0, 6, 2, 0],\n",
       "       [5, 4, 2, 8, 3],\n",
       "       [4, 3, 8, 6, 1],\n",
       "       [7, 2, 1, 6, 5]])"
      ]
     },
     "execution_count": 20,
     "metadata": {},
     "output_type": "execute_result"
    }
   ],
   "source": [
    "arr[:2, 0] = [2, 2]  # assign a slicing\n",
    "arr"
   ]
  },
  {
   "cell_type": "markdown",
   "id": "6a4b99bf",
   "metadata": {},
   "source": [
    "### Aggregation operators"
   ]
  },
  {
   "cell_type": "code",
   "execution_count": 21,
   "id": "4e4c329a",
   "metadata": {},
   "outputs": [],
   "source": [
    "arr = np.random.randint(0, 100, size=(2, 3))"
   ]
  },
  {
   "cell_type": "code",
   "execution_count": 22,
   "id": "5512541c",
   "metadata": {},
   "outputs": [
    {
     "data": {
      "text/plain": [
       "array([[83, 11, 40],\n",
       "       [71, 74, 85]])"
      ]
     },
     "execution_count": 22,
     "metadata": {},
     "output_type": "execute_result"
    }
   ],
   "source": [
    "arr"
   ]
  },
  {
   "cell_type": "code",
   "execution_count": 23,
   "id": "e61e033e",
   "metadata": {},
   "outputs": [
    {
     "data": {
      "text/plain": [
       "(11, 85, 364)"
      ]
     },
     "execution_count": 23,
     "metadata": {},
     "output_type": "execute_result"
    }
   ],
   "source": [
    "arr.min(), arr.max(), arr.sum()"
   ]
  },
  {
   "cell_type": "code",
   "execution_count": 24,
   "id": "b73ebdc7",
   "metadata": {},
   "outputs": [
    {
     "data": {
      "text/plain": [
       "array([71, 11, 40])"
      ]
     },
     "execution_count": 24,
     "metadata": {},
     "output_type": "execute_result"
    }
   ],
   "source": [
    "arr.min(axis=0)"
   ]
  },
  {
   "cell_type": "markdown",
   "id": "8c84b646",
   "metadata": {},
   "source": [
    "## Vectorization\n",
    "\n",
    "Let's take a look at how to go about vectorizing code, and studying the benefits we get from it.\n",
    "\n",
    "### Arithmetic matrix operators"
   ]
  },
  {
   "cell_type": "code",
   "execution_count": 25,
   "id": "35423f13",
   "metadata": {},
   "outputs": [
    {
     "name": "stdout",
     "output_type": "stream",
     "text": [
      "[[5 6]\n",
      " [7 7]]\n",
      "[[9 4]\n",
      " [3 1]]\n",
      "[[1 3 9]\n",
      " [9 0 5]]\n"
     ]
    }
   ],
   "source": [
    "# addition\n",
    "arr_1 = np.random.randint(0, 10, (2, 2))\n",
    "arr_2 = np.random.randint(0, 10, (2, 2))\n",
    "arr_3 = np.random.randint(0, 10, (2, 3))\n",
    "\n",
    "print(arr_1)\n",
    "print(arr_2)\n",
    "print(arr_3)"
   ]
  },
  {
   "cell_type": "code",
   "execution_count": 26,
   "id": "46e22b01",
   "metadata": {},
   "outputs": [
    {
     "data": {
      "text/plain": [
       "array([[14, 10],\n",
       "       [10,  8]])"
      ]
     },
     "execution_count": 26,
     "metadata": {},
     "output_type": "execute_result"
    }
   ],
   "source": [
    "arr_1 + arr_2"
   ]
  },
  {
   "cell_type": "code",
   "execution_count": 27,
   "id": "c723790d",
   "metadata": {},
   "outputs": [
    {
     "data": {
      "text/plain": [
       "array([[18,  8],\n",
       "       [ 6,  2]])"
      ]
     },
     "execution_count": 27,
     "metadata": {},
     "output_type": "execute_result"
    }
   ],
   "source": [
    "2 * arr_2"
   ]
  },
  {
   "cell_type": "code",
   "execution_count": 28,
   "id": "589b7c4f",
   "metadata": {},
   "outputs": [
    {
     "data": {
      "text/plain": [
       "array([[45, 24],\n",
       "       [21,  7]])"
      ]
     },
     "execution_count": 28,
     "metadata": {},
     "output_type": "execute_result"
    }
   ],
   "source": [
    "# element-wise multiplication\n",
    "np.multiply(arr_1, arr_2)"
   ]
  },
  {
   "cell_type": "code",
   "execution_count": 29,
   "id": "6cdd8f79",
   "metadata": {},
   "outputs": [
    {
     "data": {
      "text/plain": [
       "array([[59, 15, 75],\n",
       "       [70, 21, 98]])"
      ]
     },
     "execution_count": 29,
     "metadata": {},
     "output_type": "execute_result"
    }
   ],
   "source": [
    "# dot product\n",
    "np.dot(arr_1, arr_3)"
   ]
  },
  {
   "cell_type": "markdown",
   "id": "97da923b",
   "metadata": {},
   "source": [
    "# Matplotlib\n",
    "\n",
    "## pyplot"
   ]
  },
  {
   "cell_type": "code",
   "execution_count": 30,
   "id": "4b680b0d",
   "metadata": {},
   "outputs": [],
   "source": [
    "import matplotlib.pyplot as plt\n",
    "%config InlineBackend.close_figures = False # Not close all figures at the end of each cell."
   ]
  },
  {
   "cell_type": "code",
   "execution_count": 31,
   "id": "616f6142",
   "metadata": {},
   "outputs": [
    {
     "data": {
      "text/plain": [
       "<Figure size 400x300 with 0 Axes>"
      ]
     },
     "metadata": {},
     "output_type": "display_data"
    }
   ],
   "source": [
    "plt.figure(figsize=(4, 3), dpi=100)\n",
    "plt.show()"
   ]
  },
  {
   "cell_type": "code",
   "execution_count": 32,
   "id": "c9a6b12a",
   "metadata": {},
   "outputs": [
    {
     "data": {
      "image/png": "[encoded data removed]",
      "text/plain": [
       "<Figure size 400x300 with 1 Axes>"
      ]
     },
     "metadata": {},
     "output_type": "display_data"
    }
   ],
   "source": [
    "plt.plot([1, 2, 3, 4], 'bo-')\n",
    "plt.show()"
   ]
  },
  {
   "cell_type": "code",
   "execution_count": 33,
   "id": "dd20ca38",
   "metadata": {},
   "outputs": [
    {
     "data": {
      "image/png": "[encoded data removed]",
      "text/plain": [
       "<Figure size 400x300 with 1 Axes>"
      ]
     },
     "metadata": {},
     "output_type": "display_data"
    }
   ],
   "source": [
    "plt.ylabel('y-label')\n",
    "plt.show()"
   ]
  },
  {
   "cell_type": "code",
   "execution_count": 34,
   "id": "a30e7496",
   "metadata": {},
   "outputs": [
    {
     "data": {
      "image/png": "[encoded data removed]",
      "text/plain": [
       "<Figure size 400x300 with 1 Axes>"
      ]
     },
     "metadata": {},
     "output_type": "display_data"
    }
   ],
   "source": [
    "plt.xlabel('x-label')\n",
    "plt.show()"
   ]
  },
  {
   "cell_type": "code",
   "execution_count": 35,
   "id": "214b7030",
   "metadata": {},
   "outputs": [
    {
     "data": {
      "image/png": "[encoded data removed]",
      "text/plain": [
       "<Figure size 400x300 with 1 Axes>"
      ]
     },
     "metadata": {},
     "output_type": "display_data"
    }
   ],
   "source": [
    "plt.title('title')\n",
    "plt.show()"
   ]
  },
  {
   "cell_type": "code",
   "execution_count": 36,
   "id": "ed3d3f57",
   "metadata": {},
   "outputs": [],
   "source": [
    "plt.close('all')"
   ]
  },
  {
   "cell_type": "code",
   "execution_count": 37,
   "id": "f03de28f",
   "metadata": {},
   "outputs": [
    {
     "data": {
      "text/plain": [
       "<Figure size 640x480 with 0 Axes>"
      ]
     },
     "metadata": {},
     "output_type": "display_data"
    }
   ],
   "source": [
    "plt.clf()  # Clear the current figure"
   ]
  },
  {
   "cell_type": "markdown",
   "id": "a8d55520",
   "metadata": {},
   "source": [
    "# Pandas DataFrames\n"
   ]
  },
  {
   "cell_type": "code",
   "execution_count": 41,
   "id": "c62ea03a",
   "metadata": {},
   "outputs": [
    {
     "data": {
      "text/html": [
       "<div>\n",
       "<style scoped>\n",
       "    .dataframe tbody tr th:only-of-type {\n",
       "        vertical-align: middle;\n",
       "    }\n",
       "\n",
       "    .dataframe tbody tr th {\n",
       "        vertical-align: top;\n",
       "    }\n",
       "\n",
       "    .dataframe thead th {\n",
       "        text-align: right;\n",
       "    }\n",
       "</style>\n",
       "<table border=\"1\" class=\"dataframe\">\n",
       "  <thead>\n",
       "    <tr style=\"text-align: right;\">\n",
       "      <th></th>\n",
       "      <th>column1</th>\n",
       "      <th>column2</th>\n",
       "    </tr>\n",
       "  </thead>\n",
       "  <tbody>\n",
       "    <tr>\n",
       "      <th>0</th>\n",
       "      <td>10</td>\n",
       "      <td>85</td>\n",
       "    </tr>\n",
       "    <tr>\n",
       "      <th>1</th>\n",
       "      <td>82</td>\n",
       "      <td>46</td>\n",
       "    </tr>\n",
       "    <tr>\n",
       "      <th>2</th>\n",
       "      <td>43</td>\n",
       "      <td>67</td>\n",
       "    </tr>\n",
       "  </tbody>\n",
       "</table>\n",
       "</div>"
      ],
      "text/plain": [
       "   column1  column2\n",
       "0       10       85\n",
       "1       82       46\n",
       "2       43       67"
      ]
     },
     "metadata": {},
     "output_type": "display_data"
    }
   ],
   "source": [
    "import pandas as pd\n",
    "\n",
    "# from dict of dicts/series\n",
    "mydict = {'column1': [10, 82, 43], 'column2': [85, 46, 67]}\n",
    "df1 = pd.DataFrame(mydict)\n",
    "display(df1)"
   ]
  },
  {
   "cell_type": "markdown",
   "id": "711d7e2f",
   "metadata": {},
   "source": [
    "## Adding columns\n"
   ]
  },
  {
   "cell_type": "code",
   "execution_count": 42,
   "id": "22868034",
   "metadata": {},
   "outputs": [
    {
     "data": {
      "text/html": [
       "<div>\n",
       "<style scoped>\n",
       "    .dataframe tbody tr th:only-of-type {\n",
       "        vertical-align: middle;\n",
       "    }\n",
       "\n",
       "    .dataframe tbody tr th {\n",
       "        vertical-align: top;\n",
       "    }\n",
       "\n",
       "    .dataframe thead th {\n",
       "        text-align: right;\n",
       "    }\n",
       "</style>\n",
       "<table border=\"1\" class=\"dataframe\">\n",
       "  <thead>\n",
       "    <tr style=\"text-align: right;\">\n",
       "      <th></th>\n",
       "      <th>column1</th>\n",
       "      <th>column2</th>\n",
       "      <th>new_column</th>\n",
       "    </tr>\n",
       "  </thead>\n",
       "  <tbody>\n",
       "    <tr>\n",
       "      <th>0</th>\n",
       "      <td>10</td>\n",
       "      <td>85</td>\n",
       "      <td>a</td>\n",
       "    </tr>\n",
       "    <tr>\n",
       "      <th>1</th>\n",
       "      <td>82</td>\n",
       "      <td>46</td>\n",
       "      <td>b</td>\n",
       "    </tr>\n",
       "    <tr>\n",
       "      <th>2</th>\n",
       "      <td>43</td>\n",
       "      <td>67</td>\n",
       "      <td>c</td>\n",
       "    </tr>\n",
       "  </tbody>\n",
       "</table>\n",
       "</div>"
      ],
      "text/plain": [
       "   column1  column2 new_column\n",
       "0       10       85          a\n",
       "1       82       46          b\n",
       "2       43       67          c"
      ]
     },
     "metadata": {},
     "output_type": "display_data"
    }
   ],
   "source": [
    "# adding Series\n",
    "df1['new_column'] = ['a', 'b', 'c']\n",
    "display(df1)"
   ]
  },
  {
   "cell_type": "markdown",
   "id": "b49af0c5",
   "metadata": {},
   "source": [
    "## Indexing DataFrame\n"
   ]
  },
  {
   "cell_type": "code",
   "execution_count": 43,
   "id": "94b52850",
   "metadata": {},
   "outputs": [
    {
     "data": {
      "text/plain": [
       "0    10\n",
       "1    82\n",
       "2    43\n",
       "Name: column1, dtype: int64"
      ]
     },
     "execution_count": 43,
     "metadata": {},
     "output_type": "execute_result"
    }
   ],
   "source": [
    "# index by column\n",
    "df1['column1']"
   ]
  },
  {
   "cell_type": "code",
   "execution_count": 44,
   "id": "5560405b",
   "metadata": {
    "lines_to_next_cell": 2
   },
   "outputs": [
    {
     "data": {
      "text/html": [
       "<div>\n",
       "<style scoped>\n",
       "    .dataframe tbody tr th:only-of-type {\n",
       "        vertical-align: middle;\n",
       "    }\n",
       "\n",
       "    .dataframe tbody tr th {\n",
       "        vertical-align: top;\n",
       "    }\n",
       "\n",
       "    .dataframe thead th {\n",
       "        text-align: right;\n",
       "    }\n",
       "</style>\n",
       "<table border=\"1\" class=\"dataframe\">\n",
       "  <thead>\n",
       "    <tr style=\"text-align: right;\">\n",
       "      <th></th>\n",
       "      <th>column1</th>\n",
       "      <th>column2</th>\n",
       "    </tr>\n",
       "  </thead>\n",
       "  <tbody>\n",
       "    <tr>\n",
       "      <th>0</th>\n",
       "      <td>10</td>\n",
       "      <td>85</td>\n",
       "    </tr>\n",
       "    <tr>\n",
       "      <th>1</th>\n",
       "      <td>82</td>\n",
       "      <td>46</td>\n",
       "    </tr>\n",
       "    <tr>\n",
       "      <th>2</th>\n",
       "      <td>43</td>\n",
       "      <td>67</td>\n",
       "    </tr>\n",
       "  </tbody>\n",
       "</table>\n",
       "</div>"
      ],
      "text/plain": [
       "   column1  column2\n",
       "0       10       85\n",
       "1       82       46\n",
       "2       43       67"
      ]
     },
     "execution_count": 44,
     "metadata": {},
     "output_type": "execute_result"
    }
   ],
   "source": [
    "# slice by column, zero-based\n",
    "df1.iloc[:, 0:2]"
   ]
  }
 ],
 "metadata": {
  "jupytext": {
   "cell_metadata_filter": "-all"
  },
  "kernelspec": {
   "display_name": "Python 3 (ipykernel)",
   "language": "python",
   "name": "python3"
  },
  "language_info": {
   "codemirror_mode": {
    "name": "ipython",
    "version": 3
   },
   "file_extension": ".py",
   "mimetype": "text/x-python",
   "name": "python",
   "nbconvert_exporter": "python",
   "pygments_lexer": "ipython3",
   "version": "3.9.12"
  }
 },
 "nbformat": 4,
 "nbformat_minor": 5
}
