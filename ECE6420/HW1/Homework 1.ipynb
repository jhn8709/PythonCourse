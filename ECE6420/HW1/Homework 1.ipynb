{
 "cells": [
  {
   "cell_type": "markdown",
   "id": "bf38968e",
   "metadata": {},
   "source": [
    "# Homework 1: Welcome to Python"
   ]
  },
  {
   "cell_type": "markdown",
   "id": "2ae2af1e",
   "metadata": {},
   "source": [
    "## Learning Objectives:\n",
    "\n",
    "* write Python code using variables and loops to solve simple mathematical problems\n",
    "* become familiar with Jupyter Notebook and running Python programs\n",
    "* gain practice printing results to match a specification exactly\n",
    "\n",
    "\n",
    "You will make use of all of these skills throughout the semester!\n",
    "Python is an easy-to-use but powerful programming language that is particularly well-suited to quickly creating small programs.\n",
    "\n",
    "**Note:** you should **NOT** post any of your code on the internet or let other students see your code. If you have questions or problems with your code, try sending an email to staff, or attending office hours.\n",
    "\n",
    "For problems in this homework, you will edit this notebook only. \n",
    "When you have completed this homework, running the whole notebook should obtain the answers and print the output.\n",
    "\n",
    "The python interpreter is a piece of software that can evaluate python expressions. One example of this is [Python Tutor](https://pythontutor.com/visualize.html#mode=edit)"
   ]
  },
  {
   "cell_type": "markdown",
   "id": "ec455ea6",
   "metadata": {},
   "source": [
    "# Materials\n",
    "\n",
    "\n",
    "## Problem 0: Python for Beginners (20 pts)\n",
    "You are expected to watch a video [👩‍💻 Python for Beginners Tutorial](https://www.youtube.com/watch?v=b093aqAZiPU) before starting Homework 1.\n",
    "\n",
    "Please type \"I have wacthed the video *Python for Beginners*\" in the following cell.\n",
    "\n",
    "Hint: For mastering Python programming, [Google's Python Introduction](https://developers.google.com/edu/python/introduction) is one of my favorite tutorials."
   ]
  },
  {
   "cell_type": "markdown",
   "id": "281a6d72",
   "metadata": {},
   "source": [
    "*Markdown*  $\\alpha^2$"
   ]
  },
  {
   "cell_type": "markdown",
   "id": "eaba7848",
   "metadata": {},
   "source": [
    "## Problem 1: Roots (10 pts)"
   ]
  },
  {
   "cell_type": "markdown",
   "id": "d886fcac",
   "metadata": {},
   "source": [
    "Compute and print both roots of the quadratic equation **with the smaller root first**: $$3 x^2-5.86 x+ 2.5408$$. You can assume neither answer will be a complex number.\n",
    "\n",
    "\n",
    "Hint: recall that the roots of a [quadratic equation](https://en.wikipedia.org/wiki/Quadratic_equation) $$ax^2+bx+c$$ are \n",
    "\n",
    "$$x=\\frac{-b \\pm \\sqrt{b^2 -4 ac} }{2a} $$\n",
    "      \n",
    "Hint: use the [math.sqrt](https://docs.python.org/3.7/library/math.html#math.sqrt) function to compute the square root. \n",
    "\n",
    "Hint: If you are using a particular value repeatedly, be sure to store it in a variable.\n",
    "\n"
   ]
  },
  {
   "cell_type": "code",
   "execution_count": 2,
   "id": "8fd1ba52",
   "metadata": {
    "deletable": false,
    "nbgrader": {
     "cell_type": "code",
     "checksum": "ea2d6cd35682ea2de8561d6acf28b584",
     "grade": true,
     "grade_id": "cell-d1d1717738f613c0",
     "locked": false,
     "points": 10,
     "schema_version": 3,
     "solution": true,
     "task": false
    }
   },
   "outputs": [
    {
     "name": "stdout",
     "output_type": "stream",
     "text": [
      "Root 1 is 0.6496430521608568, and root 2 is 1.3036902811724767\n"
     ]
    }
   ],
   "source": [
    "import math\n",
    "\n",
    "a = 3\n",
    "b = -5.86\n",
    "c = 2.5408\n",
    "\n",
    "root1, root2 = 0, 0\n",
    "\n",
    "# YOUR CODE HERE\n",
    "# raise NotImplementedError()\n",
    "root1 = (-b-math.sqrt(b**2-4*a*c))/(2*a)\n",
    "root2 = (-b+math.sqrt(b**2-4*a*c))/(2*a)\n",
    "print(f'Root 1 is {root1}, and root 2 is {root2}')"
   ]
  },
  {
   "cell_type": "markdown",
   "id": "05f2b25c",
   "metadata": {},
   "source": [
    "## Problem 2: Reciprocals (10 pts)"
   ]
  },
  {
   "cell_type": "markdown",
   "id": "2b08185f",
   "metadata": {},
   "source": [
    "Use a **for** loop to print the decimal representations of 1/2, 1/3, ..., 1/10, one on each line.\n",
    "\n",
    "Hint:What do you notice about how the loop is counting, and the denominator of the fractions?"
   ]
  },
  {
   "cell_type": "code",
   "execution_count": 7,
   "id": "f68df8e3",
   "metadata": {
    "deletable": false,
    "nbgrader": {
     "cell_type": "code",
     "checksum": "077121011525e29ac5b2cab3d1d2e8ba",
     "grade": true,
     "grade_id": "cell-94f8a9824dbc0cc7",
     "locked": false,
     "points": 10,
     "schema_version": 3,
     "solution": true,
     "task": false
    }
   },
   "outputs": [
    {
     "name": "stdout",
     "output_type": "stream",
     "text": [
      "0.5\n",
      "0.3333333333333333\n",
      "0.25\n",
      "0.2\n",
      "0.16666666666666666\n",
      "0.14285714285714285\n",
      "0.125\n",
      "0.1111111111111111\n",
      "0.1\n"
     ]
    }
   ],
   "source": [
    "# YOUR CODE HERE\n",
    "# raise NotImplementedError()\n",
    "for x in range(2, 11):\n",
    "    print(1/x)\n",
    "    \n"
   ]
  },
  {
   "cell_type": "markdown",
   "id": "c4297a4a",
   "metadata": {},
   "source": [
    "## Problem 3: Triangular numbers (10 pts)"
   ]
  },
  {
   "cell_type": "markdown",
   "id": "866bfd8f",
   "metadata": {},
   "source": [
    "Use a **for** loop to compute the 10th triangular number. The nth triangular number is defined as $$1+2+3+...+n$$. "
   ]
  },
  {
   "cell_type": "code",
   "execution_count": 12,
   "id": "35539d72",
   "metadata": {
    "deletable": false,
    "nbgrader": {
     "cell_type": "code",
     "checksum": "9df2e22d8d2aca10e2d02862d8e07a74",
     "grade": true,
     "grade_id": "cell-37738c475a25d138",
     "locked": false,
     "points": 10,
     "schema_version": 3,
     "solution": true,
     "task": false
    }
   },
   "outputs": [
    {
     "name": "stdout",
     "output_type": "stream",
     "text": [
      "Triangular number 10 via loop: 55\n",
      "Triangular number 10 via formula: 55.0\n"
     ]
    }
   ],
   "source": [
    "n = 10\n",
    "triangular = 0\n",
    "# YOUR CODE HERE\n",
    "# raise NotImplementedError()\n",
    "for x in range(1, 11):\n",
    "    triangular += x\n",
    "print(\"Triangular number\", n, \"via loop:\", triangular)\n",
    "print(\"Triangular number\", n, \"via formula:\", n * (n + 1) / 2)"
   ]
  },
  {
   "cell_type": "markdown",
   "id": "25118f1a",
   "metadata": {},
   "source": [
    "## Problem 4: Factorial (10 pts)"
   ]
  },
  {
   "cell_type": "markdown",
   "id": "36e6a271",
   "metadata": {},
   "source": [
    "Use a for loop to compute 10!, the factorial of 10. Recall that the factorial of n is 1×2×3×...×n. \n",
    "$\\color{red}{\\textbf{Note: you may not use the math.factorial() function for this problem or any other problem in this homework.}}$ \n",
    "$\\color{red}{\\textbf{You should also NOT use recursion.}}$ \n",
    "(If you do not know what that means, do not worry because you should not use it :-)]\n",
    "\n",
    "Hint: Your answer will be similar to your answer to \"Problem 3: Triangular numbers\".\n",
    "\n",
    "As in Problem 3, your code should be able to calculate 11!, 12!, or any other number's factorial just by changing the first line to set n to 11, 12, or any other number greater than 0. Be sure the code you submit calculates the factorial for n = 10."
   ]
  },
  {
   "cell_type": "code",
   "execution_count": 11,
   "id": "20e490b5",
   "metadata": {
    "deletable": false,
    "nbgrader": {
     "cell_type": "code",
     "checksum": "b6130da31a5001e0c05de349499b1251",
     "grade": true,
     "grade_id": "cell-1ab0bbe716603826",
     "locked": false,
     "points": 10,
     "schema_version": 3,
     "solution": true,
     "task": false
    }
   },
   "outputs": [
    {
     "name": "stdout",
     "output_type": "stream",
     "text": [
      "10!: 3628800\n"
     ]
    }
   ],
   "source": [
    "n = 10\n",
    "factorial = 1\n",
    "\n",
    "# YOUR CODE HERE\n",
    "# raise NotImplementedError()\n",
    "for x in range(1, 11):\n",
    "    factorial = factorial*x\n",
    "print(f'{n}!: {factorial}')"
   ]
  },
  {
   "cell_type": "markdown",
   "id": "979a30ee",
   "metadata": {},
   "source": [
    "## Problem 5: Multiple factorials (10 pts)"
   ]
  },
  {
   "cell_type": "markdown",
   "id": "8ccb228a",
   "metadata": {},
   "source": [
    "Write code to print the first 10 factorials, in reverse order. In other words, write code that prints 10!, then prints 9!, then prints 8!, ..., then prints 1!. Its literal output will be:"
   ]
  },
  {
   "cell_type": "code",
   "execution_count": null,
   "id": "be087049",
   "metadata": {
    "deletable": false,
    "nbgrader": {
     "cell_type": "code",
     "checksum": "1cbe97fdf5a54cbc2013510f17233f97",
     "grade": true,
     "grade_id": "cell-6bd52da18147b53c",
     "locked": false,
     "points": 10,
     "schema_version": 3,
     "solution": true,
     "task": false
    }
   },
   "outputs": [],
   "source": [
    "# YOUR CODE HERE\n",
    "# raise NotImplementedError()\n"
   ]
  },
  {
   "cell_type": "markdown",
   "id": "b1c6ad7b",
   "metadata": {},
   "source": [
    "The first line of your solution should assign a variable **num_lines** to 10. Then, as in Problems 3 and 4, the rest of the code should print the correct number of lines and correct factorial on each line for values other than 10 just by setting **num_lines** to a different value.\n",
    "\n",
    "Hint: Use two nested for loops.\n",
    "The outer loop sets the value of n to the values **num_lines, num_lines-1, num_lines-2, ..., 1**, in succession.\n",
    "Then, the body of that loop is itself a loop — exactly your solution to \"Problem 4: Factorial\", without the first line **n = 10** that hard-codes the value of n.\n",
    "\n",
    "Hint: All calculated factorials should be integers"
   ]
  },
  {
   "cell_type": "code",
   "execution_count": 3,
   "id": "b742c0f4",
   "metadata": {
    "deletable": false,
    "nbgrader": {
     "cell_type": "code",
     "checksum": "2497d42bc3efa0d8d74364f2cc2485d3",
     "grade": true,
     "grade_id": "cell-59791e9322aeb7f1",
     "locked": false,
     "points": 10,
     "schema_version": 3,
     "solution": true,
     "task": false
    }
   },
   "outputs": [
    {
     "name": "stdout",
     "output_type": "stream",
     "text": [
      "10!: 3628800\n",
      "9!: 362880\n",
      "8!: 40320\n",
      "7!: 5040\n",
      "6!: 720\n",
      "5!: 120\n",
      "4!: 24\n",
      "3!: 6\n",
      "2!: 2\n",
      "1!: 1\n"
     ]
    }
   ],
   "source": [
    "# YOUR CODE HERE\n",
    "# raise NotImplementedError()\n",
    "num_lines = 10\n",
    "factorial = 1\n",
    "for x in range(0,10):\n",
    "    for y in range(1, num_lines+1):\n",
    "        factorial = factorial * y\n",
    "    print(f'{num_lines}!: {factorial}')\n",
    "    factorial = 1\n",
    "    num_lines = num_lines - 1\n",
    "    "
   ]
  },
  {
   "cell_type": "markdown",
   "id": "f6ed9f71",
   "metadata": {},
   "source": [
    "## Problem 6: Sums of reciprocals of factorials (10 pts)"
   ]
  },
  {
   "cell_type": "markdown",
   "id": "b78bf1e4",
   "metadata": {},
   "source": [
    "Compute the following value:\n",
    "  1 + 1/1! + 1/2! + 1/3! + 1/4! + ... + 1/10!\n",
    "The value should be close to e (≈ 2.71828), the base of the natural logarithms.\n",
    "\n",
    "Like with the previous few problems, you should use a variable n = 10 to determine how many fractions to add. In theory, increasing this number should get you closer to the true value of e.\n",
    "\n",
    "Hint: The easiest way to solve this is with two nested for loops. It is possible, but tricky, to compute this using only one for loop. That is not necessary for this assignment.\n",
    "\n",
    "Hint: Copy your solution to \"Problem 5: Multiple factorials\", then modify it. Rather than printing the factorials, you will add their reciprocals to a running total, then print that total at the end.\n",
    "\n",
    "Hint: don't try to work the very first \"1 +\" into your loop; do it outside the loops (either at the very beginning or the very end of the outer loop)."
   ]
  },
  {
   "cell_type": "code",
   "execution_count": 26,
   "id": "25fc4a6c",
   "metadata": {
    "deletable": false,
    "nbgrader": {
     "cell_type": "code",
     "checksum": "cd624d5bf571394e44ba74f54c331af5",
     "grade": true,
     "grade_id": "cell-4526ff6c8261de85",
     "locked": false,
     "points": 10,
     "schema_version": 3,
     "solution": true,
     "task": false
    }
   },
   "outputs": [
    {
     "name": "stdout",
     "output_type": "stream",
     "text": [
      "Sum of factorials is 2.7182818011463845\n"
     ]
    }
   ],
   "source": [
    "# YOUR CODE HERE\n",
    "# raise NotImplementedError()\n",
    "sum = 1\n",
    "factorial = 1\n",
    "for x in range(1, 11):\n",
    "    factorial = factorial * x\n",
    "    sum += 1/factorial\n",
    "        \n",
    "    \n",
    "print(f'Sum of factorials is {sum}')"
   ]
  },
  {
   "cell_type": "markdown",
   "id": "c1e57a86",
   "metadata": {},
   "source": [
    "## Submit your work and answer a brief survey (20 pts)"
   ]
  },
  {
   "cell_type": "markdown",
   "id": "0f382f63",
   "metadata": {},
   "source": [
    "You are almost done!\n",
    "\n",
    "* Double-check that running your entire file produces the correct output for each problem in the assignment.\n",
    "* Submit your **ipynb** file at Canvas.\n",
    "* Answer a brief REQUIRED survey asking how much time you spent and other reflections on this assignment.\n",
    "\n",
    "Now you're done!"
   ]
  }
 ],
 "metadata": {
  "kernelspec": {
   "display_name": "Python 3 (ipykernel)",
   "language": "python",
   "name": "python3"
  },
  "language_info": {
   "codemirror_mode": {
    "name": "ipython",
    "version": 3
   },
   "file_extension": ".py",
   "mimetype": "text/x-python",
   "name": "python",
   "nbconvert_exporter": "python",
   "pygments_lexer": "ipython3",
   "version": "3.9.12"
  },
  "toc": {
   "base_numbering": 1,
   "nav_menu": {},
   "number_sections": true,
   "sideBar": true,
   "skip_h1_title": false,
   "title_cell": "Table of Contents",
   "title_sidebar": "Contents",
   "toc_cell": false,
   "toc_position": {},
   "toc_section_display": true,
   "toc_window_display": true
  }
 },
 "nbformat": 4,
 "nbformat_minor": 5
}
