{
 "cells": [
  {
   "cell_type": "markdown",
   "id": "733870d2",
   "metadata": {
    "id": "vHR1JqHOMRT1"
   },
   "source": [
    "# Homework 5.1: Logistic regression, hyperparameter optimization "
   ]
  },
  {
   "cell_type": "markdown",
   "id": "0b844b59",
   "metadata": {
    "id": "tTW89q0sMRT2"
   },
   "source": [
    "## Imports "
   ]
  },
  {
   "cell_type": "code",
   "execution_count": 1,
   "id": "46f20ff2",
   "metadata": {
    "id": "lliyIwrEMRT2"
   },
   "outputs": [],
   "source": [
    "import matplotlib.pyplot as plt\n",
    "import numpy as np\n",
    "import pandas as pd\n",
    "import os\n",
    "import gdown\n",
    "\n",
    "plt.rcParams[\"font.size\"] = 16\n",
    "\n",
    "from sklearn.dummy import DummyClassifier\n",
    "from sklearn.feature_extraction.text import CountVectorizer\n",
    "from sklearn.linear_model import LogisticRegression\n",
    "from sklearn.model_selection import (\n",
    "    GridSearchCV,\n",
    "    cross_val_score,\n",
    "    cross_validate,\n",
    "    train_test_split,\n",
    ")\n",
    "from sklearn.pipeline import Pipeline, make_pipeline\n",
    "from sklearn.tree import DecisionTreeClassifier"
   ]
  },
  {
   "cell_type": "markdown",
   "id": "8d070263",
   "metadata": {
    "id": "0nTc4JYaMRT3"
   },
   "source": [
    "## Exercise 1: implementing `DummyClassifier`\n",
    "<hr>\n",
    "rubric={points:25}\n",
    "\n",
    "You will implement the simplest possible classifier, `DummyClassifier`.\n",
    "\n",
    "As a reminder, `DummyClassifier` is meant as a baseline and is generally the worst possible \"model\" you could \"fit\" to a dataset. All it does is predict the most popular class in the training set. So if there are more label(0) than label(1) it predicts label(0) every time, and if there are more label(1) than label(0) it predicts label(1) every time. For `predict_proba` it looks at the frequencies in the training set, so if you have 30% label(0) 70% label(1) it predicts `[0.3 0.7]` every time. Thus, `fit` only looks at `y` (not `X`).\n",
    "\n",
    "Below you will find starter code for a class called `MyDummyClassifier`, which has methods `fit()`, `predict()`, `predict_proba()` and `score()`. Your task is to fill in those four functions. To get you started, I have given you a `return` statement in each case that returns the correct data type: `fit` can return nothing, `predict` returns an array whose size is the number of examples, `predict_proba` returns an array whose size is the number of examples x 2, and `score` returns a number.\n",
    "\n",
    "The next code block has some tests you can use to assess whether your code is working. \n",
    "\n",
    "I suggest starting with `fit` and `predict`, and making sure those are working before moving on to `predict_proba`. For `predict_proba`, you should return the frequency of each class in the training data, which is the behaviour of [`DummyClassifier(strategy='prior')`](https://scikit-learn.org/stable/modules/generated/sklearn.dummy.DummyClassifier.html?highlight=dummyclassifier+strategy+prior). Your `score` function should call your `predict` function. Again, you can compare with `DummyClassifier` using the code below.\n",
    "\n",
    "To simplify this question, you can assume **binary classification**, and furthermore that these classes are **encoded as 0 and 1**. In other words, you can assume that `y` contains only 0s and 1s. The real `DummyClassifier` works when you have more than two classes, and also works if the target values are encoded differently, for example as \"cat\", \"dog\", \"mouse\", etc."
   ]
  },
  {
   "cell_type": "code",
   "execution_count": 2,
   "id": "00aae64b",
   "metadata": {
    "deletable": false,
    "id": "0hqSNY5sMRT4",
    "nbgrader": {
     "cell_type": "code",
     "checksum": "c5ba10907af117c07f9337827dab440b",
     "grade": true,
     "grade_id": "cell-90012f81d1b59a0f",
     "locked": false,
     "points": 25,
     "schema_version": 3,
     "solution": true,
     "task": false
    }
   },
   "outputs": [],
   "source": [
    "class MyDummyClassifier:\n",
    "    \"\"\"\n",
    "    A baseline classifier that predicts the most common class.\n",
    "    The predicted probabilities come from the relative frequencies\n",
    "    of the classes in the training data.\n",
    "\n",
    "    This implementation only works when y only contains 0s and 1s.\n",
    "    \"\"\"\n",
    "    def __init__(self):\n",
    "        # BEGIN YOUR CODE HERE\n",
    "        self.count0 = 0\n",
    "        self.count1 = 0\n",
    "        self.freq0 = 0\n",
    "        self.freq1 = 0\n",
    "        self.total_data = 0\n",
    "        # END YOUR CODE HERE\n",
    "        return None\n",
    "        \n",
    "    def fit(self, X, y):\n",
    "        # BEGIN YOUR CODE HERE\n",
    "        self.count0 = np.count_nonzero(y==0)\n",
    "        self.count1 = np.count_nonzero(y==1)\n",
    "        self.total_data = len(y)\n",
    "        self.freq0 = self.count0/(float)(self.total_data)\n",
    "        self.freq1 = self.count1/(float)(self.total_data)\n",
    "        # END YOUR CODE HERE\n",
    "        return None\n",
    "\n",
    "\n",
    "    def predict(self, X):\n",
    "        # BEGIN YOUR CODE HERE\n",
    "        size_data = len(X)\n",
    "        predict_array = []\n",
    "        if self.count0 > self.count1:\n",
    "            predict_array = np.zeros(size_data, dtype = int)\n",
    "        else:\n",
    "            predict_array = np.ones(size_data, dtype = int)\n",
    "        \n",
    "        # END YOUR CODE HERE\n",
    "        return predict_array\n",
    "   \n",
    "\n",
    "    def predict_proba(self, X):\n",
    "        # BEGIN YOUR CODE HERE\n",
    "        size_data = len(X)\n",
    "        proba_array = []\n",
    "        # proba_array = np.array(proba_array, dtype=float)\n",
    "        for length in range(0, size_data):\n",
    "            proba_array.append([self.freq0,self.freq1])\n",
    "        # proba_array = zip(*proba_array)    \n",
    "        # print(proba_array)\n",
    "        # END YOUR CODE HERE\n",
    "        return proba_array\n",
    "\n",
    "\n",
    "    def score(self, X, y):\n",
    "        # BEGIN YOUR CODE HERE\n",
    "        value = []\n",
    "        value = self.predict(y)\n",
    "        size_data = len(y)\n",
    "        count = 0\n",
    "        for items in range(0,size_data):\n",
    "            if (value[items] == y[items]):\n",
    "                count+=1\n",
    "        score_value = count/(float)(size_data)        \n",
    "        print(score_value)\n",
    "            \n",
    "        \n",
    "        \n",
    "        # END YOUR CODE HERE\n",
    "        return score_value"
   ]
  },
  {
   "cell_type": "markdown",
   "id": "ff2ddb38",
   "metadata": {
    "id": "rJq_q0qiMRT4"
   },
   "source": [
    "Below are some tests for `predict` using randomly generated data. You may want to run the cell a few times to make sure you explore the different cases (or automate this with a loop or random seeds)."
   ]
  },
  {
   "cell_type": "code",
   "execution_count": 3,
   "id": "f8cf027f",
   "metadata": {
    "id": "7wvFcB5CMRT4"
   },
   "outputs": [
    {
     "name": "stdout",
     "output_type": "stream",
     "text": [
      "0.5148514851485149\n",
      "0.5714285714285714\n"
     ]
    }
   ],
   "source": [
    "# For testing, generate random data\n",
    "n_train = 101\n",
    "n_valid = 21\n",
    "d = 5\n",
    "X_train_dummy = np.random.randn(n_train, d)\n",
    "X_valid_dummy = np.random.randn(n_valid, d)\n",
    "y_train_dummy = np.random.randint(2, size=n_train)\n",
    "y_valid_dummy = np.random.randint(2, size=n_valid)\n",
    "\n",
    "my_dc = MyDummyClassifier()\n",
    "sk_dc = DummyClassifier(strategy=\"prior\")\n",
    "\n",
    "my_dc.fit(X_train_dummy, y_train_dummy)\n",
    "sk_dc.fit(X_train_dummy, y_train_dummy)\n",
    "\n",
    "#print(sk_dc.predict_proba(X_train_dummy))\n",
    "#print(sk_dc.predict_proba(X_valid_dummy))\n",
    "print(sk_dc.score(X_train_dummy, y_train_dummy))\n",
    "print(sk_dc.score(X_valid_dummy, y_valid_dummy))\n",
    "\n",
    "assert np.array_equal(my_dc.predict(X_train_dummy), sk_dc.predict(X_train_dummy))\n",
    "assert np.array_equal(my_dc.predict(X_valid_dummy), sk_dc.predict(X_valid_dummy))"
   ]
  },
  {
   "cell_type": "markdown",
   "id": "40f4255a",
   "metadata": {
    "id": "-AvhG5n5MRT5"
   },
   "source": [
    "Below are some tests for `predict_proba`."
   ]
  },
  {
   "cell_type": "code",
   "execution_count": 4,
   "id": "291ec9bd",
   "metadata": {
    "id": "v-05HEiIMRT5"
   },
   "outputs": [],
   "source": [
    "assert np.allclose(my_dc.predict_proba(X_train_dummy), sk_dc.predict_proba(X_train_dummy))\n",
    "assert np.allclose(my_dc.predict_proba(X_valid_dummy), sk_dc.predict_proba(X_valid_dummy))"
   ]
  },
  {
   "cell_type": "markdown",
   "id": "80b2a79d",
   "metadata": {
    "id": "wpQIVhQ3MRT5"
   },
   "source": [
    "Below are some tests for `score`."
   ]
  },
  {
   "cell_type": "code",
   "execution_count": 5,
   "id": "d6f9b747",
   "metadata": {
    "id": "k9LvzdYKMRT5"
   },
   "outputs": [
    {
     "name": "stdout",
     "output_type": "stream",
     "text": [
      "0.5148514851485149\n",
      "0.5714285714285714\n"
     ]
    }
   ],
   "source": [
    "assert np.isclose(my_dc.score(X_train_dummy, y_train_dummy), sk_dc.score(X_train_dummy, y_train_dummy))\n",
    "assert np.isclose(my_dc.score(X_valid_dummy, y_valid_dummy), sk_dc.score(X_valid_dummy, y_valid_dummy))"
   ]
  },
  {
   "cell_type": "markdown",
   "id": "6ac52105",
   "metadata": {
    "incorrectly_encoded_metadata": "id=\"L5KkCpMWMRT5\" nbgrader={\"grade\": false, \"grade_id\": \"cell-8e3cc53df86a7e14\", \"locked\": true, \"schema_version\": 3, \"solution\": false, \"task\": false} toc-hr-collapsed=true"
   },
   "source": [
    "## Exercise 2: Trump Tweets\n",
    "<hr>\n",
    "rubric={points:35}\n",
    "\n",
    "For the rest of this assignment we'll be looking at a [dataset of Donald Trump's tweets](https://www.kaggle.com/austinreese/trump-tweets) as of June 2020. You should start by downloading the dataset. \n",
    "\n",
    "**As usual, please do not submit the dataset when you submit the assignment.**"
   ]
  },
  {
   "cell_type": "code",
   "execution_count": 6,
   "id": "3a18bb00",
   "metadata": {},
   "outputs": [],
   "source": [
    "if not os.path.exists(\"realdonaldtrump.csv\"):\n",
    "    url = \"https://drive.google.com/file/d/1xeYHzPhraO6rVqWa70Pp9T_xUHjaFMk0/view?usp=sharing\"\n",
    "    output = \"realdonaldtrump.csv\"\n",
    "    md5 = \"dce8232309417781a68ab484ff23fa94\"\n",
    "    gdown.cached_download(url, output, md5=md5, fuzzy=True)"
   ]
  },
  {
   "cell_type": "code",
   "execution_count": 7,
   "id": "e8aeb562",
   "metadata": {
    "id": "9pyaIYSsMRT5"
   },
   "outputs": [
    {
     "data": {
      "text/html": [
       "<div>\n",
       "<style scoped>\n",
       "    .dataframe tbody tr th:only-of-type {\n",
       "        vertical-align: middle;\n",
       "    }\n",
       "\n",
       "    .dataframe tbody tr th {\n",
       "        vertical-align: top;\n",
       "    }\n",
       "\n",
       "    .dataframe thead th {\n",
       "        text-align: right;\n",
       "    }\n",
       "</style>\n",
       "<table border=\"1\" class=\"dataframe\">\n",
       "  <thead>\n",
       "    <tr style=\"text-align: right;\">\n",
       "      <th></th>\n",
       "      <th>link</th>\n",
       "      <th>content</th>\n",
       "      <th>date</th>\n",
       "      <th>retweets</th>\n",
       "      <th>favorites</th>\n",
       "      <th>mentions</th>\n",
       "      <th>hashtags</th>\n",
       "    </tr>\n",
       "    <tr>\n",
       "      <th>id</th>\n",
       "      <th></th>\n",
       "      <th></th>\n",
       "      <th></th>\n",
       "      <th></th>\n",
       "      <th></th>\n",
       "      <th></th>\n",
       "      <th></th>\n",
       "    </tr>\n",
       "  </thead>\n",
       "  <tbody>\n",
       "    <tr>\n",
       "      <th>1698308935</th>\n",
       "      <td>https://twitter.com/realDonaldTrump/status/169...</td>\n",
       "      <td>Be sure to tune in and watch Donald Trump on L...</td>\n",
       "      <td>2009-05-04 13:54:25</td>\n",
       "      <td>510</td>\n",
       "      <td>917</td>\n",
       "      <td>NaN</td>\n",
       "      <td>NaN</td>\n",
       "    </tr>\n",
       "    <tr>\n",
       "      <th>1701461182</th>\n",
       "      <td>https://twitter.com/realDonaldTrump/status/170...</td>\n",
       "      <td>Donald Trump will be appearing on The View tom...</td>\n",
       "      <td>2009-05-04 20:00:10</td>\n",
       "      <td>34</td>\n",
       "      <td>267</td>\n",
       "      <td>NaN</td>\n",
       "      <td>NaN</td>\n",
       "    </tr>\n",
       "    <tr>\n",
       "      <th>1737479987</th>\n",
       "      <td>https://twitter.com/realDonaldTrump/status/173...</td>\n",
       "      <td>Donald Trump reads Top Ten Financial Tips on L...</td>\n",
       "      <td>2009-05-08 08:38:08</td>\n",
       "      <td>13</td>\n",
       "      <td>19</td>\n",
       "      <td>NaN</td>\n",
       "      <td>NaN</td>\n",
       "    </tr>\n",
       "    <tr>\n",
       "      <th>1741160716</th>\n",
       "      <td>https://twitter.com/realDonaldTrump/status/174...</td>\n",
       "      <td>New Blog Post: Celebrity Apprentice Finale and...</td>\n",
       "      <td>2009-05-08 15:40:15</td>\n",
       "      <td>11</td>\n",
       "      <td>26</td>\n",
       "      <td>NaN</td>\n",
       "      <td>NaN</td>\n",
       "    </tr>\n",
       "    <tr>\n",
       "      <th>1773561338</th>\n",
       "      <td>https://twitter.com/realDonaldTrump/status/177...</td>\n",
       "      <td>\"My persona will never be that of a wallflower...</td>\n",
       "      <td>2009-05-12 09:07:28</td>\n",
       "      <td>1375</td>\n",
       "      <td>1945</td>\n",
       "      <td>NaN</td>\n",
       "      <td>NaN</td>\n",
       "    </tr>\n",
       "  </tbody>\n",
       "</table>\n",
       "</div>"
      ],
      "text/plain": [
       "                                                         link  \\\n",
       "id                                                              \n",
       "1698308935  https://twitter.com/realDonaldTrump/status/169...   \n",
       "1701461182  https://twitter.com/realDonaldTrump/status/170...   \n",
       "1737479987  https://twitter.com/realDonaldTrump/status/173...   \n",
       "1741160716  https://twitter.com/realDonaldTrump/status/174...   \n",
       "1773561338  https://twitter.com/realDonaldTrump/status/177...   \n",
       "\n",
       "                                                      content  \\\n",
       "id                                                              \n",
       "1698308935  Be sure to tune in and watch Donald Trump on L...   \n",
       "1701461182  Donald Trump will be appearing on The View tom...   \n",
       "1737479987  Donald Trump reads Top Ten Financial Tips on L...   \n",
       "1741160716  New Blog Post: Celebrity Apprentice Finale and...   \n",
       "1773561338  \"My persona will never be that of a wallflower...   \n",
       "\n",
       "                           date  retweets  favorites mentions hashtags  \n",
       "id                                                                      \n",
       "1698308935  2009-05-04 13:54:25       510        917      NaN      NaN  \n",
       "1701461182  2009-05-04 20:00:10        34        267      NaN      NaN  \n",
       "1737479987  2009-05-08 08:38:08        13         19      NaN      NaN  \n",
       "1741160716  2009-05-08 15:40:15        11         26      NaN      NaN  \n",
       "1773561338  2009-05-12 09:07:28      1375       1945      NaN      NaN  "
      ]
     },
     "execution_count": 7,
     "metadata": {},
     "output_type": "execute_result"
    }
   ],
   "source": [
    "tweets_df = pd.read_csv(\"realdonaldtrump.csv\", index_col=0)\n",
    "tweets_df.head()"
   ]
  },
  {
   "cell_type": "code",
   "execution_count": 8,
   "id": "988a35b3",
   "metadata": {
    "id": "rdzMVX8oMRT5"
   },
   "outputs": [
    {
     "data": {
      "text/plain": [
       "(43352, 7)"
      ]
     },
     "execution_count": 8,
     "metadata": {},
     "output_type": "execute_result"
    }
   ],
   "source": [
    "tweets_df.shape"
   ]
  },
  {
   "cell_type": "markdown",
   "id": "b9023a46",
   "metadata": {
    "id": "M80K1rN5MRT6"
   },
   "source": [
    "We will be trying to predict whether a tweet will go \"viral\", defined as having more than 10,000 retweets:"
   ]
  },
  {
   "cell_type": "code",
   "execution_count": 9,
   "id": "3e77bef6",
   "metadata": {
    "id": "9kPboX_cMRT6"
   },
   "outputs": [],
   "source": [
    "y = tweets_df[\"retweets\"] > 10_000"
   ]
  },
  {
   "cell_type": "markdown",
   "id": "d613e12d",
   "metadata": {
    "id": "7Ak2bYYFMRT6"
   },
   "source": [
    "To make predictions, we'll be using only the content (text) of the tweet. "
   ]
  },
  {
   "cell_type": "code",
   "execution_count": 10,
   "id": "ab1ddcc8",
   "metadata": {
    "id": "nsut7RqaMRT6"
   },
   "outputs": [],
   "source": [
    "X = tweets_df[\"content\"]"
   ]
  },
  {
   "cell_type": "markdown",
   "id": "f367d888",
   "metadata": {
    "id": "wHDv4GSFMRT6"
   },
   "source": [
    "For the purpose of this assignment, you can ignore all the other columns in the original dataset."
   ]
  },
  {
   "cell_type": "markdown",
   "id": "3621e71e",
   "metadata": {
    "id": "cAPtqdzcMRT6"
   },
   "source": [
    "#### 2(a) ordering the steps\n",
    "rubric={points:8}"
   ]
  },
  {
   "cell_type": "markdown",
   "id": "3cad3bda",
   "metadata": {
    "id": "43afb-2VMRT6"
   },
   "source": [
    "Let's start by building a model using `CountVectorizer` and `LogisticRegression`. The code required to do this has been provided below, but in the wrong order. \n",
    "\n",
    "- Rearrange the lines of code to correctly fit the model and compute the cross-validation score. {points: 4} \n",
    "- Add a short comment to each block to describe what the code is doing. {points: 4}\n"
   ]
  },
  {
   "cell_type": "code",
   "execution_count": 11,
   "id": "5e70c2bc",
   "metadata": {
    "id": "SkWw3qsCMRT7",
    "tags": [
     "raises-exception"
    ]
   },
   "outputs": [
    {
     "data": {
      "text/plain": [
       "fit_time       1.766342\n",
       "score_time     0.163516\n",
       "test_score     0.897890\n",
       "train_score    0.967045\n",
       "dtype: float64"
      ]
     },
     "execution_count": 11,
     "metadata": {},
     "output_type": "execute_result"
    }
   ],
   "source": [
    "'''\n",
    "You can skip this cell and insert your code in the next cell. \n",
    "After that, to make sure you can run all cells without any error, \n",
    "you can comment the code in this cell or simply delete this cell\n",
    "'''\n",
    "# YOUR COMMENT HERE\n",
    "countvec = CountVectorizer(stop_words=\"english\")\n",
    "\n",
    "# YOUR COMMENT HERE\n",
    "X_train, X_test, y_train, y_test = train_test_split(X, y, random_state=321)\n",
    "\n",
    "# YOUR COMMENT HERE\n",
    "lr = LogisticRegression(max_iter=1000)\n",
    "\n",
    "# YOUR COMMENT HERE\n",
    "pipe = make_pipeline(countvec, lr)\n",
    "\n",
    "# YOUR COMMENT HERE\n",
    "cross_val_results = pd.DataFrame(cross_validate(pipe, X_train, y_train, return_train_score=True))\n",
    "\n",
    "# YOUR COMMENT HERE\n",
    "cross_val_results.mean()\n"
   ]
  },
  {
   "cell_type": "code",
   "execution_count": 12,
   "id": "f73f2558",
   "metadata": {
    "deletable": false,
    "id": "O6B4WPzIMRT7",
    "nbgrader": {
     "cell_type": "code",
     "checksum": "628833571cf1974f646405401372717b",
     "grade": true,
     "grade_id": "cell-9af63c8b4cc08d1d",
     "locked": false,
     "points": 8,
     "schema_version": 3,
     "solution": true,
     "task": false
    }
   },
   "outputs": [
    {
     "data": {
      "text/plain": [
       "fit_time       1.656012\n",
       "score_time     0.171719\n",
       "test_score     0.897890\n",
       "train_score    0.967045\n",
       "dtype: float64"
      ]
     },
     "execution_count": 12,
     "metadata": {},
     "output_type": "execute_result"
    }
   ],
   "source": [
    "'''\n",
    "Rearrange the code above and add your comment for each line\n",
    "'''\n",
    "# BEGIN YOUR CODE HERE\n",
    "# YOUR COMMENT HERE\n",
    "countvec = CountVectorizer(stop_words=\"english\")\n",
    "\n",
    "# YOUR COMMENT HERE\n",
    "X_train, X_test, y_train, y_test = train_test_split(X, y, random_state=321)\n",
    "\n",
    "# YOUR COMMENT HERE\n",
    "lr = LogisticRegression(max_iter=1000)\n",
    "\n",
    "# YOUR COMMENT HERE\n",
    "pipe = make_pipeline(countvec, lr)\n",
    "\n",
    "# YOUR COMMENT HERE\n",
    "cross_val_results = pd.DataFrame(cross_validate(pipe, X_train, y_train, return_train_score=True))\n",
    "\n",
    "# YOUR COMMENT HERE\n",
    "cross_val_results.mean()\n",
    "\n",
    "# END YOUR CODE HERE"
   ]
  },
  {
   "cell_type": "markdown",
   "id": "7c175f05",
   "metadata": {
    "id": "imnr-RgCcrCP"
   },
   "source": [
    "Expected Output. (Note that we round to three decimal places. Your output could have more decimal places. )\n",
    "- test_score     0.897\n",
    "- train_score    0.967"
   ]
  },
  {
   "cell_type": "markdown",
   "id": "a81e7857",
   "metadata": {
    "id": "6EFl-NTiMRT7"
   },
   "source": [
    "#### 2(b) Cross-validation fold sub-scores\n",
    "rubric={points:3}\n",
    "\n",
    "Above we averaged the scores from the 5 folds of cross-validation. \n",
    "\n",
    "- Print out the 5 individual scores. Reminder: `sklearn` calls them `\"test_score\"` but they are really (cross-)validation scores. {points:1} "
   ]
  },
  {
   "cell_type": "code",
   "execution_count": 13,
   "id": "c803b4c1",
   "metadata": {
    "deletable": false,
    "id": "HXTVaHDnscHP",
    "nbgrader": {
     "cell_type": "code",
     "checksum": "87c596d35849659d52119792cafb429f",
     "grade": true,
     "grade_id": "cell-d79b08be770e77db",
     "locked": false,
     "points": 1,
     "schema_version": 3,
     "solution": true,
     "task": false
    }
   },
   "outputs": [
    {
     "data": {
      "text/plain": [
       "0    0.899123\n",
       "1    0.899739\n",
       "2    0.896356\n",
       "3    0.898201\n",
       "4    0.896032\n",
       "Name: test_score, dtype: float64"
      ]
     },
     "execution_count": 13,
     "metadata": {},
     "output_type": "execute_result"
    }
   ],
   "source": [
    "# BEGIN YOUR CODE HERE\n",
    "cross_val_results[\"test_score\"]\n",
    "\n",
    "# END YOUR CODE HERE"
   ]
  },
  {
   "cell_type": "markdown",
   "id": "057cd4fa",
   "metadata": {},
   "source": [
    "- Are the 5 scores close to each other or spread far apart? (This is a bit subjective, answer to the best of your ability.) {points:1}\n"
   ]
  },
  {
   "cell_type": "markdown",
   "id": "ceab80b9",
   "metadata": {
    "deletable": false,
    "nbgrader": {
     "cell_type": "markdown",
     "checksum": "668f50b02072c12689c5fd0c76f602a5",
     "grade": true,
     "grade_id": "cell-9ae5fc09a21b8d86",
     "locked": false,
     "points": 1,
     "schema_version": 3,
     "solution": true,
     "task": false
    }
   },
   "source": [
    "The scores are quite close and do not deviate far from the average"
   ]
  },
  {
   "cell_type": "markdown",
   "id": "0ae3cf66",
   "metadata": {},
   "source": [
    "- How does the size of this dataset (number of rows) compare to the cities dataset we have been using in class? How does this relate to the different sub-scores from the 5 folds? {points:1}"
   ]
  },
  {
   "cell_type": "markdown",
   "id": "3a00a93d",
   "metadata": {
    "deletable": false,
    "id": "vCBVlDhVQ24g",
    "nbgrader": {
     "cell_type": "markdown",
     "checksum": "56b9230d85bc18cddf17da2964f0194b",
     "grade": true,
     "grade_id": "cell-d80852128ebc3ccd",
     "locked": false,
     "points": 1,
     "schema_version": 3,
     "solution": true,
     "task": false
    }
   },
   "source": [
    "This data set is much larger so scores should have much less spreads. This conclusion is reflected in the cross validation results."
   ]
  },
  {
   "cell_type": "markdown",
   "id": "5cf40164",
   "metadata": {
    "id": "fRWX4knvMRT7"
   },
   "source": [
    "#### 2(c) baseline\n",
    "rubric={points:5}\n",
    "\n",
    "By the way, are these scores any good? \n",
    "\n",
    "- Run `DummyClassifier` (or `MyDummyClassifier`!) on this dataset (You only do cross validation on the training data like (a)). {points:2}\n",
    "    - Expected Output. Mean cross_val_results is\n",
    "        - test_score     0.738\n",
    "        - train_score    0.738"
   ]
  },
  {
   "cell_type": "code",
   "execution_count": 14,
   "id": "decd06a7",
   "metadata": {
    "deletable": false,
    "id": "H4DxMIdOyJS_",
    "nbgrader": {
     "cell_type": "code",
     "checksum": "93846614600b3872af4283fdef843f7d",
     "grade": true,
     "grade_id": "cell-b4a922e09011e0aa",
     "locked": false,
     "points": 2,
     "schema_version": 3,
     "solution": true,
     "task": false
    }
   },
   "outputs": [
    {
     "data": {
      "text/plain": [
       "fit_time       0.643578\n",
       "score_time     0.137458\n",
       "test_score     0.738543\n",
       "train_score    0.738543\n",
       "dtype: float64"
      ]
     },
     "execution_count": 14,
     "metadata": {},
     "output_type": "execute_result"
    }
   ],
   "source": [
    "# BEGIN YOUR CODE HERE\n",
    "countvec = CountVectorizer(stop_words=\"english\")\n",
    "X_train, X_test, y_train, y_test = train_test_split(X, y, random_state=321)\n",
    "dummy_cf = DummyClassifier(strategy='prior')\n",
    "pipe = make_pipeline(countvec, dummy_cf)\n",
    "cross_val_results = pd.DataFrame(cross_validate(pipe, X_train, y_train, return_train_score=True))\n",
    "cross_val_results.mean()\n",
    "\n",
    "# END YOUR CODE HERE"
   ]
  },
  {
   "cell_type": "markdown",
   "id": "ec5df62c",
   "metadata": {},
   "source": [
    "- Compare the `DummyClassifier` score to what you got from logistic regression above. Does logistic regression seem to be doing anything useful? {points:1}"
   ]
  },
  {
   "cell_type": "markdown",
   "id": "8d27a7d6",
   "metadata": {
    "deletable": false,
    "nbgrader": {
     "cell_type": "markdown",
     "checksum": "a6b21fe5b7abcd3706241b7e101e2a92",
     "grade": true,
     "grade_id": "cell-f817f9e8b5a1b8b2",
     "locked": false,
     "points": 1,
     "schema_version": 3,
     "solution": true,
     "task": false
    }
   },
   "source": [
    "Yes, the logistic regression scores are much higher."
   ]
  },
  {
   "cell_type": "markdown",
   "id": "dbd29abe",
   "metadata": {},
   "source": [
    "- Is it necessary to use `CountVectorizer` here? Briefly explain. {points:2}"
   ]
  },
  {
   "cell_type": "markdown",
   "id": "381ead88",
   "metadata": {
    "deletable": false,
    "id": "EIABdTQC0fiv",
    "nbgrader": {
     "cell_type": "markdown",
     "checksum": "66c9e0064e1393a13b2bdbef54835c05",
     "grade": true,
     "grade_id": "cell-199dbb403be04532",
     "locked": false,
     "points": 2,
     "schema_version": 3,
     "solution": true,
     "task": false
    }
   },
   "source": [
    "No, because the dummy classifier only looks at the target so any changes to the input data doesn't matter"
   ]
  },
  {
   "cell_type": "markdown",
   "id": "cfb8692f",
   "metadata": {
    "id": "baOChYrAMRT7"
   },
   "source": [
    "#### 2(d) probability scores\n",
    "rubric={points:5}\n",
    "\n",
    "Here we train a logistic regression classifier on the entire training set: \n",
    "\n",
    "(Note: this is relying on the `pipe` variable from 2(a) - you'll need to redefine it if you overwrote that variable in between.)"
   ]
  },
  {
   "cell_type": "code",
   "execution_count": 15,
   "id": "5d7b4f59",
   "metadata": {
    "id": "IOa6AmwKMRT7"
   },
   "outputs": [
    {
     "data": {
      "text/plain": [
       "Pipeline(steps=[('countvectorizer', CountVectorizer(stop_words='english')),\n",
       "                ('logisticregression', LogisticRegression(max_iter=1000))])"
      ]
     },
     "execution_count": 15,
     "metadata": {},
     "output_type": "execute_result"
    }
   ],
   "source": [
    "pipe = make_pipeline(countvec, lr)\n",
    "pipe.fit(X_train, y_train) # train a logistic regression classifier on the entire training set"
   ]
  },
  {
   "cell_type": "markdown",
   "id": "5c2ffbcb",
   "metadata": {
    "id": "-EWRNUspMRT8"
   },
   "source": [
    "Using this model, find the tweet in the **test set** with the highest predicted probability of being viral. Print out the tweet and the associated probability score."
   ]
  },
  {
   "cell_type": "code",
   "execution_count": 16,
   "id": "277b89f0",
   "metadata": {
    "deletable": false,
    "id": "jNsuQ2yZ8nHN",
    "nbgrader": {
     "cell_type": "code",
     "checksum": "ff33c775dd8177481391ea4dd614e7de",
     "grade": true,
     "grade_id": "cell-f2a6d441fb87c0f4",
     "locked": false,
     "points": 5,
     "schema_version": 3,
     "solution": true,
     "task": false
    }
   },
   "outputs": [
    {
     "name": "stdout",
     "output_type": "stream",
     "text": [
      "Corrupt politician Adam Schiff wants people from the White House to testify in his and Pelosi’s disgraceful Witch Hunt, yet he will not allow a White House lawyer, nor will he allow ANY of our requested witnesses. This is a first in due process and Congressional history!\n",
      "0.9999999325184877\n"
     ]
    }
   ],
   "source": [
    "# BEGIN YOUR CODE HERE\n",
    "# print(pipe.predict_proba(X_test))\n",
    "max = -10000\n",
    "probs = pipe.predict_proba(X_test)\n",
    "count = 0;\n",
    "for items in probs:\n",
    "    if max < items[1]:\n",
    "        max = items[1]\n",
    "        max_loc = count\n",
    "    count+=1\n",
    "print(X_test.iloc[max_loc])\n",
    "print(max)\n",
    "# END YOUR CODE HERE"
   ]
  },
  {
   "cell_type": "markdown",
   "id": "ef5a87bc",
   "metadata": {
    "id": "OVtKG5SyMRT8"
   },
   "source": [
    "#### 2(e) coefficients\n",
    "rubric={points:4}\n",
    "\n",
    "We can extract the `CountVectorizer` and `LogisticRegression` objects from the `make_pipeline` object as follows:"
   ]
  },
  {
   "cell_type": "code",
   "execution_count": 17,
   "id": "42242a2d",
   "metadata": {
    "id": "m0eUc7DcMRT8"
   },
   "outputs": [],
   "source": [
    "vec_from_pipe = pipe.named_steps[\"countvectorizer\"]\n",
    "lr_from_pipe = pipe.named_steps[\"logisticregression\"]"
   ]
  },
  {
   "cell_type": "markdown",
   "id": "0df1720f",
   "metadata": {
    "id": "9pXuZLNEMRT8"
   },
   "source": [
    "Using these extracted components above, display the 5 words with the highest coefficients and the 5 words with the smallest coefficients."
   ]
  },
  {
   "cell_type": "code",
   "execution_count": 18,
   "id": "3027239d",
   "metadata": {
    "id": "Y7JABALKNg-P"
   },
   "outputs": [
    {
     "name": "stderr",
     "output_type": "stream",
     "text": [
      "C:\\Users\\Jimmy\\anaconda3\\lib\\site-packages\\sklearn\\utils\\deprecation.py:87: FutureWarning: Function get_feature_names is deprecated; get_feature_names is deprecated in 1.0 and will be removed in 1.2. Please use get_feature_names_out instead.\n",
      "  warnings.warn(msg, category=FutureWarning)\n"
     ]
    },
    {
     "data": {
      "text/html": [
       "<div>\n",
       "<style scoped>\n",
       "    .dataframe tbody tr th:only-of-type {\n",
       "        vertical-align: middle;\n",
       "    }\n",
       "\n",
       "    .dataframe tbody tr th {\n",
       "        vertical-align: top;\n",
       "    }\n",
       "\n",
       "    .dataframe thead th {\n",
       "        text-align: right;\n",
       "    }\n",
       "</style>\n",
       "<table border=\"1\" class=\"dataframe\">\n",
       "  <thead>\n",
       "    <tr style=\"text-align: right;\">\n",
       "      <th></th>\n",
       "      <th>Coefficient</th>\n",
       "    </tr>\n",
       "  </thead>\n",
       "  <tbody>\n",
       "    <tr>\n",
       "      <th>harassment</th>\n",
       "      <td>2.731796</td>\n",
       "    </tr>\n",
       "    <tr>\n",
       "      <th>mini</th>\n",
       "      <td>2.712420</td>\n",
       "    </tr>\n",
       "    <tr>\n",
       "      <th>fake</th>\n",
       "      <td>2.692746</td>\n",
       "    </tr>\n",
       "    <tr>\n",
       "      <th>coronavirus</th>\n",
       "      <td>2.434218</td>\n",
       "    </tr>\n",
       "    <tr>\n",
       "      <th>transcripts</th>\n",
       "      <td>2.380552</td>\n",
       "    </tr>\n",
       "    <tr>\n",
       "      <th>...</th>\n",
       "      <td>...</td>\n",
       "    </tr>\n",
       "    <tr>\n",
       "      <th>1pic</th>\n",
       "      <td>-2.295121</td>\n",
       "    </tr>\n",
       "    <tr>\n",
       "      <th>trump2016</th>\n",
       "      <td>-2.316168</td>\n",
       "    </tr>\n",
       "    <tr>\n",
       "      <th>barackobama</th>\n",
       "      <td>-2.565424</td>\n",
       "    </tr>\n",
       "    <tr>\n",
       "      <th>trump2016pic</th>\n",
       "      <td>-2.637291</td>\n",
       "    </tr>\n",
       "    <tr>\n",
       "      <th>realdonaldtrump</th>\n",
       "      <td>-3.116932</td>\n",
       "    </tr>\n",
       "  </tbody>\n",
       "</table>\n",
       "<p>40965 rows × 1 columns</p>\n",
       "</div>"
      ],
      "text/plain": [
       "                 Coefficient\n",
       "harassment          2.731796\n",
       "mini                2.712420\n",
       "fake                2.692746\n",
       "coronavirus         2.434218\n",
       "transcripts         2.380552\n",
       "...                      ...\n",
       "1pic               -2.295121\n",
       "trump2016          -2.316168\n",
       "barackobama        -2.565424\n",
       "trump2016pic       -2.637291\n",
       "realdonaldtrump    -3.116932\n",
       "\n",
       "[40965 rows x 1 columns]"
      ]
     },
     "execution_count": 18,
     "metadata": {},
     "output_type": "execute_result"
    }
   ],
   "source": [
    "feature_names = np.array(vec_from_pipe.get_feature_names())\n",
    "coeffs = lr_from_pipe.coef_.flatten()\n",
    "word_coeff_df = pd.DataFrame(coeffs, index=feature_names, columns=[\"Coefficient\"])\n",
    "word_coeff_df.sort_values(by=\"Coefficient\", ascending=False)"
   ]
  },
  {
   "cell_type": "markdown",
   "id": "221bdac7",
   "metadata": {
    "deletable": false,
    "id": "-gxrFtMleF8e",
    "nbgrader": {
     "cell_type": "markdown",
     "checksum": "a1cb8aedc112f5cd99a752ec85a2dbb4",
     "grade": true,
     "grade_id": "cell-a414db4995c6f648",
     "locked": false,
     "points": 4,
     "schema_version": 3,
     "solution": true,
     "task": false
    }
   },
   "source": [
    "Highest: harassment, mini, fake, coronavirus, transcripts\n",
    "Lowest: 1pic, trump2016, barackobama, trump2016pic, realdonaldtrump"
   ]
  },
  {
   "cell_type": "markdown",
   "id": "33b741a5",
   "metadata": {
    "id": "4bst-ityMRT8"
   },
   "source": [
    "#### 2(f)\n",
    "2f rubric={points:10}\n",
    "\n",
    "scikit-learn provides a lot of useful tools like `make_pipeline` and `cross_validate`, which are awesome. But with these fancy tools it's also easy to lose track of what is actually happening under the hood. Here, your task is to \"manually\" (without `Pipeline`) compute logistic regression's validation score(that is, train on 80% and validate on 20%) of the training data.\n",
    "\n",
    "You should start with the following `CountVectorizer` and `LogisticRegression` objects. You only need to furtherly split `X_train` and `y_train` into 80% training set and 20% validation set. Use lr.score() to show your validation score of your model performing on validation set.(In order to grade, we set random_state=123)"
   ]
  },
  {
   "cell_type": "code",
   "execution_count": 19,
   "id": "f5023106",
   "metadata": {
    "id": "O5a_LFr9MRT8"
   },
   "outputs": [],
   "source": [
    "countvec = CountVectorizer(stop_words=\"english\")\n",
    "lr = LogisticRegression(max_iter=1000)  "
   ]
  },
  {
   "cell_type": "code",
   "execution_count": 20,
   "id": "455564fa",
   "metadata": {
    "deletable": false,
    "id": "GmZN1rTYg6k3",
    "nbgrader": {
     "cell_type": "code",
     "checksum": "a91715e388b5a17113783ffc6f9410d0",
     "grade": true,
     "grade_id": "cell-a876ebc177069b61",
     "locked": false,
     "points": 10,
     "schema_version": 3,
     "solution": true,
     "task": false
    }
   },
   "outputs": [
    {
     "data": {
      "text/plain": [
       "0.8941298581478492"
      ]
     },
     "execution_count": 20,
     "metadata": {},
     "output_type": "execute_result"
    }
   ],
   "source": [
    "# BEGIN YOUR CODE HERE\n",
    "X_train, X_test, y_train, y_test = train_test_split(X, y,test_size=0.20,random_state=123)\n",
    "X_counts = countvec.fit_transform(X_train)\n",
    "\n",
    "X_test_transform = countvec.transform(X_test)\n",
    "\n",
    "lr.fit(X_counts, y_train)\n",
    "lr.predict(X_test_transform)\n",
    "lr.score(X_test_transform, y_test)\n",
    "\n",
    "# END YOUR CODE HERE"
   ]
  },
  {
   "cell_type": "markdown",
   "id": "53f2d864",
   "metadata": {
    "id": "gQF_HwR41ijP"
   },
   "source": [
    "Expected output value: 0.893"
   ]
  },
  {
   "cell_type": "markdown",
   "id": "fb6837fd",
   "metadata": {
    "id": "sDElLzibMRT8"
   },
   "source": [
    "Meta-comment:I think this type of question (and Exercise 1) is a useful middle ground. I do want you to know what is going on in `Pipeline` and in `cross_validate` even if we don't cover the details of `fit`. To get into logistic regression's `fit` requires a bunch of math; here, we're keeping it more conceptual and avoiding all those prerequisites."
   ]
  },
  {
   "cell_type": "markdown",
   "id": "cac5fb84",
   "metadata": {
    "incorrectly_encoded_metadata": "id=\"gj3qijcUMRT9\" toc-hr-collapsed=true"
   },
   "source": [
    "## Exercise 3: hyperparameter optimization\n",
    "<hr>\n",
    "rubric={points:25}"
   ]
  },
  {
   "cell_type": "markdown",
   "id": "97f735f9",
   "metadata": {
    "id": "WLOeCebnMRT9"
   },
   "source": [
    "#### 3(a)\n",
    "rubric={points:4}\n",
    "\n",
    "The following code varies the `max_features` hyperparameter of `CountVectorizer` and makes a plot (with the x-axis on a log scale) that shows train/cross-validation scores vs. `max_features`. It also prints the results. Based on the plot/output, what value of `max_features` seems best? Briefly explain.\n",
    "\n",
    "Note: the code may take a minute or two to run. You can uncomment the `print` statement if you want to see it show the progress."
   ]
  },
  {
   "cell_type": "code",
   "execution_count": 21,
   "id": "b7926496",
   "metadata": {
    "id": "1ZFGyo0zMRT9"
   },
   "outputs": [
    {
     "name": "stdout",
     "output_type": "stream",
     "text": [
      "10\n",
      "100\n",
      "1000\n",
      "10000\n",
      "100000\n"
     ]
    },
    {
     "data": {
      "image/png": "[encoded data removed]",
      "text/plain": [
       "<Figure size 432x288 with 1 Axes>"
      ]
     },
     "metadata": {
      "needs_background": "light"
     },
     "output_type": "display_data"
    }
   ],
   "source": [
    "train_scores = []\n",
    "cv_scores = []\n",
    "\n",
    "max_features = [10, 100, 1000, 10_000, 100_000]\n",
    "\n",
    "for mf in max_features:\n",
    "    print(mf)\n",
    "    pipe = make_pipeline(\n",
    "        CountVectorizer(stop_words=\"english\", max_features=mf),\n",
    "        LogisticRegression(max_iter=1000),\n",
    "    )\n",
    "    cv_results = cross_validate(pipe, X_train, y_train, return_train_score=True)\n",
    "    train_scores.append(cv_results[\"train_score\"].mean())\n",
    "    cv_scores.append(cv_results[\"test_score\"].mean())\n",
    "\n",
    "plt.semilogx(max_features, train_scores, label=\"train\")\n",
    "plt.semilogx(max_features, cv_scores, label=\"valid\")\n",
    "plt.legend()\n",
    "plt.xlabel(\"max_features\")\n",
    "plt.ylabel(\"accuracy\");"
   ]
  },
  {
   "cell_type": "code",
   "execution_count": 22,
   "id": "043096f0",
   "metadata": {
    "id": "7up_9-_CMRT9"
   },
   "outputs": [
    {
     "data": {
      "text/html": [
       "<div>\n",
       "<style scoped>\n",
       "    .dataframe tbody tr th:only-of-type {\n",
       "        vertical-align: middle;\n",
       "    }\n",
       "\n",
       "    .dataframe tbody tr th {\n",
       "        vertical-align: top;\n",
       "    }\n",
       "\n",
       "    .dataframe thead th {\n",
       "        text-align: right;\n",
       "    }\n",
       "</style>\n",
       "<table border=\"1\" class=\"dataframe\">\n",
       "  <thead>\n",
       "    <tr style=\"text-align: right;\">\n",
       "      <th></th>\n",
       "      <th>max_features</th>\n",
       "      <th>train</th>\n",
       "      <th>cv</th>\n",
       "    </tr>\n",
       "  </thead>\n",
       "  <tbody>\n",
       "    <tr>\n",
       "      <th>0</th>\n",
       "      <td>10</td>\n",
       "      <td>0.768771</td>\n",
       "      <td>0.767596</td>\n",
       "    </tr>\n",
       "    <tr>\n",
       "      <th>1</th>\n",
       "      <td>100</td>\n",
       "      <td>0.838053</td>\n",
       "      <td>0.836424</td>\n",
       "    </tr>\n",
       "    <tr>\n",
       "      <th>2</th>\n",
       "      <td>1000</td>\n",
       "      <td>0.904047</td>\n",
       "      <td>0.889824</td>\n",
       "    </tr>\n",
       "    <tr>\n",
       "      <th>3</th>\n",
       "      <td>10000</td>\n",
       "      <td>0.951739</td>\n",
       "      <td>0.899715</td>\n",
       "    </tr>\n",
       "    <tr>\n",
       "      <th>4</th>\n",
       "      <td>100000</td>\n",
       "      <td>0.968153</td>\n",
       "      <td>0.900926</td>\n",
       "    </tr>\n",
       "  </tbody>\n",
       "</table>\n",
       "</div>"
      ],
      "text/plain": [
       "   max_features     train        cv\n",
       "0            10  0.768771  0.767596\n",
       "1           100  0.838053  0.836424\n",
       "2          1000  0.904047  0.889824\n",
       "3         10000  0.951739  0.899715\n",
       "4        100000  0.968153  0.900926"
      ]
     },
     "execution_count": 22,
     "metadata": {},
     "output_type": "execute_result"
    }
   ],
   "source": [
    "pd.DataFrame({\"max_features\": max_features, \"train\": train_scores, \"cv\": cv_scores})"
   ]
  },
  {
   "cell_type": "markdown",
   "id": "9e58d06c",
   "metadata": {
    "deletable": false,
    "id": "Xnn4LOkX23x9",
    "nbgrader": {
     "cell_type": "markdown",
     "checksum": "489f2c0d6bb7f7361e81d04ee49729e3",
     "grade": true,
     "grade_id": "cell-53e3fe7a3211c292",
     "locked": false,
     "points": 4,
     "schema_version": 3,
     "solution": true,
     "task": false
    }
   },
   "source": [
    "It looks like having a greater value for the max_features hyperparameter is better as it increases the validation score"
   ]
  },
  {
   "cell_type": "markdown",
   "id": "5f300f25",
   "metadata": {
    "id": "wPQT5c7tMRT9"
   },
   "source": [
    "#### 3(b)\n",
    "rubric={points:4}\n",
    "\n",
    "The following code varies the `C` hyperparameter of `LogisticRegression` and makes a plot (with the x-axis on a log scale) that shows train/cross-validation scores vs. `C`. Based on the plot, what value of `C` seems best?\n",
    "\n",
    "Note: the code may take a minute or two to run. You can uncomment the `print` statement if you want to see it show the progress."
   ]
  },
  {
   "cell_type": "code",
   "execution_count": 23,
   "id": "6ceac63f",
   "metadata": {
    "id": "ne67GMhmMRT9"
   },
   "outputs": [
    {
     "name": "stdout",
     "output_type": "stream",
     "text": [
      "0.03162277660168379\n",
      "0.1\n",
      "0.31622776601683794\n",
      "1.0\n",
      "3.1622776601683795\n",
      "10.0\n",
      "31.622776601683793\n"
     ]
    },
    {
     "data": {
      "image/png": "[encoded data removed]",
      "text/plain": [
       "<Figure size 432x288 with 1 Axes>"
      ]
     },
     "metadata": {
      "needs_background": "light"
     },
     "output_type": "display_data"
    }
   ],
   "source": [
    "train_scores = []\n",
    "cv_scores = []\n",
    "\n",
    "C_vals = 10.0 ** np.arange(-1.5, 2, 0.5)\n",
    "\n",
    "for C in C_vals:\n",
    "    print(C)\n",
    "    pipe = make_pipeline(\n",
    "        CountVectorizer(stop_words=\"english\", max_features=None),\n",
    "        LogisticRegression(max_iter=1000, C=C),\n",
    "    )\n",
    "    cv_results = cross_validate(pipe, X_train, y_train, return_train_score=True)\n",
    "\n",
    "    train_scores.append(cv_results[\"train_score\"].mean())\n",
    "    cv_scores.append(cv_results[\"test_score\"].mean())\n",
    "\n",
    "plt.semilogx(C_vals, train_scores, label=\"train\")\n",
    "plt.semilogx(C_vals, cv_scores, label=\"valid\")\n",
    "plt.legend()\n",
    "plt.xlabel(\"C\")\n",
    "plt.ylabel(\"accuracy\");"
   ]
  },
  {
   "cell_type": "code",
   "execution_count": 24,
   "id": "2fcf9a0b",
   "metadata": {
    "id": "n_R271j2MRT9"
   },
   "outputs": [
    {
     "data": {
      "text/html": [
       "<div>\n",
       "<style scoped>\n",
       "    .dataframe tbody tr th:only-of-type {\n",
       "        vertical-align: middle;\n",
       "    }\n",
       "\n",
       "    .dataframe tbody tr th {\n",
       "        vertical-align: top;\n",
       "    }\n",
       "\n",
       "    .dataframe thead th {\n",
       "        text-align: right;\n",
       "    }\n",
       "</style>\n",
       "<table border=\"1\" class=\"dataframe\">\n",
       "  <thead>\n",
       "    <tr style=\"text-align: right;\">\n",
       "      <th></th>\n",
       "      <th>C</th>\n",
       "      <th>train</th>\n",
       "      <th>cv</th>\n",
       "    </tr>\n",
       "  </thead>\n",
       "  <tbody>\n",
       "    <tr>\n",
       "      <th>0</th>\n",
       "      <td>0.031623</td>\n",
       "      <td>0.895058</td>\n",
       "      <td>0.881318</td>\n",
       "    </tr>\n",
       "    <tr>\n",
       "      <th>1</th>\n",
       "      <td>0.100000</td>\n",
       "      <td>0.920309</td>\n",
       "      <td>0.896658</td>\n",
       "    </tr>\n",
       "    <tr>\n",
       "      <th>2</th>\n",
       "      <td>0.316228</td>\n",
       "      <td>0.942843</td>\n",
       "      <td>0.900753</td>\n",
       "    </tr>\n",
       "    <tr>\n",
       "      <th>3</th>\n",
       "      <td>1.000000</td>\n",
       "      <td>0.968153</td>\n",
       "      <td>0.900926</td>\n",
       "    </tr>\n",
       "    <tr>\n",
       "      <th>4</th>\n",
       "      <td>3.162278</td>\n",
       "      <td>0.985770</td>\n",
       "      <td>0.898244</td>\n",
       "    </tr>\n",
       "    <tr>\n",
       "      <th>5</th>\n",
       "      <td>10.000000</td>\n",
       "      <td>0.993534</td>\n",
       "      <td>0.893977</td>\n",
       "    </tr>\n",
       "    <tr>\n",
       "      <th>6</th>\n",
       "      <td>31.622777</td>\n",
       "      <td>0.996273</td>\n",
       "      <td>0.887720</td>\n",
       "    </tr>\n",
       "  </tbody>\n",
       "</table>\n",
       "</div>"
      ],
      "text/plain": [
       "           C     train        cv\n",
       "0   0.031623  0.895058  0.881318\n",
       "1   0.100000  0.920309  0.896658\n",
       "2   0.316228  0.942843  0.900753\n",
       "3   1.000000  0.968153  0.900926\n",
       "4   3.162278  0.985770  0.898244\n",
       "5  10.000000  0.993534  0.893977\n",
       "6  31.622777  0.996273  0.887720"
      ]
     },
     "execution_count": 24,
     "metadata": {},
     "output_type": "execute_result"
    }
   ],
   "source": [
    "pd.DataFrame({\"C\": C_vals, \"train\": train_scores, \"cv\": cv_scores})"
   ]
  },
  {
   "cell_type": "markdown",
   "id": "e528ac60",
   "metadata": {
    "deletable": false,
    "id": "4dUggjmsMRT-",
    "nbgrader": {
     "cell_type": "markdown",
     "checksum": "29c7e3ea3b9ff3c2bab416f565c691ef",
     "grade": true,
     "grade_id": "cell-9ea16d18aa7f94b6",
     "locked": false,
     "points": 4,
     "schema_version": 3,
     "solution": true,
     "task": false
    }
   },
   "source": [
    "C = 1 seems to be the best since it has the best cv score and is not too under or over fit"
   ]
  },
  {
   "cell_type": "markdown",
   "id": "a9c142b8",
   "metadata": {
    "id": "vLwFSeUwMRT-"
   },
   "source": [
    "#### 3(c)\n",
    "3c rubric={points:12}\n",
    "\n",
    "- Using `GridSearchCV`, jointly optimize `max_features` and `C` across all the combinations of values we tried above.{points:8} \n",
    "  - Note: the code might be a bit slow here. \n",
    "  - Setting `n_jobs=-1` should speed it up if you have a multi-core processor.\n",
    "  - You can reduce the number of folds (e.g. `cv=2`) to speed it up if necessary.\n"
   ]
  },
  {
   "cell_type": "code",
   "execution_count": 25,
   "id": "270b80c2",
   "metadata": {
    "deletable": false,
    "id": "9yHPfPOF3ePf",
    "nbgrader": {
     "cell_type": "code",
     "checksum": "948f4363be0b7924446d0fb1233234ec",
     "grade": true,
     "grade_id": "cell-ab152828658bfa62",
     "locked": false,
     "points": 8,
     "schema_version": 3,
     "solution": true,
     "task": false
    }
   },
   "outputs": [
    {
     "name": "stdout",
     "output_type": "stream",
     "text": [
      "0.896167956254643\n",
      "{'countvectorizer__max_features': 100000, 'logisticregression__C': 1.0}\n"
     ]
    }
   ],
   "source": [
    "# BEGIN YOUR CODE HERE\n",
    "best_max_feature = 100_000\n",
    "best_C = 1.0\n",
    "C_sizes = 10.0 ** np.arange(-1.5, 2, 0.5)\n",
    "param_grid = {\n",
    "    \"countvectorizer__max_features\": [10, 100, 1000, 10_000, 100_000],\n",
    "    \"logisticregression__C\": [0.031623, 0.10000, 0.316228, 1.0000, 3.162278, 10.000000, 31.622777],\n",
    "}\n",
    "\n",
    "pipe = make_pipeline(\n",
    "        CountVectorizer(stop_words=\"english\"),\n",
    "        LogisticRegression(max_iter=1000),\n",
    "        )\n",
    "grid_search = GridSearchCV(pipe, param_grid=param_grid, cv=2, n_jobs=-1, return_train_score=True)\n",
    "grid_search.fit(X_train, y_train)\n",
    "print(grid_search.best_score_)\n",
    "print(grid_search.best_params_)\n",
    "#results = pd.DataFrame(grid_search.cv_results_)\n",
    "#results = (pd.DataFrame(grid_search.cv_results_).set_index(\"rank_test_score\").sort_index())\n",
    "#print(results)\n",
    "\n",
    "# END YOUR CODE HERE"
   ]
  },
  {
   "cell_type": "markdown",
   "id": "4e66011d",
   "metadata": {},
   "source": [
    "- What are the best values of `max_features` and `C` according to your grid search?(You can just print your best values){points:4}"
   ]
  },
  {
   "cell_type": "markdown",
   "id": "97015329",
   "metadata": {
    "deletable": false,
    "id": "aEd0vuGO2KJ3",
    "nbgrader": {
     "cell_type": "markdown",
     "checksum": "e68506349494185a4c3a26eebf36f953",
     "grade": true,
     "grade_id": "cell-cc2fb2e9ef846d2b",
     "locked": false,
     "points": 4,
     "schema_version": 3,
     "solution": true,
     "task": false
    }
   },
   "source": [
    "best max features: 100000   best C: 1.0"
   ]
  },
  {
   "cell_type": "markdown",
   "id": "27ea42d5",
   "metadata": {
    "id": "kkr6jYFuMRT-"
   },
   "source": [
    "#### 3(d)\n",
    "3d rubric={points:5}\n",
    "\n",
    "- Evaluate your final model on the test set.{points:3} \n",
    "    - Expected test accuracy is 0.899\n"
   ]
  },
  {
   "cell_type": "code",
   "execution_count": 26,
   "id": "742d33f8",
   "metadata": {
    "deletable": false,
    "id": "GifXNTF5FDtT",
    "nbgrader": {
     "cell_type": "code",
     "checksum": "ae50bdc0132371a4036c703c1730f4cf",
     "grade": true,
     "grade_id": "cell-977c0063b6843fa7",
     "locked": false,
     "points": 3,
     "schema_version": 3,
     "solution": true,
     "task": false
    }
   },
   "outputs": [
    {
     "name": "stdout",
     "output_type": "stream",
     "text": [
      "validation accuracy:  0.9009255984699335\n",
      "test accuracy:  0.8941298581478492\n"
     ]
    }
   ],
   "source": [
    "# BEGIN YOUR CODE HERE\n",
    "from sklearn.metrics import accuracy_score\n",
    "pipe = make_pipeline(\n",
    "        CountVectorizer(stop_words=\"english\", max_features=100_000),\n",
    "        LogisticRegression(max_iter=1000,C=1),\n",
    "        )\n",
    "#print(pipe)\n",
    "cross_val_results = pd.DataFrame(cross_validate(pipe, X_train, y_train, return_train_score=True))\n",
    "print(\"validation accuracy: \",cross_val_results.mean().test_score)\n",
    "pipe.fit(X_train,y_train)\n",
    "X_test_predictions = pipe.predict(X_test)\n",
    "X_test_score = pipe.score(X_test,y_test)\n",
    "print(\"test accuracy: \",X_test_score)\n",
    "\n",
    "# END YOUR CODE HERE"
   ]
  },
  {
   "cell_type": "markdown",
   "id": "e8ff7b79",
   "metadata": {},
   "source": [
    "- How does your test accuracy compare to your validation accuracy?{points:2}"
   ]
  },
  {
   "cell_type": "markdown",
   "id": "a46983c5",
   "metadata": {
    "deletable": false,
    "id": "LdtL5X-lH1mc",
    "nbgrader": {
     "cell_type": "markdown",
     "checksum": "7a6d21775d868532b44a43a3ae69c1e0",
     "grade": true,
     "grade_id": "cell-d993d23242a76fc8",
     "locked": false,
     "points": 2,
     "schema_version": 3,
     "solution": true,
     "task": false
    }
   },
   "source": [
    "The test accuracy is close to the validation accuracy meaning that the training model is meeting its expected performance."
   ]
  },
  {
   "cell_type": "markdown",
   "id": "318122d1",
   "metadata": {
    "id": "aBhrNBerMRT-"
   },
   "source": [
    "## Exercise 4: Very short answer questions\n",
    "rubric={points:15}\n",
    "\n",
    "Each question is worth 3 points."
   ]
  },
  {
   "cell_type": "markdown",
   "id": "e28f75fe",
   "metadata": {
    "id": "CoyCJvjHMRT-"
   },
   "source": [
    "1. What is the problem with calling `fit_transform` on your test data with `CountVectorizer`? "
   ]
  },
  {
   "cell_type": "markdown",
   "id": "c1ab5eb4",
   "metadata": {
    "deletable": false,
    "nbgrader": {
     "cell_type": "markdown",
     "checksum": "460fc86f02d92323e66cae44ae0d0303",
     "grade": true,
     "grade_id": "cell-6bead45cd8f8505c",
     "locked": false,
     "points": 3,
     "schema_version": 3,
     "solution": true,
     "task": false
    }
   },
   "source": [
    "We want our test data to be a completely new set for our model and would break the Golden rule if we use the test data to fit."
   ]
  },
  {
   "cell_type": "markdown",
   "id": "78cf6650",
   "metadata": {
    "id": "CoyCJvjHMRT-"
   },
   "source": [
    "2. Why is it important to follow the Golden Rule? If you violate it, will that give you a worse classifier?"
   ]
  },
  {
   "cell_type": "markdown",
   "id": "37652f28",
   "metadata": {
    "deletable": false,
    "nbgrader": {
     "cell_type": "markdown",
     "checksum": "c934a7d05ff075ebe68868397d11cf23",
     "grade": true,
     "grade_id": "cell-87bb087186181f76",
     "locked": false,
     "points": 3,
     "schema_version": 3,
     "solution": true,
     "task": false
    }
   },
   "source": [
    "Test data is used to measure how well the trained model does with new data. If test data influences the training, then it will give a worse classifier since it will not be an accurate model for new data."
   ]
  },
  {
   "cell_type": "markdown",
   "id": "384c7ac9",
   "metadata": {
    "id": "CoyCJvjHMRT-"
   },
   "source": [
    "3. If you could only access one of `predict` or `predict_proba`, which one would you choose? Briefly explain."
   ]
  },
  {
   "cell_type": "markdown",
   "id": "d4ad35a2",
   "metadata": {
    "deletable": false,
    "nbgrader": {
     "cell_type": "markdown",
     "checksum": "9e9bf25b6a3acc54a8c62f430de85a0d",
     "grade": true,
     "grade_id": "cell-c55d5c0f3e87031e",
     "locked": false,
     "points": 3,
     "schema_version": 3,
     "solution": true,
     "task": false
    }
   },
   "source": [
    "I would choose predict since it is easier to compute a score with predict. predict_proba gives the probability of each target and not an estimate on how well the model performs."
   ]
  },
  {
   "cell_type": "markdown",
   "id": "fc5d53a3",
   "metadata": {
    "id": "CoyCJvjHMRT-"
   },
   "source": [
    "4. What are two advantages of using sklearn `Pipeline`s? "
   ]
  },
  {
   "cell_type": "markdown",
   "id": "f7af9e27",
   "metadata": {
    "deletable": false,
    "nbgrader": {
     "cell_type": "markdown",
     "checksum": "979e7306d1de85fc669e6ae8546d8177",
     "grade": true,
     "grade_id": "cell-05a6f11152d877c1",
     "locked": false,
     "points": 3,
     "schema_version": 3,
     "solution": true,
     "task": false
    }
   },
   "source": [
    "1) Using Pipeline improves readability of code\n",
    "2) Only requires one fit method to apply all transformations to the data"
   ]
  },
  {
   "cell_type": "markdown",
   "id": "92fec659",
   "metadata": {
    "id": "CoyCJvjHMRT-"
   },
   "source": [
    "5. What are two advantages of `RandomizedSearchCV` over `GridSearchCV`?"
   ]
  },
  {
   "cell_type": "markdown",
   "id": "5d0b8301",
   "metadata": {
    "deletable": false,
    "nbgrader": {
     "cell_type": "markdown",
     "checksum": "d1843578816add13e8726afe077b6c41",
     "grade": true,
     "grade_id": "cell-4af7ce34a43f02fb",
     "locked": false,
     "points": 3,
     "schema_version": 3,
     "solution": true,
     "task": false
    }
   },
   "source": [
    "1) The best parameters are likely to be found since the search is completely randomized.\n",
    "2) Can be customized to be faster than GridSearchCV"
   ]
  },
  {
   "cell_type": "markdown",
   "id": "91e00b40",
   "metadata": {
    "id": "SmnHq1b6MRT_"
   },
   "source": [
    "## Submission instructions \n",
    "\n",
    "**PLEASE READ:** When you are ready to submit your assignment do the following:\n",
    "\n",
    "1. Run all cells in your notebook to make sure there are no errors by doing `Kernel -> Restart Kernel and Clear All Outputs` and then `Run -> Run All Cells`. \n",
    "2. Notebooks with cell execution numbers out of order or not starting from “1” will have marks deducted. Notebooks without the output displayed may not be graded at all (because we need to see the output in order to grade your work).\n",
    "3. Upload the assignment at Canvas. \n",
    "4. Finish the corresponding reflection survey."
   ]
  }
 ],
 "metadata": {
  "jupytext": {
   "formats": "ipynb,md"
  },
  "kernelspec": {
   "display_name": "Python 3 (ipykernel)",
   "language": "python",
   "name": "python3"
  },
  "language_info": {
   "codemirror_mode": {
    "name": "ipython",
    "version": 3
   },
   "file_extension": ".py",
   "mimetype": "text/x-python",
   "name": "python",
   "nbconvert_exporter": "python",
   "pygments_lexer": "ipython3",
   "version": "3.9.12"
  },
  "toc": {
   "base_numbering": 1,
   "nav_menu": {},
   "number_sections": true,
   "sideBar": true,
   "skip_h1_title": true,
   "title_cell": "Table of Contents",
   "title_sidebar": "Contents",
   "toc_cell": false,
   "toc_position": {
    "height": "calc(100% - 180px)",
    "left": "10px",
    "top": "150px",
    "width": "349.091px"
   },
   "toc_section_display": true,
   "toc_window_display": true
  }
 },
 "nbformat": 4,
 "nbformat_minor": 5
}
