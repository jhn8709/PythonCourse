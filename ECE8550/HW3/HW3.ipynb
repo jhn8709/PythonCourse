{
 "cells": [
  {
   "cell_type": "markdown",
   "metadata": {
    "id": "mz0_QVkxCrX3"
   },
   "source": [
    "# HW 3: Tuning Deep Neural Networks"
   ]
  },
  {
   "cell_type": "markdown",
   "metadata": {
    "id": "ZeZnPAiwDRWG"
   },
   "source": [
    "In this homework, you are assigned with a classification task about wine quality prediction with deep neural networks. \n",
    "\n",
    "Your jobs are to:\n",
    "1. Run the sample code and try to understand the sample code.\n",
    "2. **Make substantial improvements** (hyperameter tuning) on the sample code achieve a better performance.\n",
    "3. Submit the generated \"submission.csv\" to the [inclass Kaggle competition](https://www.kaggle.com/t/5a67b480be35405bbdbffaccf84e495e) and check your **public score** in the leaderboard.\n",
    "4. Submit your final Jupyter Notebook to Canvas."
   ]
  },
  {
   "cell_type": "markdown",
   "metadata": {},
   "source": [
    "## Grading\n",
    "\n",
    "In short, the score will be based on the model performance on the **private** leaderboard. \n",
    "The score shown in Kaggle is that in a public dataset.\n",
    "\n",
    "|Score in **Private** leaderboard |  Homework Score  |\n",
    "|------|------|\n",
    "| [0.74, 1.00) | 100 point |\n",
    "| [0.72, 0.74) | 95 point |\n",
    "| [0.70, 0.72) | 90 point |\n",
    "| [0.68, 0.70) | 85 point |\n",
    "| [0.65, 0.68) | 80 point |\n",
    "| [0.63, 0.65) | 75 point |\n",
    "| [0.60, 0.65) | 70 point | \n",
    "| Make at least 4 revisions| 65 point |\n",
    "\n",
    "\n",
    "TA will grade your homework based on Kaggle results. \n",
    "**Please include your Kaggle account:**"
   ]
  },
  {
   "cell_type": "markdown",
   "metadata": {},
   "source": [
    "<span style=\"color:red\">Kaggle Account</span>:"
   ]
  },
  {
   "cell_type": "markdown",
   "metadata": {
    "id": "ZeZnPAiwDRWG"
   },
   "source": [
    "## Hints\n",
    "\n",
    "* Feature selection (all features  or less features)\n",
    "* Normalize features\n",
    "* DNN architecture (layers? dimension? activation function?)\n",
    "* Training (mini-batch? optimizer? learning rate?)\n",
    "* L1/L2 regularization"
   ]
  },
  {
   "cell_type": "markdown",
   "metadata": {
    "id": "nfrVxqJanGpE"
   },
   "source": [
    "**Please describe your improvements here**"
   ]
  },
  {
   "cell_type": "markdown",
   "metadata": {
    "id": "nfrVxqJanGpE",
    "nbgrader": {
     "grade": true,
     "grade_id": "cell-007a956fb7cd4529",
     "locked": false,
     "points": 10,
     "schema_version": 3,
     "solution": true,
     "task": false
    }
   },
   "source": [
    "- One\n",
    "- Two"
   ]
  },
  {
   "cell_type": "markdown",
   "metadata": {
    "id": "Jx3x1nDkG-Uy"
   },
   "source": [
    "## Preliminaries\n",
    "\n",
    "### Download Data\n",
    "\n",
    "\n",
    "If the Google drive links are dead, you can download data from [kaggle](https://www.kaggle.com/t/957a7547ea0745b191ac74652c38211b), and upload data manually to the workspace."
   ]
  },
  {
   "cell_type": "code",
   "execution_count": 1,
   "metadata": {
    "colab": {
     "base_uri": "https://localhost:8080/"
    },
    "id": "tMj55YDKG6ch",
    "outputId": "fc40ecc9-4756-48b1-d5c6-c169a8b453b2"
   },
   "outputs": [],
   "source": [
    "train_path = 'wine_train.csv'  # path to training data\n",
    "test_path = 'wine_test.csv'  # path to testing data"
   ]
  },
  {
   "cell_type": "markdown",
   "metadata": {
    "id": "wS_4-77xHk44"
   },
   "source": [
    "### Import Some Packages"
   ]
  },
  {
   "cell_type": "code",
   "execution_count": 2,
   "metadata": {
    "id": "k-onQd4JNA5H"
   },
   "outputs": [],
   "source": [
    "# PyTorch\n",
    "import torch\n",
    "import torch.nn as nn\n",
    "from torch.utils.data import Dataset, DataLoader\n",
    "\n",
    "# For data preprocess\n",
    "import numpy as np\n",
    "import csv\n",
    "import os\n",
    "\n",
    "# For plotting\n",
    "import matplotlib.pyplot as plt\n",
    "from matplotlib.pyplot import figure\n",
    "\n",
    "myseed = 42  # set a random seed for reproducibility\n",
    "torch.backends.cudnn.deterministic = True\n",
    "torch.backends.cudnn.benchmark = False\n",
    "np.random.seed(myseed)\n",
    "torch.manual_seed(myseed)\n",
    "if torch.cuda.is_available():\n",
    "    torch.cuda.manual_seed_all(myseed)"
   ]
  },
  {
   "cell_type": "markdown",
   "metadata": {
    "id": "BtE3b6JEH7rw"
   },
   "source": [
    "### Some Utilities\n",
    "\n",
    "You do not need to modify this part."
   ]
  },
  {
   "cell_type": "code",
   "execution_count": 3,
   "metadata": {
    "id": "FWMT3uf1NGQp"
   },
   "outputs": [],
   "source": [
    "def get_device():\n",
    "    ''' Get device (if GPU is available, use GPU) '''\n",
    "    return 'cuda' if torch.cuda.is_available() else 'cpu'\n",
    "\n",
    "\n",
    "def plot_learning_curve(loss_record, title=''):\n",
    "    ''' Plot learning curve of your DNN (train & dev loss) '''\n",
    "    total_steps = len(loss_record['train'])\n",
    "    x_1 = range(total_steps)\n",
    "    x_2 = x_1[::len(loss_record['train']) // len(loss_record['dev'])]\n",
    "    figure(figsize=(6, 4))\n",
    "    plt.plot(x_1, loss_record['train'], c='tab:red', label='train')\n",
    "    plt.plot(x_2, loss_record['dev'], c='tab:cyan', label='dev')\n",
    "    plt.ylim(0.0, 5.)\n",
    "    plt.xlabel('Training steps')\n",
    "    plt.ylabel('Cross entropy loss')\n",
    "    plt.title('Learning curve of {}'.format(title))\n",
    "    plt.legend()\n",
    "    plt.show()"
   ]
  },
  {
   "cell_type": "markdown",
   "metadata": {
    "id": "39U_XFX6KOoj"
   },
   "source": [
    "## Preprocess\n",
    "\n",
    "We have three kinds of datasets:\n",
    "* `train`: for training\n",
    "* `dev`: for validation\n",
    "* `test`: for testing (w/o target value)"
   ]
  },
  {
   "cell_type": "markdown",
   "metadata": {
    "id": "TQ-MdwpLL7Dt"
   },
   "source": [
    "### Dataset\n",
    "\n",
    "The `WineDataset` below does:\n",
    "* read `.csv` files\n",
    "* extract features"
   ]
  },
  {
   "cell_type": "code",
   "execution_count": 4,
   "metadata": {
    "id": "0zlpIp9ANJRU"
   },
   "outputs": [],
   "source": [
    "class WineDataset(Dataset):\n",
    "    ''' Dataset for loading and preprocessing the Wine dataset '''\n",
    "    def __init__(self, path, mode='train', target_only=False):\n",
    "        self.mode = mode\n",
    "\n",
    "        # Read data into numpy arrays\n",
    "        with open(path, 'r') as fp:\n",
    "            data = list(csv.reader(fp))\n",
    "            data = np.array(data[1:]).astype(float)\n",
    "\n",
    "        if not target_only:\n",
    "            feats = list(range(11))\n",
    "        else:\n",
    "            # TODO: Using other features\n",
    "            pass\n",
    "\n",
    "        if mode == 'test':\n",
    "            # Testing data\n",
    "            data = data[:, feats]\n",
    "            self.data = torch.FloatTensor(data)\n",
    "        else:\n",
    "            # Training data (train/dev sets)\n",
    "            target = data[:, -1]\n",
    "            data = data[:, feats]\n",
    "\n",
    "            # Splitting training data into train & dev sets\n",
    "            if mode == 'train':\n",
    "                indices = [i for i in range(len(data)) if i % 10 != 0]\n",
    "            elif mode == 'dev':\n",
    "                indices = [i for i in range(len(data)) if i % 10 == 0]\n",
    "\n",
    "            # Convert data into PyTorch tensors\n",
    "            self.data = torch.FloatTensor(data[indices])\n",
    "            self.target = torch.FloatTensor(target[indices])\n",
    "\n",
    "        self.dim = self.data.shape[1]\n",
    "\n",
    "        print(\n",
    "            'Finished reading the {} set of Wine Dataset ({} samples found, each dim = {})'\n",
    "            .format(mode, len(self.data), self.dim))\n",
    "\n",
    "    def __getitem__(self, index):\n",
    "        # Returns one sample at a time\n",
    "        if self.mode in ['train', 'dev']:\n",
    "            # For training\n",
    "            return self.data[index], self.target[index]\n",
    "        else:\n",
    "            # For testing (no target)\n",
    "            return self.data[index]\n",
    "\n",
    "    def __len__(self):\n",
    "        # Returns the size of the dataset\n",
    "        return len(self.data)"
   ]
  },
  {
   "cell_type": "markdown",
   "metadata": {
    "id": "AlhTlkE7MDo3"
   },
   "source": [
    "### DataLoader\n",
    "\n",
    "A `DataLoader` loads data from a given `Dataset` into batches.\n"
   ]
  },
  {
   "cell_type": "code",
   "execution_count": 5,
   "metadata": {
    "id": "hlhLk5t6MBX3"
   },
   "outputs": [],
   "source": [
    "def prep_dataloader(path, mode, batch_size, n_jobs=0, target_only=False):\n",
    "    ''' Generates a dataset, then is put into a dataloader. '''\n",
    "    dataset = WineDataset(path, mode=mode,\n",
    "                          target_only=target_only)  # Construct dataset\n",
    "    dataloader = DataLoader(dataset,\n",
    "                            batch_size,\n",
    "                            shuffle=(mode == 'train'),\n",
    "                            drop_last=False,\n",
    "                            num_workers=n_jobs,\n",
    "                            pin_memory=True)  # Construct dataloader\n",
    "    return dataloader"
   ]
  },
  {
   "cell_type": "markdown",
   "metadata": {
    "id": "SGuycwR0MeQB"
   },
   "source": [
    "## Deep Neural Network\n",
    "\n",
    "`NeuralNet` is an `nn.Module` designed for calssification.\n",
    "The DNN consists of 2 fully-connected layers with ReLU activation.\n",
    "This module also included a function `cal_loss` for calculating loss.\n"
   ]
  },
  {
   "cell_type": "code",
   "execution_count": 6,
   "metadata": {
    "id": "49-uXYovOAI0"
   },
   "outputs": [],
   "source": [
    "class NeuralNet(nn.Module):\n",
    "    ''' A simple fully-connected deep neural network '''\n",
    "    def __init__(self, input_dim):\n",
    "        super(NeuralNet, self).__init__()\n",
    "\n",
    "        # Define your neural network here\n",
    "        # TODO: How to modify this model to achieve better performance?\n",
    "        self.net = nn.Sequential(nn.Linear(input_dim, 64), nn.ReLU(),\n",
    "                                 nn.Linear(64, 3))\n",
    "\n",
    "        # Cross entropy loss\n",
    "        self.criterion = nn.CrossEntropyLoss()\n",
    "\n",
    "    def forward(self, x):\n",
    "        ''' Given input of size (batch_size x input_dim), compute output of the network '''\n",
    "        return self.net(x).squeeze(1)\n",
    "\n",
    "    def cal_loss(self, pred, target):\n",
    "        ''' Calculate loss '''\n",
    "        # TODO: you may implement L1/L2 regularization here\n",
    "        return self.criterion(pred, target)"
   ]
  },
  {
   "cell_type": "markdown",
   "metadata": {
    "id": "DvFWVjZ5Nvga"
   },
   "source": [
    "## Train/Dev/Test"
   ]
  },
  {
   "cell_type": "markdown",
   "metadata": {
    "id": "MAM8QecJOyqn"
   },
   "source": [
    "### Training"
   ]
  },
  {
   "cell_type": "code",
   "execution_count": 7,
   "metadata": {
    "id": "lOqcmYzMO7jB"
   },
   "outputs": [],
   "source": [
    "def train(tr_set, dv_set, model, config, device):\n",
    "    ''' DNN training '''\n",
    "\n",
    "    n_epochs = config['n_epochs']  # Maximum number of epochs\n",
    "\n",
    "    # Setup optimizer\n",
    "    optimizer = getattr(torch.optim,\n",
    "                        config['optimizer'])(model.parameters(),\n",
    "                                             **config['optim_hparas'])\n",
    "\n",
    "    min_ce = 1000.\n",
    "    loss_record = {'train': [], 'dev': []}  # for recording training loss\n",
    "    early_stop_cnt = 0\n",
    "    epoch = 0\n",
    "    while epoch < n_epochs:\n",
    "        model.train()  # set model to training mode\n",
    "        for x, y in tr_set:  # iterate through the dataloader\n",
    "            optimizer.zero_grad()  # set gradient to zero\n",
    "            x, y = x.to(device), y.long().to(\n",
    "                device)  # move data to device (cpu/cuda)\n",
    "            pred = model(x)  # forward pass (compute output)\n",
    "            crossentropy_loss = model.cal_loss(pred, y)  # compute loss\n",
    "            crossentropy_loss.backward()  # compute gradient (backpropagation)\n",
    "            optimizer.step()  # update model with optimizer\n",
    "            loss_record['train'].append(\n",
    "                crossentropy_loss.detach().cpu().item())\n",
    "\n",
    "        # After each epoch, test your model on the validation (development) set.\n",
    "        dev_ce = dev(dv_set, model, device)\n",
    "        if dev_ce < min_ce:\n",
    "            # Save model if your model improved\n",
    "            min_ce = dev_ce\n",
    "            print('Saving model (epoch = {:4d}, loss = {:.4f})'.format(\n",
    "                epoch + 1, min_ce))\n",
    "            torch.save(model.state_dict(),\n",
    "                       config['save_path'])  # Save model to specified path\n",
    "            early_stop_cnt = 0\n",
    "        else:\n",
    "            early_stop_cnt += 1\n",
    "\n",
    "        epoch += 1\n",
    "        loss_record['dev'].append(dev_ce)\n",
    "        if early_stop_cnt > config['early_stop']:\n",
    "            # Stop training if your model stops improving for \"config['early_stop']\" epochs.\n",
    "            break\n",
    "\n",
    "    print('Finished training after {} epochs'.format(epoch))\n",
    "    return min_ce, loss_record"
   ]
  },
  {
   "cell_type": "markdown",
   "metadata": {
    "id": "0hSd4Bn3O2PL"
   },
   "source": [
    "### Validation"
   ]
  },
  {
   "cell_type": "code",
   "execution_count": 8,
   "metadata": {
    "id": "yrxrD3YsN3U2"
   },
   "outputs": [],
   "source": [
    "def dev(dv_set, model, device):\n",
    "    model.eval()  # set model to evalutation mode\n",
    "    total_loss = 0\n",
    "    for x, y in dv_set:  # iterate through the dataloader\n",
    "        x, y = x.to(device), y.long().to(\n",
    "            device)  # move data to device (cpu/cuda)\n",
    "        with torch.no_grad():  # disable gradient calculation\n",
    "            pred = model(x)  # forward pass (compute output)\n",
    "            ce_loss = model.cal_loss(pred, y)  # compute loss\n",
    "        total_loss += ce_loss.detach().cpu().item() * len(x)  # accumulate loss\n",
    "    total_loss = total_loss / len(dv_set.dataset)  # compute averaged loss\n",
    "\n",
    "    return total_loss"
   ]
  },
  {
   "cell_type": "markdown",
   "metadata": {
    "id": "g0pdrhQAO41L"
   },
   "source": [
    "### Testing"
   ]
  },
  {
   "cell_type": "code",
   "execution_count": 9,
   "metadata": {
    "id": "aSBMRFlYN5tB"
   },
   "outputs": [],
   "source": [
    "def test(tt_set, model, device):\n",
    "    model.eval()  # set model to evalutation mode\n",
    "    preds = []\n",
    "    for x in tt_set:  # iterate through the dataloader\n",
    "        x = x.to(device)  # move data to device (cpu/cuda)\n",
    "        with torch.no_grad():  # disable gradient calculation\n",
    "            pred = model(x)  # forward pass (compute output)\n",
    "            preds.append(pred.detach().cpu())  # collect prediction\n",
    "    preds = torch.cat(preds, dim=0).numpy(\n",
    "    )  # concatenate all predictions and convert to a numpy array\n",
    "    return preds"
   ]
  },
  {
   "cell_type": "markdown",
   "metadata": {
    "id": "SvckkF5dvf0j"
   },
   "source": [
    "## Setup Hyper-parameters\n",
    "\n",
    "`config` contains hyper-parameters for training and the path to save your model."
   ]
  },
  {
   "cell_type": "code",
   "execution_count": 10,
   "metadata": {
    "id": "NPXpdumwPjE7"
   },
   "outputs": [],
   "source": [
    "device = get_device()  # get the current available device ('cpu' or 'cuda')\n",
    "os.makedirs('models',\n",
    "            exist_ok=True)  # The trained model will be saved to ./models/\n",
    "target_only = False  # TODO: select features\n",
    "\n",
    "# TODO: How to tune these hyper-parameters to improve your model's performance?\n",
    "config = {\n",
    "    'n_epochs': 300,  # maximum number of epochs\n",
    "    'batch_size': 100,  # mini-batch size for dataloader\n",
    "    'optimizer': 'SGD',  # optimization algorithm (optimizer in torch.optim)\n",
    "    'optim_hparas':\n",
    "    {  # hyper-parameters for the optimizer (depends on which optimizer you are using)\n",
    "        'lr': 0.001,  # learning rate of SGD\n",
    "        'momentum': 0.9  # momentum for SGD\n",
    "    },\n",
    "    'early_stop':\n",
    "    200,  # early stopping epochs (the number epochs since your model's last improvement)\n",
    "    'save_path': 'models/model.pth'  # your model will be saved here\n",
    "}"
   ]
  },
  {
   "cell_type": "markdown",
   "metadata": {
    "id": "6j1eOV3TOH-j"
   },
   "source": [
    "## Load data and model"
   ]
  },
  {
   "cell_type": "code",
   "execution_count": 11,
   "metadata": {
    "colab": {
     "base_uri": "https://localhost:8080/"
    },
    "id": "eNrYBMmePLKm",
    "outputId": "fcd4f175-4f7e-4306-f33c-5f8285f11dce"
   },
   "outputs": [
    {
     "name": "stdout",
     "output_type": "stream",
     "text": [
      "Finished reading the train set of Wine Dataset (2700 samples found, each dim = 11)\n",
      "Finished reading the dev set of Wine Dataset (300 samples found, each dim = 11)\n",
      "Finished reading the test set of Wine Dataset (1500 samples found, each dim = 11)\n"
     ]
    }
   ],
   "source": [
    "tr_set = prep_dataloader(train_path,\n",
    "                         'train',\n",
    "                         config['batch_size'],\n",
    "                         target_only=target_only)\n",
    "dv_set = prep_dataloader(train_path,\n",
    "                         'dev',\n",
    "                         config['batch_size'],\n",
    "                         target_only=target_only)\n",
    "tt_set = prep_dataloader(test_path,\n",
    "                         'test',\n",
    "                         config['batch_size'],\n",
    "                         target_only=target_only)"
   ]
  },
  {
   "cell_type": "code",
   "execution_count": 12,
   "metadata": {
    "id": "FHylSirLP9oh"
   },
   "outputs": [],
   "source": [
    "model = NeuralNet(tr_set.dataset.dim).to(\n",
    "    device)  # Construct model and move to device"
   ]
  },
  {
   "cell_type": "markdown",
   "metadata": {
    "id": "sX2B_zgSOPTJ"
   },
   "source": [
    "## Start Training!"
   ]
  },
  {
   "cell_type": "code",
   "execution_count": 13,
   "metadata": {
    "colab": {
     "base_uri": "https://localhost:8080/"
    },
    "id": "GrEbUxazQAAZ",
    "outputId": "f4f3bd74-2d97-4275-b69f-6609976b91f9"
   },
   "outputs": [
    {
     "name": "stdout",
     "output_type": "stream",
     "text": [
      "Saving model (epoch =    1, loss = 1.1058)\n",
      "Saving model (epoch =    2, loss = 1.0737)\n",
      "Saving model (epoch =    3, loss = 1.0477)\n",
      "Saving model (epoch =    4, loss = 1.0400)\n",
      "Saving model (epoch =    5, loss = 1.0383)\n",
      "Saving model (epoch =    6, loss = 1.0383)\n",
      "Saving model (epoch =   10, loss = 1.0373)\n",
      "Saving model (epoch =   11, loss = 1.0361)\n",
      "Saving model (epoch =   14, loss = 1.0339)\n",
      "Saving model (epoch =   15, loss = 1.0335)\n",
      "Saving model (epoch =   16, loss = 1.0300)\n",
      "Saving model (epoch =   23, loss = 1.0291)\n",
      "Saving model (epoch =   25, loss = 1.0273)\n",
      "Saving model (epoch =   26, loss = 1.0266)\n",
      "Saving model (epoch =   28, loss = 1.0259)\n",
      "Saving model (epoch =   29, loss = 1.0240)\n",
      "Saving model (epoch =   30, loss = 1.0238)\n",
      "Saving model (epoch =   35, loss = 1.0216)\n",
      "Saving model (epoch =   38, loss = 1.0197)\n",
      "Saving model (epoch =   41, loss = 1.0195)\n",
      "Saving model (epoch =   43, loss = 1.0169)\n",
      "Saving model (epoch =   44, loss = 1.0165)\n",
      "Saving model (epoch =   45, loss = 1.0161)\n",
      "Saving model (epoch =   48, loss = 1.0155)\n",
      "Saving model (epoch =   52, loss = 1.0110)\n",
      "Saving model (epoch =   56, loss = 1.0104)\n",
      "Saving model (epoch =   57, loss = 1.0092)\n",
      "Saving model (epoch =   58, loss = 1.0088)\n",
      "Saving model (epoch =   59, loss = 1.0054)\n",
      "Saving model (epoch =   61, loss = 1.0016)\n",
      "Saving model (epoch =   64, loss = 0.9993)\n",
      "Saving model (epoch =   67, loss = 0.9945)\n",
      "Saving model (epoch =   69, loss = 0.9933)\n",
      "Saving model (epoch =   70, loss = 0.9907)\n",
      "Saving model (epoch =   74, loss = 0.9900)\n",
      "Saving model (epoch =   76, loss = 0.9866)\n",
      "Saving model (epoch =   77, loss = 0.9852)\n",
      "Saving model (epoch =   84, loss = 0.9812)\n",
      "Saving model (epoch =   85, loss = 0.9787)\n",
      "Saving model (epoch =   90, loss = 0.9744)\n",
      "Saving model (epoch =   92, loss = 0.9741)\n",
      "Saving model (epoch =   93, loss = 0.9735)\n",
      "Saving model (epoch =   94, loss = 0.9671)\n",
      "Saving model (epoch =  101, loss = 0.9646)\n",
      "Saving model (epoch =  106, loss = 0.9621)\n",
      "Saving model (epoch =  107, loss = 0.9607)\n",
      "Saving model (epoch =  115, loss = 0.9603)\n",
      "Saving model (epoch =  117, loss = 0.9596)\n",
      "Saving model (epoch =  120, loss = 0.9584)\n",
      "Saving model (epoch =  124, loss = 0.9571)\n",
      "Saving model (epoch =  126, loss = 0.9563)\n",
      "Saving model (epoch =  128, loss = 0.9506)\n",
      "Saving model (epoch =  154, loss = 0.9466)\n",
      "Saving model (epoch =  157, loss = 0.9410)\n",
      "Saving model (epoch =  193, loss = 0.9368)\n",
      "Saving model (epoch =  206, loss = 0.9354)\n",
      "Saving model (epoch =  233, loss = 0.9346)\n",
      "Saving model (epoch =  247, loss = 0.9309)\n",
      "Saving model (epoch =  258, loss = 0.9290)\n",
      "Saving model (epoch =  274, loss = 0.9288)\n",
      "Saving model (epoch =  275, loss = 0.9269)\n",
      "Finished training after 300 epochs\n"
     ]
    }
   ],
   "source": [
    "model_loss, model_loss_record = train(tr_set, dv_set, model, config, device)"
   ]
  },
  {
   "cell_type": "code",
   "execution_count": 14,
   "metadata": {
    "colab": {
     "base_uri": "https://localhost:8080/",
     "height": 295
    },
    "id": "hsNO9nnXQBvP",
    "outputId": "1626def6-94c7-4a87-9447-d939f827c8eb"
   },
   "outputs": [
    {
     "data": {
      "image/png": "[encoded data removed]",
      "text/plain": [
       "<Figure size 600x400 with 1 Axes>"
      ]
     },
     "metadata": {},
     "output_type": "display_data"
    }
   ],
   "source": [
    "plot_learning_curve(model_loss_record, title='deep model')"
   ]
  },
  {
   "cell_type": "code",
   "execution_count": 15,
   "metadata": {
    "colab": {
     "base_uri": "https://localhost:8080/",
     "height": 350
    },
    "id": "3iZTVn5WQFpX",
    "outputId": "a2d5e118-559d-45c6-b644-6792af54663d"
   },
   "outputs": [
    {
     "data": {
      "text/plain": [
       "<All keys matched successfully>"
      ]
     },
     "execution_count": 15,
     "metadata": {},
     "output_type": "execute_result"
    }
   ],
   "source": [
    "del model\n",
    "model = NeuralNet(tr_set.dataset.dim).to(device)\n",
    "ckpt = torch.load(config['save_path'],\n",
    "                  map_location='cpu')  # Load your best model\n",
    "model.load_state_dict(ckpt)"
   ]
  },
  {
   "cell_type": "markdown",
   "metadata": {
    "id": "aQikz3IPiyPf"
   },
   "source": [
    "## Testing\n",
    "The predictions of your model on testing set will be stored at `submission.csv`."
   ]
  },
  {
   "cell_type": "code",
   "execution_count": 16,
   "metadata": {
    "colab": {
     "base_uri": "https://localhost:8080/"
    },
    "id": "O8cTuQjQQOon",
    "outputId": "6bc5de07-4c5a-4e87-9ae3-d09f539c5f2c"
   },
   "outputs": [
    {
     "name": "stdout",
     "output_type": "stream",
     "text": [
      "Saving results to submission.csv\n"
     ]
    }
   ],
   "source": [
    "def save_pred(preds, file):\n",
    "    ''' Save predictions to specified file '''\n",
    "    print('Saving results to {}'.format(file))\n",
    "    with open(file, 'w') as fp:\n",
    "        writer = csv.writer(fp)\n",
    "        writer.writerow(['Id', 'Category'])\n",
    "        for i, p in enumerate(preds):\n",
    "            writer.writerow([i, p])\n",
    "\n",
    "\n",
    "preds = test(tt_set, model,\n",
    "             device)  # predict the quality of wine cases with your model\n",
    "preds = np.argmax(preds, axis=1)  # trasfer output to predicted labels\n",
    "save_pred(preds, 'submission.csv')  # save prediction file to pred.csv"
   ]
  },
  {
   "cell_type": "markdown",
   "metadata": {
    "id": "9tmCwXgpot3t"
   },
   "source": [
    "## Credit\n",
    "Source: Heng-Jui Chang @ NTUEE (https://github.com/ga642381/ML2021-Spring/blob/main/HW01/HW01.ipynb)\n"
   ]
  }
 ],
 "metadata": {
  "accelerator": "GPU",
  "celltoolbar": "Create Assignment",
  "colab": {
   "collapsed_sections": [],
   "name": "ML2021Spring - HW1.ipynb",
   "provenance": [],
   "toc_visible": true
  },
  "jupytext": {
   "cell_metadata_filter": "-all",
   "formats": "ipynb,md"
  },
  "kernelspec": {
   "display_name": "Python 3 (ipykernel)",
   "language": "python",
   "name": "python3"
  },
  "language_info": {
   "codemirror_mode": {
    "name": "ipython",
    "version": 3
   },
   "file_extension": ".py",
   "mimetype": "text/x-python",
   "name": "python",
   "nbconvert_exporter": "python",
   "pygments_lexer": "ipython3",
   "version": "3.7.13"
  },
  "toc": {
   "base_numbering": 1,
   "nav_menu": {},
   "number_sections": true,
   "sideBar": true,
   "skip_h1_title": true,
   "title_cell": "Table of Contents",
   "title_sidebar": "Contents",
   "toc_cell": false,
   "toc_position": {},
   "toc_section_display": true,
   "toc_window_display": true
  },
  "vscode": {
   "interpreter": {
    "hash": "ad2bdc8ecc057115af97d19610ffacc2b4e99fae6737bb82f5d7fb13d2f2c186"
   }
  }
 },
 "nbformat": 4,
 "nbformat_minor": 2
}
