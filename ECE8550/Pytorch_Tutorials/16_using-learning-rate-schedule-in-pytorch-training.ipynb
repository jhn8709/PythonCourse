{
 "cells": [
  {
   "cell_type": "markdown",
   "metadata": {},
   "source": [
    "# Using Learning Rate Schedule in PyTorch Training"
   ]
  },
  {
   "cell_type": "markdown",
   "metadata": {},
   "source": [
    "Training a neural network or large deep learning model is a difficult optimization task.\n",
    "\n",
    "The classical algorithm to train neural networks is called stochastic gradient descent. \n",
    "It has been well established that you can achieve increased performance and faster training on some problems by using a learning rate that changes during training.\n",
    "\n",
    "In this tutorial, you will discover what is learning rate schedule and how you can use different learning rate schedules for your neural network models in PyTorch."
   ]
  },
  {
   "cell_type": "markdown",
   "metadata": {},
   "source": [
    "## Outcome\n",
    "\n",
    "After reading this tutorial, you will know:\n",
    "\n",
    "- Why learning rate schedule is important\n",
    "- The role of learning rate schedule in model training\n",
    "- How to use learning rate schedule in PyTorch training loop"
   ]
  },
  {
   "cell_type": "markdown",
   "metadata": {},
   "source": [
    "## Overview"
   ]
  },
  {
   "cell_type": "markdown",
   "metadata": {},
   "source": [
    "This tutorial is divided into three parts"
   ]
  },
  {
   "cell_type": "markdown",
   "metadata": {},
   "source": [
    "- Training with a Fixed Learning Rate\n",
    "- Learning Rate Schedule for Training Models\n",
    "- Applying Learning Rate Schedule in PyTorch Training"
   ]
  },
  {
   "cell_type": "markdown",
   "metadata": {},
   "source": [
    "## Learning Rate for Training Models\n",
    "\n",
    "Gradient descent is an algorithm of numerical optimization. \n",
    "What it does is to update parameters using the formula:\n",
    "\n",
    "$$\n",
    "w := w – \\alpha \\dfrac{dy}{dw}\n",
    "$$\n",
    "\n",
    "In this formula, $w$ is the parameter, e.g., the weight in a neural network, and $y$ is the objective, e.g., the loss function. \n",
    "What it does is to move $w$ to the direction that you can minimize $y$. \n",
    "The direction is provided by the differentiation, $\\dfrac{dy}{dw}$, but how much you should move $w$ is controlled by the **learning rate** $\\alpha$."
   ]
  },
  {
   "cell_type": "markdown",
   "metadata": {},
   "source": [
    "Let's start with an example model. \n",
    "In below, a model is to solve the [ionosphere binary classification problem](http://archive.ics.uci.edu/ml/datasets/Ionosphere). \n",
    "This is a small dataset that you can download from [the UCI Machine Learning repository](https://archive.ics.uci.edu/ml/machine-learning-databases/ionosphere/ionosphere.data). "
   ]
  },
  {
   "cell_type": "markdown",
   "metadata": {},
   "source": [
    "The ionosphere dataset is good for practicing with neural networks because all the input values are small numerical values of the same scale."
   ]
  },
  {
   "cell_type": "markdown",
   "metadata": {},
   "source": [
    "A small neural network model is constructed with a single hidden layer with 34 neurons, using the ReLU activation function. \n",
    "The output layer has a single neuron and uses the sigmoid activation function in order to output probability-like values."
   ]
  },
  {
   "cell_type": "markdown",
   "metadata": {},
   "source": [
    "Plain stochastic gradient descent algorithm is used, with a fixed learning rate 0.1. \n",
    "The model is trained for 50 epochs. \n",
    "The state parameters of an optimizer can be found in optimizer.param_groups; which the learning rate is a floating point value at optimizer.param_groups[0][\"lr\"]. \n",
    "At the end of each epoch, the learning rate from the optimizer is printed."
   ]
  },
  {
   "cell_type": "markdown",
   "metadata": {},
   "source": [
    "The complete example is listed below."
   ]
  },
  {
   "cell_type": "code",
   "execution_count": 1,
   "metadata": {},
   "outputs": [
    {
     "name": "stdout",
     "output_type": "stream",
     "text": [
      "Epoch 0: SGD lr=1.0000\n",
      "Epoch 1: SGD lr=1.0000\n",
      "Epoch 2: SGD lr=1.0000\n",
      "Epoch 3: SGD lr=1.0000\n",
      "Epoch 4: SGD lr=1.0000\n",
      "Epoch 5: SGD lr=1.0000\n",
      "Epoch 6: SGD lr=1.0000\n",
      "Epoch 7: SGD lr=1.0000\n",
      "Epoch 8: SGD lr=1.0000\n",
      "Epoch 9: SGD lr=1.0000\n",
      "Epoch 10: SGD lr=1.0000\n",
      "Epoch 11: SGD lr=1.0000\n",
      "Epoch 12: SGD lr=1.0000\n",
      "Epoch 13: SGD lr=1.0000\n",
      "Epoch 14: SGD lr=1.0000\n",
      "Epoch 15: SGD lr=1.0000\n",
      "Epoch 16: SGD lr=1.0000\n",
      "Epoch 17: SGD lr=1.0000\n",
      "Epoch 18: SGD lr=1.0000\n",
      "Epoch 19: SGD lr=1.0000\n",
      "Epoch 20: SGD lr=1.0000\n",
      "Epoch 21: SGD lr=1.0000\n",
      "Epoch 22: SGD lr=1.0000\n",
      "Epoch 23: SGD lr=1.0000\n",
      "Epoch 24: SGD lr=1.0000\n",
      "Epoch 25: SGD lr=1.0000\n",
      "Epoch 26: SGD lr=1.0000\n",
      "Epoch 27: SGD lr=1.0000\n",
      "Epoch 28: SGD lr=1.0000\n",
      "Epoch 29: SGD lr=1.0000\n",
      "Epoch 30: SGD lr=1.0000\n",
      "Epoch 31: SGD lr=1.0000\n",
      "Epoch 32: SGD lr=1.0000\n",
      "Epoch 33: SGD lr=1.0000\n",
      "Epoch 34: SGD lr=1.0000\n",
      "Epoch 35: SGD lr=1.0000\n",
      "Epoch 36: SGD lr=1.0000\n",
      "Epoch 37: SGD lr=1.0000\n",
      "Epoch 38: SGD lr=1.0000\n",
      "Epoch 39: SGD lr=1.0000\n",
      "Epoch 40: SGD lr=1.0000\n",
      "Epoch 41: SGD lr=1.0000\n",
      "Epoch 42: SGD lr=1.0000\n",
      "Epoch 43: SGD lr=1.0000\n",
      "Epoch 44: SGD lr=1.0000\n",
      "Epoch 45: SGD lr=1.0000\n",
      "Epoch 46: SGD lr=1.0000\n",
      "Epoch 47: SGD lr=1.0000\n",
      "Epoch 48: SGD lr=1.0000\n",
      "Epoch 49: SGD lr=1.0000\n"
     ]
    }
   ],
   "source": [
    "import numpy as np\n",
    "import pandas as pd\n",
    "import torch\n",
    "import torch.nn as nn\n",
    "import torch.optim as optim\n",
    "from sklearn.preprocessing import LabelEncoder\n",
    "from sklearn.model_selection import train_test_split\n",
    "from matplotlib import pyplot as plt\n",
    "\n",
    "# load dataset, split into input (X) and output (y) variables\n",
    "dataframe = pd.read_csv(\n",
    "    \"https://archive.ics.uci.edu/ml/machine-learning-databases/ionosphere/ionosphere.data\",\n",
    "    header=None)\n",
    "dataset = dataframe.values\n",
    "X = dataset[:, 0:34].astype(float)\n",
    "y = dataset[:, 34]\n",
    "\n",
    "# encode class values as integers\n",
    "encoder = LabelEncoder()\n",
    "encoder.fit(y)\n",
    "y = encoder.transform(y)\n",
    "\n",
    "# convert into PyTorch tensors\n",
    "X = torch.tensor(X, dtype=torch.float32)\n",
    "y = torch.tensor(y, dtype=torch.float32).reshape(-1, 1)\n",
    "\n",
    "# train-test split for evaluation of the model\n",
    "X_train, X_test, y_train, y_test = train_test_split(X,\n",
    "                                                    y,\n",
    "                                                    train_size=0.7,\n",
    "                                                    shuffle=True)\n",
    "\n",
    "model = nn.Sequential(nn.Linear(34, 34), nn.ReLU(), nn.Linear(34, 1),\n",
    "                      nn.Sigmoid())\n",
    "\n",
    "train_loss_list = []\n",
    "\n",
    "# Train the model\n",
    "n_epochs = 50\n",
    "batch_size = 24\n",
    "batch_start = torch.arange(0, len(X_train), batch_size)\n",
    "lr = 1\n",
    "loss_fn = nn.BCELoss()\n",
    "optimizer = optim.SGD(model.parameters(), lr=lr)\n",
    "model.train()\n",
    "for epoch in range(n_epochs):\n",
    "    y_pred = model(X_train)\n",
    "    loss = loss_fn(y_pred, y_train)\n",
    "    optimizer.zero_grad()\n",
    "    loss.backward()\n",
    "    optimizer.step()\n",
    "    print(\"Epoch %d: SGD lr=%.4f\" % (epoch, optimizer.param_groups[0][\"lr\"]))\n",
    "\n",
    "    train_loss_list.append(loss.detach())"
   ]
  },
  {
   "cell_type": "markdown",
   "metadata": {},
   "source": [
    "You can confirm that the learning rate didn't change over the entire training process. \n",
    "\n",
    "### It is hard to converge if a large learning rate is chosen\n",
    "\n",
    "We can plot the learning curve (loss v.s. epoch), which shows how the model is trained iteratively."
   ]
  },
  {
   "cell_type": "code",
   "execution_count": 2,
   "metadata": {},
   "outputs": [
    {
     "data": {
      "image/png": "[encoded data removed]",
      "text/plain": [
       "<Figure size 640x480 with 1 Axes>"
      ]
     },
     "metadata": {},
     "output_type": "display_data"
    }
   ],
   "source": [
    "plt.figure()\n",
    "plt.title('Loss-Epoch')\n",
    "plt.plot(range(1, len(train_loss_list) + 1), train_loss_list, label=f'lr={lr}')\n",
    "plt.ylabel('Loss')\n",
    "plt.xlabel('Epoch')\n",
    "plt.legend()\n",
    "plt.show()"
   ]
  },
  {
   "cell_type": "markdown",
   "metadata": {},
   "source": [
    "As you can see, the loss decreases rapidly in the first 15 epoches.\n",
    "However, after Epoch 15, the loss curve fluctuates diverges."
   ]
  },
  {
   "cell_type": "markdown",
   "metadata": {},
   "source": [
    "### It is slow to train models if a small learning rate is chosen\n",
    "\n",
    "If one takes a smaller learning, the learning curve is:"
   ]
  },
  {
   "cell_type": "code",
   "execution_count": 3,
   "metadata": {
    "scrolled": true
   },
   "outputs": [
    {
     "data": {
      "image/png": "[encoded data removed]",
      "text/plain": [
       "<Figure size 640x480 with 1 Axes>"
      ]
     },
     "metadata": {},
     "output_type": "display_data"
    }
   ],
   "source": [
    "# large learning rate with plot\n",
    "# create model\n",
    "model = nn.Sequential(nn.Linear(34, 34), nn.ReLU(), nn.Linear(34, 1),\n",
    "                      nn.Sigmoid())\n",
    "\n",
    "train_loss_list = []\n",
    "\n",
    "# Train the model\n",
    "n_epochs = 50\n",
    "batch_size = 24\n",
    "batch_start = torch.arange(0, len(X_train), batch_size)\n",
    "lr = 0.01\n",
    "loss_fn = nn.BCELoss()\n",
    "optimizer = optim.SGD(model.parameters(), lr=lr)\n",
    "model.train()\n",
    "for epoch in range(n_epochs):\n",
    "    y_pred = model(X_train)\n",
    "    loss = loss_fn(y_pred, y_train)\n",
    "    optimizer.zero_grad()\n",
    "    loss.backward()\n",
    "    optimizer.step()   \n",
    "    train_loss_list.append(loss.detach())\n",
    "\n",
    "plt.figure()\n",
    "plt.title('Loss-Epoch')\n",
    "plt.plot(range(1, len(train_loss_list) + 1), train_loss_list, label=f'lr={lr}')\n",
    "plt.ylabel('Loss')\n",
    "plt.xlabel('Epoch')\n",
    "plt.legend()\n",
    "plt.show()"
   ]
  },
  {
   "cell_type": "markdown",
   "metadata": {},
   "source": [
    "After 50 epoches, the loss function is large and can be further optimized."
   ]
  },
  {
   "cell_type": "markdown",
   "metadata": {},
   "source": [
    "It is ideal if the learning rate is large at the beginning to speech up the training while the learning rate is smaller after a few epoches to have a stable learning curve.\n",
    "\n",
    "A learning rate scheduler is able to dynamically adjust the learng rate."
   ]
  },
  {
   "cell_type": "markdown",
   "metadata": {},
   "source": [
    "## Learning Rate Schedule for Training Models"
   ]
  },
  {
   "cell_type": "markdown",
   "metadata": {},
   "source": [
    "An easy start is to use a constant learning rate in gradient descent algorithm. \n",
    "But you can do better with a **learning rate schedule**. \n",
    "A schedule is to make learning rate adaptive to the gradient descent optimization procedure, so you can increase performance and reduce training time."
   ]
  },
  {
   "cell_type": "markdown",
   "metadata": {},
   "source": [
    "In the neural network training process, data is feed into the network in batches, with many batches in one epoch. \n",
    "Each batch triggers one training step, which the gradient descent algorithm updates the parameters once. \n",
    "However, usually the learning rate schedule is updated once for each training epoch only."
   ]
  },
  {
   "cell_type": "markdown",
   "metadata": {},
   "source": [
    "You can update the learning rate as frequent as each step but usually it is updated once per epoch because you want to know how the network performs in order to determine how the learning rate should update. \n",
    "Regularly, a model is evaluated with validation dataset once per epoch."
   ]
  },
  {
   "cell_type": "markdown",
   "metadata": {},
   "source": [
    "There are multiple ways of making learning rate adaptive. \n",
    "At the beginning of training, you may prefer a larger learning rate so you improve the network coarsely to speed up the progress. \n",
    "In a very complex neural network model, you may also prefer to gradually increasse the learning rate at the beginning because you need the network to explore on the different dimensions of prediction. \n",
    "At the end of training, however, you always want to have the learning rate smaller. \n",
    "Since at that time, you are about to get the best performance from the model and it is easy to overshoot if the learning rate is large."
   ]
  },
  {
   "cell_type": "markdown",
   "metadata": {},
   "source": [
    "Therefore, the simplest and perhaps most used adaptation of the learning rate during training are techniques that reduce the learning rate over time. \n",
    "These have the benefit of making large changes at the beginning of the training procedure when larger learning rate values are used and decreasing the learning rate so that a smaller rate and, therefore, smaller training updates are made to weights later in the training procedure."
   ]
  },
  {
   "cell_type": "markdown",
   "metadata": {},
   "source": [
    "This has the effect of quickly learning good weights early and fine-tuning them later."
   ]
  },
  {
   "cell_type": "markdown",
   "metadata": {},
   "source": [
    "Next, let's look at how you can set up learning rate schedules in PyTorch."
   ]
  },
  {
   "cell_type": "markdown",
   "metadata": {},
   "source": [
    "## Applying Learning Rate Schedules in PyTorch Training"
   ]
  },
  {
   "cell_type": "markdown",
   "metadata": {},
   "source": [
    "In PyTorch, a model is updated by an optimizer and learning rate is a parameter of the optimizer. \n",
    "Learning rate schedule is an algorithm to update the learning rate in an optimizer."
   ]
  },
  {
   "cell_type": "markdown",
   "metadata": {},
   "source": [
    "Below is an example of creating a learning rate schedule:"
   ]
  },
  {
   "cell_type": "raw",
   "metadata": {},
   "source": [
    "import torch\n",
    "import torch.optim as optim\n",
    "import torch.optim.lr_scheduler as lr_scheduler\n",
    " \n",
    "scheduler = lr_scheduler.LinearLR(optimizer, start_factor=1.0, end_factor=0.3, total_iters=10)"
   ]
  },
  {
   "cell_type": "markdown",
   "metadata": {},
   "source": [
    "There are many learning rate scheduler provided by PyTorch in torch.optim.lr_scheduler submodule. \n",
    "All the scheduler needs the optimizer to update as first argument. \n",
    "Depends on the scheduler, you may need to provide more arguments to set up one.\n",
    "\n",
    "Let's make the training process start with a larger learning rate and end with a smaller rate. \n",
    "To introduce a learning rate scheduler, you need to run its step() function in the training loop. \n",
    "The code above is modified into the following:"
   ]
  },
  {
   "cell_type": "code",
   "execution_count": 4,
   "metadata": {},
   "outputs": [
    {
     "name": "stdout",
     "output_type": "stream",
     "text": [
      "Epoch 0: SGD lr 1.0000 -> 0.9767\n",
      "Epoch 1: SGD lr 0.9767 -> 0.9533\n",
      "Epoch 2: SGD lr 0.9533 -> 0.9300\n",
      "Epoch 3: SGD lr 0.9300 -> 0.9067\n",
      "Epoch 4: SGD lr 0.9067 -> 0.8833\n",
      "Epoch 5: SGD lr 0.8833 -> 0.8600\n",
      "Epoch 6: SGD lr 0.8600 -> 0.8367\n",
      "Epoch 7: SGD lr 0.8367 -> 0.8133\n",
      "Epoch 8: SGD lr 0.8133 -> 0.7900\n",
      "Epoch 9: SGD lr 0.7900 -> 0.7667\n",
      "Epoch 10: SGD lr 0.7667 -> 0.7433\n",
      "Epoch 11: SGD lr 0.7433 -> 0.7200\n",
      "Epoch 12: SGD lr 0.7200 -> 0.6967\n",
      "Epoch 13: SGD lr 0.6967 -> 0.6733\n",
      "Epoch 14: SGD lr 0.6733 -> 0.6500\n",
      "Epoch 15: SGD lr 0.6500 -> 0.6267\n",
      "Epoch 16: SGD lr 0.6267 -> 0.6033\n",
      "Epoch 17: SGD lr 0.6033 -> 0.5800\n",
      "Epoch 18: SGD lr 0.5800 -> 0.5567\n",
      "Epoch 19: SGD lr 0.5567 -> 0.5333\n",
      "Epoch 20: SGD lr 0.5333 -> 0.5100\n",
      "Epoch 21: SGD lr 0.5100 -> 0.4867\n",
      "Epoch 22: SGD lr 0.4867 -> 0.4633\n",
      "Epoch 23: SGD lr 0.4633 -> 0.4400\n",
      "Epoch 24: SGD lr 0.4400 -> 0.4167\n",
      "Epoch 25: SGD lr 0.4167 -> 0.3933\n",
      "Epoch 26: SGD lr 0.3933 -> 0.3700\n",
      "Epoch 27: SGD lr 0.3700 -> 0.3467\n",
      "Epoch 28: SGD lr 0.3467 -> 0.3233\n",
      "Epoch 29: SGD lr 0.3233 -> 0.3000\n",
      "Epoch 30: SGD lr 0.3000 -> 0.3000\n",
      "Epoch 31: SGD lr 0.3000 -> 0.3000\n",
      "Epoch 32: SGD lr 0.3000 -> 0.3000\n",
      "Epoch 33: SGD lr 0.3000 -> 0.3000\n",
      "Epoch 34: SGD lr 0.3000 -> 0.3000\n",
      "Epoch 35: SGD lr 0.3000 -> 0.3000\n",
      "Epoch 36: SGD lr 0.3000 -> 0.3000\n",
      "Epoch 37: SGD lr 0.3000 -> 0.3000\n",
      "Epoch 38: SGD lr 0.3000 -> 0.3000\n",
      "Epoch 39: SGD lr 0.3000 -> 0.3000\n",
      "Epoch 40: SGD lr 0.3000 -> 0.3000\n",
      "Epoch 41: SGD lr 0.3000 -> 0.3000\n",
      "Epoch 42: SGD lr 0.3000 -> 0.3000\n",
      "Epoch 43: SGD lr 0.3000 -> 0.3000\n",
      "Epoch 44: SGD lr 0.3000 -> 0.3000\n",
      "Epoch 45: SGD lr 0.3000 -> 0.3000\n",
      "Epoch 46: SGD lr 0.3000 -> 0.3000\n",
      "Epoch 47: SGD lr 0.3000 -> 0.3000\n",
      "Epoch 48: SGD lr 0.3000 -> 0.3000\n",
      "Epoch 49: SGD lr 0.3000 -> 0.3000\n"
     ]
    },
    {
     "data": {
      "image/png": "[encoded data removed]",
      "text/plain": [
       "<Figure size 640x480 with 1 Axes>"
      ]
     },
     "metadata": {},
     "output_type": "display_data"
    },
    {
     "name": "stdout",
     "output_type": "stream",
     "text": [
      "Model accuracy: 88.68%\n"
     ]
    }
   ],
   "source": [
    "import numpy as np\n",
    "import pandas as pd\n",
    "import torch\n",
    "import torch.nn as nn\n",
    "import torch.optim as optim\n",
    "import torch.optim.lr_scheduler as lr_scheduler\n",
    "from sklearn.preprocessing import LabelEncoder\n",
    "from sklearn.model_selection import train_test_split\n",
    " \n",
    "# load dataset, split into input (X) and output (y) variables\n",
    "dataframe = pd.read_csv(\"https://archive.ics.uci.edu/ml/machine-learning-databases/ionosphere/ionosphere.data\", header=None)\n",
    "dataset = dataframe.values\n",
    "X = dataset[:,0:34].astype(float)\n",
    "y = dataset[:,34]\n",
    " \n",
    "# encode class values as integers\n",
    "encoder = LabelEncoder()\n",
    "encoder.fit(y)\n",
    "y = encoder.transform(y)\n",
    " \n",
    "# convert into PyTorch tensors\n",
    "X = torch.tensor(X, dtype=torch.float32)\n",
    "y = torch.tensor(y, dtype=torch.float32).reshape(-1, 1)\n",
    " \n",
    "# train-test split for evaluation of the model\n",
    "X_train, X_test, y_train, y_test = train_test_split(X, y, train_size=0.7, shuffle=True)\n",
    " \n",
    "# create model\n",
    "model = nn.Sequential(\n",
    "    nn.Linear(34, 34),\n",
    "    nn.ReLU(),\n",
    "    nn.Linear(34, 1),\n",
    "    nn.Sigmoid()\n",
    ")\n",
    " \n",
    "# Train the model\n",
    "n_epochs = 50\n",
    "lr = 1\n",
    "loss_fn = nn.BCELoss()\n",
    "optimizer = optim.SGD(model.parameters(), lr=lr)\n",
    "scheduler = lr_scheduler.LinearLR(optimizer, start_factor=1.0, end_factor=0.3, total_iters=30)\n",
    "model.train()\n",
    "train_loss_list = []\n",
    "\n",
    "for epoch in range(n_epochs):\n",
    "    y_pred = model(X_train)\n",
    "    loss = loss_fn(y_pred, y_train)\n",
    "    optimizer.zero_grad()\n",
    "    loss.backward()\n",
    "    optimizer.step()\n",
    "    before_lr = optimizer.param_groups[0][\"lr\"]\n",
    "    scheduler.step()\n",
    "    after_lr = optimizer.param_groups[0][\"lr\"]\n",
    "    print(\"Epoch %d: SGD lr %.4f -> %.4f\" % (epoch, before_lr, after_lr))\n",
    "    train_loss_list.append(loss.detach())\n",
    "\n",
    "# plot the learning curve\n",
    "plt.figure()\n",
    "plt.title('Loss-Epoch')\n",
    "plt.plot(range(1, len(train_loss_list) + 1), train_loss_list, label=f'lr={lr}')\n",
    "plt.ylabel('Loss')\n",
    "plt.xlabel('Epoch')\n",
    "plt.legend()\n",
    "plt.show()\n",
    "\n",
    "# evaluate accuracy after training\n",
    "model.eval()\n",
    "y_pred = model(X_test)\n",
    "acc = (y_pred.round() == y_test).float().mean()\n",
    "acc = float(acc)\n",
    "print(\"Model accuracy: %.2f%%\" % (acc*100))"
   ]
  },
  {
   "cell_type": "markdown",
   "metadata": {},
   "source": [
    "In the above, LinearLR() is used. \n",
    "It is a linear rate scheduler and it takes three additional parameters, the start_factor, end_factor, and total_iters. \n",
    "You set start_factor to 1.0, end_factor to 0.5, and total_iters to 30, therefore it will make a multiplicative factor decrease from 1.0 to 0.5, in 10 equal steps. \n",
    "After 10 steps, the factor will stay at 0.5. \n",
    "This factor is then multiplied to the original learning rate at the optimizer. \n",
    "Hence you will see the learning rate decreased from $0.1\\times 1.0 = 0.1$ to $0.1\\times 0.5 = 0.05$."
   ]
  },
  {
   "cell_type": "markdown",
   "metadata": {},
   "source": [
    "Besides `LinearLR()`, you can also use `ExponentialLR()`, its syntax is:"
   ]
  },
  {
   "cell_type": "code",
   "execution_count": 5,
   "metadata": {},
   "outputs": [],
   "source": [
    "scheduler = lr_scheduler.ExponentialLR(optimizer, gamma=0.99)"
   ]
  },
  {
   "cell_type": "markdown",
   "metadata": {},
   "source": [
    "If you replaced LinearLR() with this, you will see the learning rate updated as follows:"
   ]
  },
  {
   "cell_type": "code",
   "execution_count": 6,
   "metadata": {},
   "outputs": [
    {
     "name": "stdout",
     "output_type": "stream",
     "text": [
      "Epoch 0: SGD lr 1.0000 -> 0.9900\n",
      "Epoch 1: SGD lr 0.9900 -> 0.9801\n",
      "Epoch 2: SGD lr 0.9801 -> 0.9703\n",
      "Epoch 3: SGD lr 0.9703 -> 0.9606\n",
      "Epoch 4: SGD lr 0.9606 -> 0.9510\n",
      "Epoch 5: SGD lr 0.9510 -> 0.9415\n",
      "Epoch 6: SGD lr 0.9415 -> 0.9321\n",
      "Epoch 7: SGD lr 0.9321 -> 0.9227\n",
      "Epoch 8: SGD lr 0.9227 -> 0.9135\n",
      "Epoch 9: SGD lr 0.9135 -> 0.9044\n",
      "Epoch 10: SGD lr 0.9044 -> 0.8953\n",
      "Epoch 11: SGD lr 0.8953 -> 0.8864\n",
      "Epoch 12: SGD lr 0.8864 -> 0.8775\n",
      "Epoch 13: SGD lr 0.8775 -> 0.8687\n",
      "Epoch 14: SGD lr 0.8687 -> 0.8601\n",
      "Epoch 15: SGD lr 0.8601 -> 0.8515\n",
      "Epoch 16: SGD lr 0.8515 -> 0.8429\n",
      "Epoch 17: SGD lr 0.8429 -> 0.8345\n",
      "Epoch 18: SGD lr 0.8345 -> 0.8262\n",
      "Epoch 19: SGD lr 0.8262 -> 0.8179\n",
      "Epoch 20: SGD lr 0.8179 -> 0.8097\n",
      "Epoch 21: SGD lr 0.8097 -> 0.8016\n",
      "Epoch 22: SGD lr 0.8016 -> 0.7936\n",
      "Epoch 23: SGD lr 0.7936 -> 0.7857\n",
      "Epoch 24: SGD lr 0.7857 -> 0.7778\n",
      "Epoch 25: SGD lr 0.7778 -> 0.7700\n",
      "Epoch 26: SGD lr 0.7700 -> 0.7623\n",
      "Epoch 27: SGD lr 0.7623 -> 0.7547\n",
      "Epoch 28: SGD lr 0.7547 -> 0.7472\n",
      "Epoch 29: SGD lr 0.7472 -> 0.7397\n",
      "Epoch 30: SGD lr 0.7397 -> 0.7323\n",
      "Epoch 31: SGD lr 0.7323 -> 0.7250\n",
      "Epoch 32: SGD lr 0.7250 -> 0.7177\n",
      "Epoch 33: SGD lr 0.7177 -> 0.7106\n",
      "Epoch 34: SGD lr 0.7106 -> 0.7034\n",
      "Epoch 35: SGD lr 0.7034 -> 0.6964\n",
      "Epoch 36: SGD lr 0.6964 -> 0.6894\n",
      "Epoch 37: SGD lr 0.6894 -> 0.6826\n",
      "Epoch 38: SGD lr 0.6826 -> 0.6757\n",
      "Epoch 39: SGD lr 0.6757 -> 0.6690\n",
      "Epoch 40: SGD lr 0.6690 -> 0.6623\n",
      "Epoch 41: SGD lr 0.6623 -> 0.6557\n",
      "Epoch 42: SGD lr 0.6557 -> 0.6491\n",
      "Epoch 43: SGD lr 0.6491 -> 0.6426\n",
      "Epoch 44: SGD lr 0.6426 -> 0.6362\n",
      "Epoch 45: SGD lr 0.6362 -> 0.6298\n",
      "Epoch 46: SGD lr 0.6298 -> 0.6235\n",
      "Epoch 47: SGD lr 0.6235 -> 0.6173\n",
      "Epoch 48: SGD lr 0.6173 -> 0.6111\n",
      "Epoch 49: SGD lr 0.6111 -> 0.6050\n"
     ]
    },
    {
     "data": {
      "image/png": "[encoded data removed]",
      "text/plain": [
       "<Figure size 640x480 with 1 Axes>"
      ]
     },
     "metadata": {},
     "output_type": "display_data"
    },
    {
     "name": "stdout",
     "output_type": "stream",
     "text": [
      "Model accuracy: 88.68%\n"
     ]
    }
   ],
   "source": [
    "# create model\n",
    "model = nn.Sequential(\n",
    "    nn.Linear(34, 34),\n",
    "    nn.ReLU(),\n",
    "    nn.Linear(34, 1),\n",
    "    nn.Sigmoid()\n",
    ")\n",
    " \n",
    "# Train the model\n",
    "n_epochs = 50\n",
    "lr = 1\n",
    "loss_fn = nn.BCELoss()\n",
    "optimizer = optim.SGD(model.parameters(), lr=lr)\n",
    "scheduler = lr_scheduler.ExponentialLR(optimizer, gamma=0.99)   \n",
    "train_loss_list = []\n",
    "\n",
    "for epoch in range(n_epochs):\n",
    "    y_pred = model(X_train)\n",
    "    loss = loss_fn(y_pred, y_train)\n",
    "    optimizer.zero_grad()\n",
    "    loss.backward()\n",
    "    optimizer.step()\n",
    "    before_lr = optimizer.param_groups[0][\"lr\"]\n",
    "    scheduler.step()\n",
    "    after_lr = optimizer.param_groups[0][\"lr\"]\n",
    "    print(\"Epoch %d: SGD lr %.4f -> %.4f\" % (epoch, before_lr, after_lr))\n",
    "    train_loss_list.append(loss.detach())\n",
    "\n",
    "# plot the learning curve\n",
    "plt.figure()\n",
    "plt.title('Loss-Epoch')\n",
    "plt.plot(range(1, len(train_loss_list) + 1), train_loss_list, label=f'lr={lr}')\n",
    "plt.ylabel('Loss')\n",
    "plt.xlabel('Epoch')\n",
    "plt.legend()\n",
    "plt.show()\n",
    "\n",
    "# evaluate accuracy after training\n",
    "model.eval()\n",
    "y_pred = model(X_test)\n",
    "acc = (y_pred.round() == y_test).float().mean()\n",
    "acc = float(acc)\n",
    "print(\"Model accuracy: %.2f%%\" % (acc*100))"
   ]
  },
  {
   "cell_type": "markdown",
   "metadata": {},
   "source": [
    "In which the learning rate is updated by multiplying with a constant factor gamma in each scheduler update."
   ]
  },
  {
   "cell_type": "markdown",
   "metadata": {},
   "source": [
    "## Tips for Using Learning Rate Schedules"
   ]
  },
  {
   "cell_type": "markdown",
   "metadata": {},
   "source": [
    "This section lists some tips and tricks to consider when using learning rate schedules with neural networks."
   ]
  },
  {
   "cell_type": "markdown",
   "metadata": {},
   "source": [
    "- Increase the initial learning rate. Because the learning rate will very likely decrease, start with a larger value to decrease from. A larger learning rate will result in a lot larger changes to the weights, at least in the beginning, allowing you to benefit from the fine-tuning later.\n",
    "- Use a large momentum. Many optimizers can consider momentum. Using a larger momentum value will help the optimization algorithm continue to make updates in the right direction when your learning rate shrinks to small values.\n",
    "- Experiment with different schedules. It will not be clear which learning rate schedule to use, so try a few with different configuration options and see what works best on your problem. Also, try schedules that change exponentially and even schedules that respond to the accuracy of your model on the training or test datasets."
   ]
  },
  {
   "cell_type": "markdown",
   "metadata": {},
   "source": [
    "## Summary\n",
    "\n",
    "After reading this tutorial, you learned:\n",
    "\n",
    "- How learning rate affects your model training\n",
    "- How to set up learning rate schedule in PyTorch\n",
    "- How to create a custom learning rate schedule"
   ]
  },
  {
   "cell_type": "markdown",
   "metadata": {},
   "source": [
    "## Further Readings\n",
    "\n",
    "Below is the documentation for more details on using learning rates in PyTorch:\n",
    "\n",
    "- [How to adjust learning rate](https://pytorch.org/docs/stable/optim.html#how-to-adjust-learning-rate), from PyTorch documentation"
   ]
  }
 ],
 "metadata": {
  "jupytext": {
   "formats": "ipynb,md"
  },
  "kernelspec": {
   "display_name": "Python 3 (ipykernel)",
   "language": "python",
   "name": "python3"
  },
  "language_info": {
   "codemirror_mode": {
    "name": "ipython",
    "version": 3
   },
   "file_extension": ".py",
   "mimetype": "text/x-python",
   "name": "python",
   "nbconvert_exporter": "python",
   "pygments_lexer": "ipython3",
   "version": "3.7.13"
  },
  "toc": {
   "base_numbering": 1,
   "nav_menu": {},
   "number_sections": true,
   "sideBar": true,
   "skip_h1_title": false,
   "title_cell": "Table of Contents",
   "title_sidebar": "Contents",
   "toc_cell": false,
   "toc_position": {},
   "toc_section_display": true,
   "toc_window_display": false
  }
 },
 "nbformat": 4,
 "nbformat_minor": 1
}
