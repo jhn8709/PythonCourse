{
 "cells": [
  {
   "cell_type": "markdown",
   "metadata": {},
   "source": [
    "# Using Activation Functions in Deep Learning Models"
   ]
  },
  {
   "cell_type": "markdown",
   "metadata": {},
   "source": [
    "A deep learning model in its simplest form are layers of perceptrons connected in tandem. \n",
    "Without any activation functions, they are just matrix multiplications with limited power, regardless how many of them. \n",
    "Activation is the magic why neural network can be an approximation to a wide variety of non-linear function. \n",
    "In PyTorch, there are many activation functions available for use in your deep learning models. \n",
    "In this tutorial, you will see how the choice of activation functions can impact the model. \n",
    "Specifically,\n",
    "\n",
    "- What are the common activation functions\n",
    "- What are the nature of activation functions\n",
    "- How the different activation functions impact the learning rate\n",
    "- How the selection of activation function can solve the vanishing gradient problem"
   ]
  },
  {
   "cell_type": "markdown",
   "metadata": {},
   "source": [
    "## Overview"
   ]
  },
  {
   "cell_type": "markdown",
   "metadata": {},
   "source": [
    "This tutorial is in three parts; they are\n",
    "\n",
    "- A Toy Model of Binary Classification\n",
    "- Why Nonlinear Functions?\n",
    "- The Effect of Activation Functions"
   ]
  },
  {
   "cell_type": "markdown",
   "metadata": {},
   "source": [
    "## A Toy Model of Binary Classification"
   ]
  },
  {
   "cell_type": "markdown",
   "metadata": {},
   "source": [
    "Let's start with a simple example of binary classification. \n",
    "Here you use the make_circle() function from scikit-learn to create a synthetic dataset for binary classification. \n",
    "This dataset has two features: The x- and y-coordinate of points. \n",
    "Each point belongs to one of the two classes. \n",
    "You can generate 1000 data points and visualize them as below:"
   ]
  },
  {
   "cell_type": "code",
   "execution_count": 1,
   "metadata": {},
   "outputs": [],
   "source": [
    "from sklearn.datasets import make_circles\n",
    "import matplotlib.pyplot as plt\n",
    "import torch\n",
    "import torch.nn as nn\n",
    "import torch.optim as optim\n",
    " \n",
    "# Make data: Two circles on x-y plane as a classification problem\n",
    "X, y = make_circles(n_samples=1000, factor=0.5, noise=0.1)\n",
    "X = torch.tensor(X, dtype=torch.float32)\n",
    "y = torch.tensor(y.reshape(-1, 1), dtype=torch.float32)\n",
    " \n",
    "plt.figure(figsize=(8,6))\n",
    "plt.scatter(X[:,0], X[:,1], c=y)\n",
    "plt.show()"
   ]
  },
  {
   "cell_type": "markdown",
   "metadata": {},
   "source": [
    "The dataset is visualized as follows:"
   ]
  },
  {
   "cell_type": "markdown",
   "metadata": {},
   "source": [
    "This dataset is special because it is simple but not linearly separable: It is impossible to find a straight line to separate two classes. \n",
    "How can your neural network figure out there's a circle boundary between the classes is a challenge."
   ]
  },
  {
   "cell_type": "markdown",
   "metadata": {},
   "source": [
    "Let's create a deep learning model for this problem. \n",
    "To make things simple, you do not do cross validation. \n",
    "You may find the neural network overfit the data but it doesn't affect the discussion below. \n",
    "The model has 4 hidden layers and the output layer gives a sigmodal value (0 to 1) for binary classification. \n",
    "The model accepts a parameter at its constructor to specify what is the activation to use in the hidden layers. \n",
    "You implement the training loop in a function as you will run this for several times."
   ]
  },
  {
   "cell_type": "markdown",
   "metadata": {},
   "source": [
    "The implementation is as follows:"
   ]
  },
  {
   "cell_type": "code",
   "execution_count": 2,
   "metadata": {},
   "outputs": [],
   "source": [
    "class Model(nn.Module):\n",
    "    def __init__(self, activation=nn.ReLU):\n",
    "        super().__init__()\n",
    "        self.layer0 = nn.Linear(2,5)\n",
    "        self.act0 = activation()\n",
    "        self.layer1 = nn.Linear(5,5)\n",
    "        self.act1 = activation()\n",
    "        self.layer2 = nn.Linear(5,5)\n",
    "        self.act2 = activation()\n",
    "        self.layer3 = nn.Linear(5,5)\n",
    "        self.act3 = activation()\n",
    "        self.layer4 = nn.Linear(5,1)\n",
    "        self.act4 = nn.Sigmoid()\n",
    " \n",
    "    def forward(self, x):\n",
    "        x = self.act0(self.layer0(x))\n",
    "        x = self.act1(self.layer1(x))\n",
    "        x = self.act2(self.layer2(x))\n",
    "        x = self.act3(self.layer3(x))\n",
    "        x = self.act4(self.layer4(x))\n",
    "        return x\n",
    "\n",
    "def train_loop(model, X, y, n_epochs=300, batch_size=32):\n",
    "    loss_fn = nn.BCELoss()\n",
    "    optimizer = optim.Adam(model.parameters(), lr=0.0001)\n",
    "    batch_start = torch.arange(0, len(X), batch_size)\n",
    "    \n",
    "    bce_hist = []\n",
    "    acc_hist = []\n",
    "    \n",
    "    for epoch in range(n_epochs):\n",
    "        # train model with optimizer\n",
    "        model.train()\n",
    "        for start in batch_start:\n",
    "            X_batch = X[start:start+batch_size]\n",
    "            y_batch = y[start:start+batch_size]\n",
    "            y_pred = model(X_batch)\n",
    "            loss = loss_fn(y_pred, y_batch)\n",
    "            optimizer.zero_grad()\n",
    "            loss.backward()\n",
    "            optimizer.step()\n",
    "        # evaluate BCE and accuracy at end of each epoch\n",
    "        model.eval()\n",
    "        with torch.no_grad():\n",
    "            y_pred = model(X)\n",
    "            bce = float(loss_fn(y_pred, y))\n",
    "            acc = float((y_pred.round() == y).float().mean())\n",
    "        bce_hist.append(bce)\n",
    "        acc_hist.append(acc)\n",
    "        # print metrics every 10 epochs\n",
    "        if (epoch+1) % 10 == 0:\n",
    "            print(\"Before epoch %d: BCE=%.4f, Accuracy=%.2f%%\" % (epoch+1, bce, acc*100))\n",
    "    return bce_hist, acc_hist"
   ]
  },
  {
   "cell_type": "markdown",
   "metadata": {},
   "source": [
    "At the end of each epoch in the training function, you evaluate the model with the entire dataset. \n",
    "The evaluation result is returned when the training finished. \n",
    "In the following, you create a model, train it, and plot the training history. \n",
    "The activation function you use is rectified linear unitÂ or ReLU, which is the most common activation function nowadays:"
   ]
  },
  {
   "cell_type": "code",
   "execution_count": 3,
   "metadata": {},
   "outputs": [],
   "source": [
    "activation = nn.ReLU\n",
    "model = Model(activation=activation)\n",
    "bce_hist, acc_hist = train_loop(model, X, y)\n",
    "plt.plot(bce_hist, label=\"BCE\")\n",
    "plt.plot(acc_hist, label=\"Accuracy\")\n",
    "plt.xlabel(\"Epochs\")\n",
    "plt.ylim(0, 1)\n",
    "plt.title(str(activation))\n",
    "plt.legend()\n",
    "plt.show()"
   ]
  },
  {
   "cell_type": "markdown",
   "metadata": {},
   "source": [
    "This model works great. \n",
    "After 300 epochs, it can achieve 90% accuracy. \n",
    "However, ReLU is not the only activation function. \n",
    "Historically, sigmoid function and hyperbolic tangents were common in neural networks literatures. \n",
    "If you're curious, below are how you can compare these three activation functions, using matplotlib:"
   ]
  },
  {
   "cell_type": "code",
   "execution_count": 5,
   "metadata": {},
   "outputs": [],
   "source": [
    "x = torch.linspace(-4, 4, 200)\n",
    "relu = nn.ReLU()(x)\n",
    "tanh = nn.Tanh()(x)\n",
    "sigmoid = nn.Sigmoid()(x)\n",
    " \n",
    "plt.plot(x, sigmoid, label=\"sigmoid\")\n",
    "plt.plot(x, tanh, label=\"tanh\")\n",
    "plt.plot(x, relu, label=\"ReLU\")\n",
    "plt.ylim(-1.5, 2)\n",
    "plt.legend()\n",
    "plt.show()"
   ]
  },
  {
   "cell_type": "markdown",
   "metadata": {},
   "source": [
    "ReLU is called rectified linear unit because it is a linear function $y=x$ at positive $x$ but remains zero if $x$ is negative. \n",
    "Mathematically, it is $y=\\max(0, x)$. \n",
    "Hyperbolic tangent ($y=\\tanh(x)=\\dfrac{e^x – e^{-x}}{e^x+e^{-x}}$) goes from -1 to +1 smoothly while sigmoid function ($y=\\sigma(x)=\\dfrac{1}{1+e^{-x}}$) goes from 0 to +1."
   ]
  },
  {
   "cell_type": "markdown",
   "metadata": {},
   "source": [
    "If you try to differentiate these functions, you will find that ReLU is the easiest: The gradient is 1 at positive region and 0 otherwise. \n",
    "Hyperbolic tangent has a steeper slope therefore its gradient is greater than that of sigmoid function."
   ]
  },
  {
   "cell_type": "markdown",
   "metadata": {},
   "source": [
    "All these functions are increasing. \n",
    "Therefore, their gradients are never negative. \n",
    "This is one of the criteria for an activation function suitable to use in neural networks."
   ]
  },
  {
   "cell_type": "markdown",
   "metadata": {},
   "source": [
    "## Why Nonlinear Functions?"
   ]
  },
  {
   "cell_type": "markdown",
   "metadata": {},
   "source": [
    "You might be wondering, why all this hype about nonlinear activation functions? Or why canâ€™t we just use an identity function after the weighted linear combination of activations from the previous layer? Using multiple linear layers is basically the same as using a single linear layer. \n",
    "This can be seen through a simple example. \n",
    "Letâ€™s say you have a one hidden layer neural network, each with two hidden neurons."
   ]
  },
  {
   "cell_type": "markdown",
   "metadata": {},
   "source": [
    "You can then rewrite the output layer as a linear combination of the original input variable if you used a linear hidden layer. \n",
    "If you had more neurons and weights, the equation would be a lot longer with more nesting and more multiplications between successive layer weights. \n",
    "However, the idea remains the same: You can represent the entire network as a single linear layer. \n",
    "To make the network represent more complex functions, you would need nonlinear activation functions."
   ]
  },
  {
   "cell_type": "markdown",
   "metadata": {},
   "source": [
    "## The Effect of Activation Functions"
   ]
  },
  {
   "cell_type": "markdown",
   "metadata": {},
   "source": [
    "To explain how much impact the activation function can bring to your model, let's modify the training loop function to capture more data: The gradients in each training step. \n",
    "You model has four hidden layers and one output layer. \n",
    "In each step, the backward pass calculates the gradient of the weights of each layer and the weight update is done by the optimizer based on the result of the backward pass. \n",
    "You should observe how the gradient changes as the training progressed. \n",
    "Therefore, the training loop function is modified to collect the mean absolute value of the gradient in each layer in each step, as follows:"
   ]
  },
  {
   "cell_type": "code",
   "execution_count": 6,
   "metadata": {},
   "outputs": [],
   "source": [
    "def train_loop(model, X, y, n_epochs=300, batch_size=32):\n",
    "    loss_fn = nn.BCELoss()\n",
    "    optimizer = optim.Adam(model.parameters(), lr=0.0001)\n",
    "    batch_start = torch.arange(0, len(X), batch_size)\n",
    "    \n",
    "    bce_hist = []\n",
    "    acc_hist = []\n",
    "    grad_hist = [[],[],[],[],[]]\n",
    " \n",
    "    for epoch in range(n_epochs):\n",
    "        # train model with optimizer\n",
    "        model.train()\n",
    "        layer_grad = [[],[],[],[],[]]\n",
    "        for start in batch_start:\n",
    "            X_batch = X[start:start+batch_size]\n",
    "            y_batch = y[start:start+batch_size]\n",
    "            y_pred = model(X_batch)\n",
    "            loss = loss_fn(y_pred, y_batch)\n",
    "            optimizer.zero_grad()\n",
    "            loss.backward()\n",
    "            optimizer.step()\n",
    "            # collect mean absolute value of gradients\n",
    "            layers = [model.layer0, model.layer1, model.layer2, model.layer3, model.layer4]\n",
    "            for n,layer in enumerate(layers):\n",
    "                mean_grad = float(layer.weight.grad.abs().mean())\n",
    "                layer_grad[n].append(mean_grad)\n",
    "        # evaluate BCE and accuracy at end of each epoch\n",
    "        model.eval()\n",
    "        with torch.no_grad():\n",
    "            y_pred = model(X)\n",
    "            bce = float(loss_fn(y_pred, y))\n",
    "            acc = float((y_pred.round() == y).float().mean())\n",
    "        bce_hist.append(bce)\n",
    "        acc_hist.append(acc)\n",
    "        for n, grads in enumerate(layer_grad):\n",
    "            grad_hist[n].append(sum(grads)/len(grads))\n",
    "        # print metrics every 10 epochs\n",
    "        if epoch % 10 == 9:\n",
    "            print(\"Epoch %d: BCE=%.4f, Accuracy=%.2f%%\" % (epoch, bce, acc*100))\n",
    "    return bce_hist, acc_hist, layer_grad"
   ]
  },
  {
   "cell_type": "markdown",
   "metadata": {},
   "source": [
    "At the end of the inner for-loop, the gradients of the layer weights are computed by the backward process earlier and you can access to the gradient using model.layer0.weight.grad. \n",
    "Like the weights, the gradients are tensors. \n",
    "You take the absolute value of each element and then compute the mean over all elements. \n",
    "This value depends on the batch and can be very noisy. \n",
    "Thus you summarize all such mean absolute value over the same epoch at the end."
   ]
  },
  {
   "cell_type": "markdown",
   "metadata": {},
   "source": [
    "Note that you have five layers in the neural network (hidden and output layers combined). \n",
    "So you can see the pattern of each layer's gradient across the epochs if you visualize them. \n",
    "In below, you run the training loop as before and plot both the cross entropy and accuracy as well as the mean absolute gradient of each layer:"
   ]
  },
  {
   "cell_type": "code",
   "execution_count": 7,
   "metadata": {},
   "outputs": [],
   "source": [
    "activation = nn.ReLU\n",
    "model = Model(activation=activation)\n",
    "bce_hist, acc_hist, grad_hist = train_loop(model, X, y)\n",
    " \n",
    "fig, ax = plt.subplots(1, 2, figsize=(12, 5))\n",
    "ax[0].plot(bce_hist, label=\"BCE\")\n",
    "ax[0].plot(acc_hist, label=\"Accuracy\")\n",
    "ax[0].set_xlabel(\"Epochs\")\n",
    "ax[0].set_ylim(0, 1)\n",
    "for n, grads in enumerate(grad_hist):\n",
    "    ax[1].plot(grads, label=\"layer\"+str(n))\n",
    "ax[1].set_xlabel(\"Epochs\")\n",
    "fig.suptitle(str(activation))\n",
    "ax[0].legend()\n",
    "ax[1].legend()\n",
    "plt.show()"
   ]
  },
  {
   "cell_type": "markdown",
   "metadata": {},
   "source": [
    "In the plot above, you can see how the accuracy increases and the cross entropy loss decreases. \n",
    "At the same time, you can see the gradient of each layer is fluctuating in a similar range, especially you should pay attention to the line corresponding to the first layer and the last layer. \n",
    "This behavior is ideal."
   ]
  },
  {
   "cell_type": "markdown",
   "metadata": {},
   "source": [
    "Let's repeat the same with a sigmoid activation:"
   ]
  },
  {
   "cell_type": "code",
   "execution_count": 8,
   "metadata": {},
   "outputs": [],
   "source": [
    "activation = nn.Sigmoid\n",
    "model = Model(activation=activation)\n",
    "bce_hist, acc_hist, grad_hist = train_loop(model, X, y)\n",
    " \n",
    "fig, ax = plt.subplots(1, 2, figsize=(12, 5))\n",
    "ax[0].plot(bce_hist, label=\"BCE\")\n",
    "ax[0].plot(acc_hist, label=\"Accuracy\")\n",
    "ax[0].set_xlabel(\"Epochs\")\n",
    "ax[0].set_ylim(0, 1)\n",
    "for n, grads in enumerate(grad_hist):\n",
    "    ax[1].plot(grads, label=\"layer\"+str(n))\n",
    "ax[1].set_xlabel(\"Epochs\")\n",
    "fig.suptitle(str(activation))\n",
    "ax[0].legend()\n",
    "ax[1].legend()\n",
    "plt.show()"
   ]
  },
  {
   "cell_type": "markdown",
   "metadata": {},
   "source": [
    "You can see that after 300 epochs, the final result is much worse than ReLU activation. \n",
    "Indeed, you may need much more epochs for this model to converge. \n",
    "The reason can be easily found on the graph at right, which you can see the gradient is significant only for the output layer while all the hidden layers' gradients are virtually zero. \n",
    "This is the vanishing gradient effect which is the problem of many neural network models with sigmoid activation function."
   ]
  },
  {
   "cell_type": "markdown",
   "metadata": {},
   "source": [
    "The hyperbolic tangent function has a similar shape as sigmoid function but its curve is steeper. \n",
    "Let's see how it behaves:"
   ]
  },
  {
   "cell_type": "code",
   "execution_count": 9,
   "metadata": {},
   "outputs": [],
   "source": [
    "activation = nn.Tanh\n",
    "model = Model(activation=activation)\n",
    "bce_hist, acc_hist, grad_hist = train_loop(model, X, y)\n",
    " \n",
    "fig, ax = plt.subplots(1, 2, figsize=(12, 5))\n",
    "ax[0].plot(bce_hist, label=\"BCE\")\n",
    "ax[0].plot(acc_hist, label=\"Accuracy\")\n",
    "ax[0].set_xlabel(\"Epochs\")\n",
    "ax[0].set_ylim(0, 1)\n",
    "for n, grads in enumerate(grad_hist):\n",
    "    ax[1].plot(grads, label=\"layer\"+str(n))\n",
    "ax[1].set_xlabel(\"Epochs\")\n",
    "fig.suptitle(str(activation))\n",
    "ax[0].legend()\n",
    "ax[1].legend()\n",
    "plt.show()"
   ]
  },
  {
   "cell_type": "markdown",
   "metadata": {},
   "source": [
    "The result looks better than sigmoid activation but still worse then ReLU. \n",
    "In fact, from the gradient plot, you can notice that the gradients at the hidden layers are significant but the gradient at the first hidden layer is obviously at an order of magnitude less than that at the output layer. \n",
    "Thus the backward process is not very effective at propagating the gradient to the input."
   ]
  },
  {
   "cell_type": "markdown",
   "metadata": {},
   "source": [
    "This is the reason you see ReLU activation in every neural network model today. \n",
    "Not only because ReLU is simpler and computing the differentiation of it is much faster than the other activation function, but also because it can make the model converge faster."
   ]
  },
  {
   "cell_type": "markdown",
   "metadata": {},
   "source": [
    "Indeed, you can do better than ReLU sometimes. \n",
    "In PyTorch, you have a number of ReLU variations. \n",
    "Let's look at two of them. \n",
    "You can compare these three varation of ReLU as follows:"
   ]
  },
  {
   "cell_type": "code",
   "execution_count": 10,
   "metadata": {},
   "outputs": [],
   "source": [
    "x = torch.linspace(-8, 8, 200)\n",
    "relu = nn.ReLU()(x)\n",
    "relu6 = nn.ReLU6()(x)\n",
    "leaky = nn.LeakyReLU()(x)\n",
    " \n",
    "plt.plot(x, relu, label=\"ReLU\")\n",
    "plt.plot(x, relu6, label=\"ReLU6\")\n",
    "plt.plot(x, leaky, label=\"LeakyReLU\")\n",
    "plt.legend()\n",
    "plt.show()"
   ]
  },
  {
   "cell_type": "markdown",
   "metadata": {},
   "source": [
    "First is the ReLU6, which is ReLU but cap the function at 6.0 if the input to the function is more than 6.0:"
   ]
  },
  {
   "cell_type": "code",
   "execution_count": 11,
   "metadata": {},
   "outputs": [],
   "source": [
    "activation = nn.ReLU6\n",
    "model = Model(activation=activation)\n",
    "bce_hist, acc_hist, grad_hist = train_loop(model, X, y)\n",
    " \n",
    "fig, ax = plt.subplots(1, 2, figsize=(12, 5))\n",
    "ax[0].plot(bce_hist, label=\"BCE\")\n",
    "ax[0].plot(acc_hist, label=\"Accuracy\")\n",
    "ax[0].set_xlabel(\"Epochs\")\n",
    "ax[0].set_ylim(0, 1)\n",
    "for n, grads in enumerate(grad_hist):\n",
    "    ax[1].plot(grads, label=\"layer\"+str(n))\n",
    "ax[1].set_xlabel(\"Epochs\")\n",
    "fig.suptitle(str(activation))\n",
    "ax[0].legend()\n",
    "ax[1].legend()\n",
    "plt.show()"
   ]
  },
  {
   "cell_type": "markdown",
   "metadata": {},
   "source": [
    "Next is leaky ReLU, which the negative half of ReLU is no longer flat but a gently slanted line. \n",
    "The rationale behind is to keep a small positive gradient at that region."
   ]
  },
  {
   "cell_type": "code",
   "execution_count": 12,
   "metadata": {},
   "outputs": [],
   "source": [
    "activation = nn.LeakyReLU\n",
    "model = Model(activation=activation)\n",
    "bce_hist, acc_hist, grad_hist = train_loop(model, X, y)\n",
    " \n",
    "fig, ax = plt.subplots(1, 2, figsize=(12, 5))\n",
    "ax[0].plot(bce_hist, label=\"BCE\")\n",
    "ax[0].plot(acc_hist, label=\"Accuracy\")\n",
    "ax[0].set_xlabel(\"Epochs\")\n",
    "ax[0].set_ylim(0, 1)\n",
    "for n, grads in enumerate(grad_hist):\n",
    "    ax[1].plot(grads, label=\"layer\"+str(n))\n",
    "ax[1].set_xlabel(\"Epochs\")\n",
    "fig.suptitle(str(activation))\n",
    "ax[0].legend()\n",
    "ax[1].legend()\n",
    "plt.show()"
   ]
  },
  {
   "cell_type": "markdown",
   "metadata": {},
   "source": [
    "You can see that all these variations can give you similar accuracy after 300 epochs but from the history curve, you know some are faster to reach a high accuracy than another. \n",
    "This is because of the interaction between the gradient of an activation function with the optimizer. \n",
    "There's no golden rule that a single activation function works best but the design helps:"
   ]
  },
  {
   "cell_type": "markdown",
   "metadata": {},
   "source": [
    "- in backpropagation, passing the loss metric from the output layer all the way to the input layer\n",
    "- maintaining stable gradient calculation under specific condition, e.g., limiting floating point precision\n",
    "- providing enough contrast on different input such that the backward pass can determine accurate adjustment to the parameter"
   ]
  },
  {
   "cell_type": "markdown",
   "metadata": {},
   "source": [
    "The following is the complete code to generate all the plots above:"
   ]
  },
  {
   "cell_type": "code",
   "execution_count": 13,
   "metadata": {},
   "outputs": [],
   "source": [
    "from sklearn.datasets import make_circles\n",
    "import matplotlib.pyplot as plt\n",
    "import torch\n",
    "import torch.nn as nn\n",
    "import torch.optim as optim\n",
    " \n",
    "# Make data: Two circles on x-y plane as a classification problem\n",
    "X, y = make_circles(n_samples=1000, factor=0.5, noise=0.1)\n",
    "X = torch.tensor(X, dtype=torch.float32)\n",
    "y = torch.tensor(y.reshape(-1, 1), dtype=torch.float32)\n",
    " \n",
    "# Binary classification model\n",
    "class Model(nn.Module):\n",
    "    def __init__(self, activation=nn.ReLU):\n",
    "        super().__init__()\n",
    "        self.layer0 = nn.Linear(2,5)\n",
    "        self.act0 = activation()\n",
    "        self.layer1 = nn.Linear(5,5)\n",
    "        self.act1 = activation()\n",
    "        self.layer2 = nn.Linear(5,5)\n",
    "        self.act2 = activation()\n",
    "        self.layer3 = nn.Linear(5,5)\n",
    "        self.act3 = activation()\n",
    "        self.layer4 = nn.Linear(5,1)\n",
    "        self.act4 = nn.Sigmoid()\n",
    " \n",
    "    def forward(self, x):\n",
    "        x = self.act0(self.layer0(x))\n",
    "        x = self.act1(self.layer1(x))\n",
    "        x = self.act2(self.layer2(x))\n",
    "        x = self.act3(self.layer3(x))\n",
    "        x = self.act4(self.layer4(x))\n",
    "        return x\n",
    "\n",
    "# train the model and produce history\n",
    "def train_loop(model, X, y, n_epochs=300, batch_size=32):\n",
    "    loss_fn = nn.BCELoss()\n",
    "    optimizer = optim.Adam(model.parameters(), lr=0.0001)\n",
    "    batch_start = torch.arange(0, len(X), batch_size)\n",
    "    \n",
    "    bce_hist = []\n",
    "    acc_hist = []\n",
    "    grad_hist = [[],[],[],[],[]]\n",
    " \n",
    "    for epoch in range(n_epochs):\n",
    "        # train model with optimizer\n",
    "        model.train()\n",
    "        layer_grad = [[],[],[],[],[]]\n",
    "        for start in batch_start:\n",
    "            X_batch = X[start:start+batch_size]\n",
    "            y_batch = y[start:start+batch_size]\n",
    "            y_pred = model(X_batch)\n",
    "            loss = loss_fn(y_pred, y_batch)\n",
    "            optimizer.zero_grad()\n",
    "            loss.backward()\n",
    "            optimizer.step()\n",
    "            # collect mean absolute value of gradients\n",
    "            layers = [model.layer0, model.layer1, model.layer2, model.layer3, model.layer4]\n",
    "            for n,layer in enumerate(layers):\n",
    "                mean_grad = float(layer.weight.grad.abs().mean())\n",
    "                layer_grad[n].append(mean_grad)\n",
    "        # evaluate BCE and accuracy at end of each epoch\n",
    "        model.eval()\n",
    "        with torch.no_grad():\n",
    "            y_pred = model(X)\n",
    "            bce = float(loss_fn(y_pred, y))\n",
    "            acc = float((y_pred.round() == y).float().mean())\n",
    "        bce_hist.append(bce)\n",
    "        acc_hist.append(acc)\n",
    "        for n, grads in enumerate(layer_grad):\n",
    "            grad_hist[n].append(sum(grads)/len(grads))\n",
    "        # print metrics every 10 epochs\n",
    "        if epoch % 10 == 9:\n",
    "            print(\"Epoch %d: BCE=%.4f, Accuracy=%.2f%%\" % (epoch, bce, acc*100))\n",
    "    return bce_hist, acc_hist, layer_grad\n",
    " \n",
    "# pick different activation functions and compare the result visually\n",
    "for activation in [nn.Sigmoid, nn.Tanh, nn.ReLU, nn.ReLU6, nn.LeakyReLU]:\n",
    "    model = Model(activation=activation)\n",
    "    bce_hist, acc_hist, grad_hist = train_loop(model, X, y)\n",
    " \n",
    "    fig, ax = plt.subplots(1, 2, figsize=(12, 5))\n",
    "    ax[0].plot(bce_hist, label=\"BCE\")\n",
    "    ax[0].plot(acc_hist, label=\"Accuracy\")\n",
    "    ax[0].set_xlabel(\"Epochs\")\n",
    "    ax[0].set_ylim(0, 1)\n",
    "    for n, grads in enumerate(grad_hist):\n",
    "        ax[1].plot(grads, label=\"layer\"+str(n))\n",
    "    ax[1].set_xlabel(\"Epochs\")\n",
    "    fig.suptitle(str(activation))\n",
    "    ax[0].legend()\n",
    "    ax[1].legend()\n",
    "    plt.show()"
   ]
  },
  {
   "cell_type": "markdown",
   "metadata": {},
   "source": [
    "## Summary"
   ]
  },
  {
   "cell_type": "markdown",
   "metadata": {},
   "source": [
    "In this chapter, you discovered how to select activation functions for your PyTorch model. \n",
    "You learned:"
   ]
  },
  {
   "cell_type": "markdown",
   "metadata": {},
   "source": [
    "- What are the common activation functions and how they look like\n",
    "- How to use activation functions in your PyTorch model\n",
    "- What is vanishing gradient problem\n",
    "- The impact of activation function to the performance of your model"
   ]
  },
  {
   "cell_type": "markdown",
   "metadata": {},
   "source": [
    "## Further Readings\n",
    "\n",
    "\n",
    "- [nn.Sigmoid](https://pytorch.org/docs/stable/generated/torch.nn.Sigmoid.html) from PyTorch documentation\n",
    "- [nn.Tanh](https://pytorch.org/docs/stable/generated/torch.nn.Tanh.html) from PyTorch documentation\n",
    "- [nn.ReLU](https://pytorch.org/docs/stable/generated/torch.nn.ReLU.html) from PyTorch documentation\n",
    "- [nn.ReLU6](https://pytorch.org/docs/stable/generated/torch.nn.ReLU6.html) from PyTorch documentation\n",
    "- [nn.LeakyReLU](https://pytorch.org/docs/stable/generated/torch.nn.LeakyReLU.html) from PyTorch documentation\n",
    "- [Vanishing gradient problem](https://en.wikipedia.org/wiki/Vanishing_gradient_problem), Wikipedia\n"
   ]
  }
 ],
 "metadata": {
  "jupytext": {
   "cell_metadata_filter": "-all",
   "formats": "ipynb,md"
  },
  "kernelspec": {
   "display_name": "Python 3 (ipykernel)",
   "language": "python",
   "name": "python3"
  },
  "language_info": {
   "codemirror_mode": {
    "name": "ipython",
    "version": 3
   },
   "file_extension": ".py",
   "mimetype": "text/x-python",
   "name": "python",
   "nbconvert_exporter": "python",
   "pygments_lexer": "ipython3",
   "version": "3.9.13"
  },
  "toc": {
   "base_numbering": 1,
   "nav_menu": {},
   "number_sections": true,
   "sideBar": true,
   "skip_h1_title": false,
   "title_cell": "Table of Contents",
   "title_sidebar": "Contents",
   "toc_cell": false,
   "toc_position": {},
   "toc_section_display": true,
   "toc_window_display": false
  }
 },
 "nbformat": 4,
 "nbformat_minor": 1
}
