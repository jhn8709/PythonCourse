{
 "cells": [
  {
   "cell_type": "markdown",
   "metadata": {},
   "source": [
    "## Inspecting the memory layout of a Python list\n",
    "\n",
    "based on https://jakevdp.github.io/blog/2014/05/09/why-python-is-slow/"
   ]
  },
  {
   "cell_type": "code",
   "execution_count": 1,
   "metadata": {},
   "outputs": [],
   "source": [
    "import sys\n",
    "import ctypes\n",
    "import numpy"
   ]
  },
  {
   "cell_type": "code",
   "execution_count": 2,
   "metadata": {},
   "outputs": [
    {
     "name": "stdout",
     "output_type": "stream",
     "text": [
      "<class 'list'> <class 'int'>\n"
     ]
    }
   ],
   "source": [
    "x=[1,[2,3]]\n",
    "print(type(x), type(x[0]))"
   ]
  },
  {
   "cell_type": "code",
   "execution_count": 3,
   "metadata": {},
   "outputs": [
    {
     "name": "stdout",
     "output_type": "stream",
     "text": [
      "10000 has type <class 'int'>\n"
     ]
    }
   ],
   "source": [
    "# what is the data type for integers?\n",
    "N=10000\n",
    "print(N, \"has type\", type(N))"
   ]
  },
  {
   "cell_type": "code",
   "execution_count": 4,
   "metadata": {},
   "outputs": [
    {
     "name": "stdout",
     "output_type": "stream",
     "text": [
      "a has type <class 'int'>\n",
      "bytes used to store 1: 28\n",
      "bytes used to store a: 44\n"
     ]
    }
   ],
   "source": [
    "# size in bytes:\n",
    "a=46560000000000000000000000000000000000000\n",
    "\n",
    "print(\"a has type\", type(a))\n",
    "\n",
    "print(\"bytes used to store 1:\", sys.getsizeof(1))\n",
    "print(\"bytes used to store a:\", sys.getsizeof(a))"
   ]
  },
  {
   "cell_type": "code",
   "execution_count": 5,
   "metadata": {},
   "outputs": [],
   "source": [
    "class IntStruct(ctypes.Structure): # PyLongObject\n",
    "    _fields_ = [(\"ob_refcnt\", ctypes.c_long),\n",
    "                (\"ob_type\", ctypes.c_void_p),\n",
    "                (\"ob_size\", ctypes.c_ulong),\n",
    "                (\"ob_digit\", ctypes.c_long)]"
   ]
  },
  {
   "cell_type": "markdown",
   "metadata": {},
   "source": [
    "This is how an int is represented in memory:"
   ]
  },
  {
   "cell_type": "code",
   "execution_count": 6,
   "metadata": {},
   "outputs": [
    {
     "name": "stdout",
     "output_type": "stream",
     "text": [
      "1968646870480 1968646870480 1968646870480 1968755635632\n",
      "167 140713268776912 1 0\n"
     ]
    }
   ],
   "source": [
    "x = 100 # change to a really large number\n",
    "y = 100\n",
    "\n",
    "print(id(x), id(y), id(100), id(1234567))\n",
    "\n",
    "info=IntStruct.from_address(id(x))\n",
    "print(info.ob_refcnt, info.ob_type, info.ob_size, info.ob_digit)\n",
    "# In Python, the reference count for 'x' is 167 because other variables are using 100. Python\n",
    "# saves 100 as a reference instead of creating and destroying x=100 when needed. 'x' is simply\n",
    "# reference to 100."
   ]
  },
  {
   "cell_type": "markdown",
   "metadata": {},
   "source": [
    "How about a List?"
   ]
  },
  {
   "cell_type": "code",
   "execution_count": 7,
   "metadata": {},
   "outputs": [
    {
     "name": "stdout",
     "output_type": "stream",
     "text": [
      "<class 'list'> 1 4 1660614288 0\n"
     ]
    }
   ],
   "source": [
    "class ListStruct(ctypes.Structure): # struct PyListObject\n",
    "    _fields_ = [(\"ob_refcnt\", ctypes.c_long),\n",
    "                (\"ob_type\", ctypes.c_void_p),\n",
    "                (\"ob_size\", ctypes.c_ulong),\n",
    "                (\"ob_item\", ctypes.c_long),  # PyObject** pointer cast to long\n",
    "                (\"allocated\", ctypes.c_ulong)]\n",
    "\n",
    "x = []#[1,[2,3]]\n",
    "x.append(1)\n",
    "x.append(2)\n",
    "x.append(3)\n",
    "x.append(4)\n",
    "info = ListStruct.from_address(id(x))\n",
    "print(type(x), info.ob_refcnt, info.ob_size, info.allocated, info.ob_item)\n"
   ]
  },
  {
   "cell_type": "markdown",
   "metadata": {},
   "source": [
    "What happens if we append to the list x?"
   ]
  },
  {
   "cell_type": "code",
   "execution_count": 8,
   "metadata": {},
   "outputs": [
    {
     "name": "stdout",
     "output_type": "stream",
     "text": [
      "<class 'list'> 2 5 1660774192 0\n"
     ]
    }
   ],
   "source": [
    "y = x # this increases reference count\n",
    "x.append(4) # this will resize the array\n",
    "#x.append(4)\n",
    "info = ListStruct.from_address(id(x))\n",
    "print(type(x), info.ob_refcnt, info.ob_size, info.allocated, info.ob_item)\n"
   ]
  },
  {
   "cell_type": "code",
   "execution_count": 9,
   "metadata": {},
   "outputs": [
    {
     "data": {
      "text/plain": [
       "[1, 2, 3, 4, 4]"
      ]
     },
     "execution_count": 9,
     "metadata": {},
     "output_type": "execute_result"
    }
   ],
   "source": [
    "x"
   ]
  },
  {
   "cell_type": "code",
   "execution_count": null,
   "metadata": {},
   "outputs": [],
   "source": []
  }
 ],
 "metadata": {
  "kernelspec": {
   "display_name": "Python 3 (ipykernel)",
   "language": "python",
   "name": "python3"
  },
  "language_info": {
   "codemirror_mode": {
    "name": "ipython",
    "version": 3
   },
   "file_extension": ".py",
   "mimetype": "text/x-python",
   "name": "python",
   "nbconvert_exporter": "python",
   "pygments_lexer": "ipython3",
   "version": "3.9.12"
  }
 },
 "nbformat": 4,
 "nbformat_minor": 4
}
