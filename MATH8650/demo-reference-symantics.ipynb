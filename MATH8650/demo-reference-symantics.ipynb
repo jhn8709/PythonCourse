{
 "cells": [
  {
   "cell_type": "markdown",
   "metadata": {},
   "source": [
    "# Reference symantics in python"
   ]
  },
  {
   "cell_type": "code",
   "execution_count": null,
   "metadata": {},
   "outputs": [],
   "source": [
    "# Array assignment does not make a copy:\n",
    "a = [1,2,3]\n",
    "b = a\n",
    "print(\"a =\",a, \"b =\", b)\n",
    "a.append(4)\n",
    "print (\"a =\", a, \"b =\", b)\n",
    "a=\"hello\"\n",
    "print (\"a =\", a, \"b =\", b)"
   ]
  },
  {
   "cell_type": "code",
   "execution_count": null,
   "metadata": {},
   "outputs": [],
   "source": [
    "# This is also why the following code worked:\n",
    "def fill(matrix):\n",
    "    N = len(matrix)\n",
    "    for i in range (N):\n",
    "        for j in range (N):\n",
    "            matrix[i][j]=1.0*(i+j)\n",
    "            \n",
    "m=[[0,0,0],[0,0,0],[0,0,0]]\n",
    "fill(m)\n",
    "print(m)"
   ]
  },
  {
   "cell_type": "code",
   "execution_count": null,
   "metadata": {},
   "outputs": [],
   "source": [
    "# strings, numbers, and other simple types are immutable:\n",
    "x = 10\n",
    "y = x\n",
    "x += 1 # x points to a new variable\n",
    "print(\"x =\", x, \"y = \", y)"
   ]
  },
  {
   "cell_type": "code",
   "execution_count": null,
   "metadata": {},
   "outputs": [],
   "source": []
  }
 ],
 "metadata": {
  "kernelspec": {
   "display_name": "Python 3 (ipykernel)",
   "language": "python",
   "name": "python3"
  },
  "language_info": {
   "codemirror_mode": {
    "name": "ipython",
    "version": 3
   },
   "file_extension": ".py",
   "mimetype": "text/x-python",
   "name": "python",
   "nbconvert_exporter": "python",
   "pygments_lexer": "ipython3",
   "version": "3.10.6"
  }
 },
 "nbformat": 4,
 "nbformat_minor": 4
}
