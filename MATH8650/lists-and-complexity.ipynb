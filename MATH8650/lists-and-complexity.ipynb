{
 "cells": [
  {
   "cell_type": "markdown",
   "metadata": {},
   "source": [
    "# Lists and Complexity"
   ]
  },
  {
   "cell_type": "code",
   "execution_count": 1,
   "metadata": {},
   "outputs": [
    {
     "name": "stdout",
     "output_type": "stream",
     "text": [
      "[1, 1, 3, 4]\n",
      "4\n",
      "1\n",
      "[1, 1, 3, 4, 'hello']\n"
     ]
    }
   ],
   "source": [
    "# a Python \"List\" is a dynamically-sized array\n",
    "a = [1,1,3,4]\n",
    "print (a)\n",
    "print (len(a))\n",
    "print (a[0])\n",
    "a.append(\"hello\")\n",
    "print (a)"
   ]
  },
  {
   "cell_type": "code",
   "execution_count": 2,
   "metadata": {},
   "outputs": [
    {
     "name": "stdout",
     "output_type": "stream",
     "text": [
      "hello\n",
      "0.0 s\n"
     ]
    }
   ],
   "source": [
    "# This is a simple way to time how long something takes\n",
    "import time\n",
    "\n",
    "start_time = time.time()\n",
    "print(\"hello\")\n",
    "elapsed_time = time.time() - start_time\n",
    "print (elapsed_time, \"s\")"
   ]
  },
  {
   "cell_type": "code",
   "execution_count": 6,
   "metadata": {},
   "outputs": [
    {
     "name": "stdout",
     "output_type": "stream",
     "text": [
      "0.0 s\n",
      "sum: 0\n"
     ]
    }
   ],
   "source": [
    "# determine the cost for accessing all elements in\n",
    "# an array as a function of N\n",
    "\n",
    "N=10000000\n",
    "a=list(range(N))\n",
    "sum = 0\n",
    "\n",
    "start_time = time.time()\n",
    "    \n",
    "# TODO: sum all elements here\n",
    "    \n",
    "print(time.time() - start_time, \"s\")\n",
    "\n",
    "# what is the cost of accessing every single element?\n",
    "print(\"sum:\", sum)\n",
    "\n",
    "# what is the cost of accessing a single element?"
   ]
  },
  {
   "cell_type": "markdown",
   "metadata": {},
   "source": [
    "_What is the cost of accessing every single element?_\n",
    "\n",
    "\n",
    "_What is the cost of accessing a single element?_\n",
    "\n"
   ]
  },
  {
   "cell_type": "code",
   "execution_count": 4,
   "metadata": {},
   "outputs": [
    {
     "name": "stdout",
     "output_type": "stream",
     "text": [
      "0.0 s\n"
     ]
    }
   ],
   "source": [
    "# determine the cost for append()ing \n",
    "\n",
    "N = 1000\n",
    "a = []\n",
    "\n",
    "start_time = time.time()\n",
    "\n",
    "# TODO: append the numbers 1,...,N to a\n",
    "    \n",
    "print(time.time() - start_time, \"s\")\n",
    "\n",
    "# what is the cost of appending a single element?"
   ]
  },
  {
   "cell_type": "markdown",
   "metadata": {},
   "source": [
    "_What is the cost of appending N elements?_\n",
    "\n",
    "\n",
    "_What is the cost of appending a single element?_\n",
    "\n",
    "\n",
    "_How does that work considering growing and copying data\n",
    "costs O(N)?_"
   ]
  },
  {
   "cell_type": "code",
   "execution_count": 5,
   "metadata": {},
   "outputs": [
    {
     "name": "stdout",
     "output_type": "stream",
     "text": [
      "['a', 1, 2]\n"
     ]
    }
   ],
   "source": [
    "# How about inserting at the beginning?\n",
    "a = [1,2]\n",
    "a.insert(0, \"a\")\n",
    "print(a)"
   ]
  },
  {
   "cell_type": "code",
   "execution_count": null,
   "metadata": {},
   "outputs": [],
   "source": []
  }
 ],
 "metadata": {
  "kernelspec": {
   "display_name": "Python 3 (ipykernel)",
   "language": "python",
   "name": "python3"
  },
  "language_info": {
   "codemirror_mode": {
    "name": "ipython",
    "version": 3
   },
   "file_extension": ".py",
   "mimetype": "text/x-python",
   "name": "python",
   "nbconvert_exporter": "python",
   "pygments_lexer": "ipython3",
   "version": "3.9.12"
  }
 },
 "nbformat": 4,
 "nbformat_minor": 4
}
