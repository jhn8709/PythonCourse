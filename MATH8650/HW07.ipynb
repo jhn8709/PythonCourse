{
 "cells": [
  {
   "cell_type": "markdown",
   "metadata": {},
   "source": [
    "# HW07: Priority Queue\n",
    "your name: James Nguyen"
   ]
  },
  {
   "cell_type": "code",
   "execution_count": 1,
   "metadata": {},
   "outputs": [
    {
     "name": "stdout",
     "output_type": "stream",
     "text": [
      "a= (1, 'abc')  b= (4, 'hello')\n",
      "True False False\n"
     ]
    }
   ],
   "source": [
    "# Note that tuples have an ordering so we can put key/value \n",
    "# pairs into a priority queue (without having to use a\n",
    "# separate priority and value)\n",
    "\n",
    "a=(1,\"abc\")\n",
    "b=(4,\"hello\")\n",
    "print (\"a=\",a,\" b=\",b)\n",
    "print (a<b, a>b, a==b)"
   ]
  },
  {
   "cell_type": "code",
   "execution_count": 2,
   "metadata": {},
   "outputs": [],
   "source": [
    "class PriorityQueue():\n",
    "    '''\n",
    "    An implementation of a (minimum) priority queue\n",
    "    \n",
    "    The arguments passed to a PriorityQueue must consist of\n",
    "    objects than can be compared using <.\n",
    "    Use a tuple (priority, item) if necessary.\n",
    "    '''\n",
    "\n",
    "    def __init__(self):\n",
    "        self._array = []\n",
    "\n",
    "    def push(self, obj):\n",
    "        \"\"\" Add obj to the priority queue \"\"\"\n",
    "        # append at end and bubble up:\n",
    "        self._array.append( obj )\n",
    "        n = len(self._array)\n",
    "        self._bubble_up(n-1)\n",
    "        \n",
    "    def pop(self):\n",
    "        \"\"\" Remove and return item with highest priority \"\"\"\n",
    "        n = len(self._array)\n",
    "        if n==0:\n",
    "            return None\n",
    "        if n==1:\n",
    "            return self._array.pop()\n",
    "        \n",
    "        # replace with last item and sift down:\n",
    "        obj = self._array[0]\n",
    "        self._array[0] = self._array.pop()\n",
    "        self._sift_down(0)\n",
    "        return obj\n",
    "    \n",
    "    def _parent(self, n):\n",
    "        return (n-1)//2\n",
    "\n",
    "    def _left_child(self, n):\n",
    "        return 2*n + 1\n",
    "\n",
    "    def _right_child(self, n):\n",
    "        return 2*n + 2\n",
    "\n",
    "    def _bubble_up(self, index):\n",
    "        #print(\"bubble_up\", index)\n",
    "        while index>0:\n",
    "            cur_item = self._array[index]\n",
    "            parent_idx = self._parent(index)\n",
    "            parent_item = self._array[parent_idx]\n",
    "            \n",
    "            if cur_item < parent_item:\n",
    "                # swap with parent:\n",
    "                self._array[parent_idx] = cur_item\n",
    "                self._array[index] = parent_item\n",
    "                index = parent_idx\n",
    "            else:\n",
    "                break\n",
    "    \n",
    "    def _sift_down(self,index):\n",
    "        n = len(self._array)\n",
    "        \n",
    "        while index<n:           \n",
    "            cur_item = self._array[index]\n",
    "            lc = self._left_child(index)\n",
    "            if n <= lc:\n",
    "                break\n",
    "\n",
    "            # first set small child to left child:\n",
    "            small_child_item = self._array[lc]\n",
    "            small_child_idx = lc\n",
    "            \n",
    "            # right exists and is smaller?\n",
    "            rc = self._right_child(index)\n",
    "            if rc < n:\n",
    "                r_item = self._array[rc]\n",
    "                if r_item < small_child_item:\n",
    "                    # right child is smaller than left child:\n",
    "                    small_child_item = r_item\n",
    "                    small_child_idx = rc\n",
    "            \n",
    "            # done: we are smaller than both children:\n",
    "            if cur_item <= small_child_item:\n",
    "                break\n",
    "            \n",
    "            # swap with smallest child:\n",
    "            self._array[index] = small_child_item\n",
    "            self._array[small_child_idx] = cur_item\n",
    "            \n",
    "            # continue with smallest child:\n",
    "            index = small_child_idx\n",
    "        \n",
    "    def size(self):\n",
    "        return len(self._array)\n",
    "    \n",
    "    def is_empty(self):\n",
    "        return len(self._array) == 0\n",
    "    \n",
    "#     def show(self):\n",
    "#         print(\"TODO: implement show()\")\n",
    "        \n",
    "    def show(self):\n",
    "        if not self._array:\n",
    "            print(\"Priority Queue is empty.\")\n",
    "            return\n",
    "\n",
    "        levels = int(math.log2(len(self._array))) + 1\n",
    "        node_count = 1\n",
    "        index = 0\n",
    "\n",
    "        for level in range(levels):\n",
    "            level_str = \"\"\n",
    "            for node in range(node_count):\n",
    "                if index < len(self._array):\n",
    "                    level_str += f\"{self._array[index]} \"\n",
    "                    index += 1\n",
    "                else:\n",
    "                    level_str += \" - \"\n",
    "            print(level_str.center(80))\n",
    "            node_count *= 2\n",
    "            print(\"\\n\")\n",
    "    \n",
    "    def heapify(self, items):\n",
    "        \"\"\" Take an array of unsorted items and replace the contents\n",
    "        of this priority queue by it. \"\"\"\n",
    "        self._array = items.copy() \n",
    "        n = len(self._array)\n",
    "\n",
    "        for i in range(n // 2 - 1, -1, -1):\n",
    "            self._sift_down(i)\n",
    "\n",
    "    def change_priority(self, old, new):\n",
    "        \"\"\" replace the item old (assumed to be in the priority queue)\n",
    "        by the item new, with a different priority \"\"\"\n",
    "        # Find the index of the item with old priority\n",
    "#         try:\n",
    "#             index = self._array.index(old)\n",
    "#         except ValueError:\n",
    "#             print(f\"Item {old} not found in the priority queue.\")\n",
    "#             return\n",
    "        \n",
    "        \n",
    "        index = self._array.index(old)\n",
    "        # Update the priority of the item to new\n",
    "        self._array[index] = new\n",
    "\n",
    "        # Adjust the heap to maintain the heap property\n",
    "        parent_idx = self._parent(index)\n",
    "        if index > 0 and self._array[index] < self._array[parent_idx]:\n",
    "            self._bubble_up(index)\n",
    "        else:\n",
    "            self._sift_down(index)\n",
    "        \n",
    "            "
   ]
  },
  {
   "cell_type": "code",
   "execution_count": 3,
   "metadata": {},
   "outputs": [
    {
     "name": "stdout",
     "output_type": "stream",
     "text": [
      "                                       4                                        \n",
      "\n",
      "\n",
      "                                     17 17                                      \n",
      "\n",
      "\n",
      "                                  36 28 26 26                                   \n",
      "\n",
      "\n",
      "                            51 65 33 92 53 97 73 94                             \n",
      "\n",
      "\n",
      "                84 69 78 66 97  -  -  -  -  -  -  -  -  -  -  -                 \n",
      "\n",
      "\n",
      "empty =  False , size =  20\n",
      "array:  [4, 17, 17, 36, 28, 26, 26, 51, 65, 33, 92, 53, 97, 73, 94, 84, 69, 78, 66, 97]\n",
      "\n",
      "in order:\n",
      "4 17 17 26 26 28 33 36 51 53 65 66 69 73 78 84 92 94 97 97 \n",
      "empty =  True , size =  0\n",
      "array:  []\n"
     ]
    }
   ],
   "source": [
    "# small demo where we fill and empty a priority queue with random numbers\n",
    "\n",
    "import random\n",
    "import math\n",
    "pq = PriorityQueue()\n",
    "for i in range(20):\n",
    "    pq.push(random.randint(0,100))\n",
    "    \n",
    "pq.show()\n",
    "print (\"empty = \", pq.is_empty(), \", size = \",pq.size())\n",
    "print (\"array: \", pq._array)\n",
    "\n",
    "print (\"\\nin order:\")\n",
    "while not pq.is_empty():\n",
    "    print (pq.pop(),end=\" \")\n",
    "    \n",
    "print ()\n",
    "print (\"empty = \", pq.is_empty(), \", size = \",pq.size())\n",
    "print (\"array: \", pq._array)"
   ]
  },
  {
   "cell_type": "markdown",
   "metadata": {},
   "source": [
    "## Question 1\n",
    "Implement PriorityQueue.show() that shows a graphical representation of the tree (either using matplotlib or by formatting text and print layer by layer, indented reasonably well):"
   ]
  },
  {
   "cell_type": "code",
   "execution_count": 4,
   "metadata": {},
   "outputs": [
    {
     "name": "stdout",
     "output_type": "stream",
     "text": [
      "                                       2                                        \n",
      "\n",
      "\n",
      "                                      2 5                                       \n",
      "\n",
      "\n",
      "                                    7 4 8 9                                     \n",
      "\n",
      "\n",
      "                            23 43 5  -  -  -  -  -                              \n",
      "\n",
      "\n",
      "array:  [2, 2, 5, 7, 4, 8, 9, 23, 43, 5]\n"
     ]
    }
   ],
   "source": [
    "pq = PriorityQueue()\n",
    "for i in [5,7,2,5,4,8,9,23,43,2]:\n",
    "    pq.push(i)\n",
    "pq.show()\n",
    "print (\"array: \", pq._array)\n"
   ]
  },
  {
   "cell_type": "markdown",
   "metadata": {},
   "source": [
    "## Question 2\n",
    "You are given the following dictionary of people and their age. Use a priority queue (and no other data structure/array/...) to output their names sorted by age. Print age and name for each person in a single line."
   ]
  },
  {
   "cell_type": "code",
   "execution_count": 5,
   "metadata": {},
   "outputs": [
    {
     "name": "stdout",
     "output_type": "stream",
     "text": [
      "(1, 'Madison') (4, 'Noah') (5, 'Ava') (7, 'Jacob') (10, 'Mia') (13, 'Charlotte') "
     ]
    }
   ],
   "source": [
    "names = {\"Noah\":4, \"Jacob\":7, \"Mia\":10, \"Ava\":5, \"Madison\":1, \"Charlotte\":13}\n",
    "pq = PriorityQueue()\n",
    "\n",
    "for name in names:\n",
    "    pq.push((names[name], name))\n",
    "\n",
    "\n",
    "#pq.show()\n",
    "\n",
    "for _ in range(len(pq._array)):\n",
    "    #person = pq.pop()\n",
    "    print (pq.pop(),end=\" \")\n",
    "# TODO"
   ]
  },
  {
   "cell_type": "markdown",
   "metadata": {},
   "source": [
    "## Question 3\n",
    "Implement heapify() and test that it works using the following code."
   ]
  },
  {
   "cell_type": "code",
   "execution_count": 6,
   "metadata": {},
   "outputs": [
    {
     "name": "stdout",
     "output_type": "stream",
     "text": [
      "unsorted: [29, 20, 2, 11, 55, 59, 3, 16, 75, 75, 63, 18, 74, 36, 82, 59, 27, 6, 0, 42]\n",
      "in PQ: [0, 6, 2, 11, 42, 18, 3, 16, 20, 55, 63, 59, 74, 36, 82, 59, 27, 29, 75, 75]\n",
      "                                       0                                        \n",
      "\n",
      "\n",
      "                                      6 2                                       \n",
      "\n",
      "\n",
      "                                  11 42 18 3                                    \n",
      "\n",
      "\n",
      "                            16 20 55 63 59 74 36 82                             \n",
      "\n",
      "\n",
      "                59 27 29 75 75  -  -  -  -  -  -  -  -  -  -  -                 \n",
      "\n",
      "\n",
      "in order:\n",
      "0 2 3 6 11 16 18 20 27 29 36 42 55 59 59 63 74 75 75 82 "
     ]
    }
   ],
   "source": [
    "import random\n",
    "items = []\n",
    "for i in range(20):\n",
    "    items.append(random.randint(0,100))\n",
    "\n",
    "print (\"unsorted:\", items)\n",
    "pq = PriorityQueue()\n",
    "pq.heapify(items)\n",
    "print (\"in PQ:\", pq._array)\n",
    "pq.show()\n",
    "\n",
    "print (\"in order:\")\n",
    "while not pq.is_empty():\n",
    "    print (pq.pop(), end=\" \")"
   ]
  },
  {
   "cell_type": "markdown",
   "metadata": {},
   "source": [
    "## Question 4\n",
    "Implement change_priority(old, new) to decrease or increase the priority of an item in the priority queue by replacing it with the new value. What operations do you have to perform after swapping \"old\" for \"new\" to restore the heap property? \n",
    "Sadly, you have to search for the item in the heap before you can change it, making the operation more expensive than required for the priority change (please fill in below). This can be avoided (for example by storing a separate dictionary), but we are not going to discuss this here any further."
   ]
  },
  {
   "cell_type": "code",
   "execution_count": 7,
   "metadata": {},
   "outputs": [
    {
     "name": "stdout",
     "output_type": "stream",
     "text": [
      "array:  [1, 5, 3, 21, 27, 55, 14, 25, 23, 43, 57, 87, 63, 78, 75, 90]\n",
      "                                       1                                        \n",
      "\n",
      "\n",
      "                                      5 3                                       \n",
      "\n",
      "\n",
      "                                  21 27 55 14                                   \n",
      "\n",
      "\n",
      "                            25 23 43 57 87 63 78 75                             \n",
      "\n",
      "\n",
      "                90  -  -  -  -  -  -  -  -  -  -  -  -  -  -  -                 \n",
      "\n",
      "\n",
      "after:\n",
      "array:  [1, 2, 4, 21, 5, 55, 14, 25, 23, 27, 57, 87, 63, 78, 75, 90]\n",
      "                                       1                                        \n",
      "\n",
      "\n",
      "                                      2 4                                       \n",
      "\n",
      "\n",
      "                                  21 5 55 14                                    \n",
      "\n",
      "\n",
      "                            25 23 27 57 87 63 78 75                             \n",
      "\n",
      "\n",
      "                90  -  -  -  -  -  -  -  -  -  -  -  -  -  -  -                 \n",
      "\n",
      "\n"
     ]
    }
   ],
   "source": [
    "# the cost of change_priority() is O(__????__) because we:\n",
    "# 1. have to search for the item first, cost O(__???__)\n",
    "# 2. perform __????__, cost O(__???__)\n",
    "\n",
    "items = [90, 25, 14, 5, 27, 63, 75, 1, 23, 43, 57, 87, 55, 78, 3, 21]\n",
    "pq = PriorityQueue()\n",
    "pq.heapify(items)\n",
    "\n",
    "print (\"array: \", pq._array)\n",
    "pq.show()\n",
    "\n",
    "pq.change_priority(43, 2)\n",
    "pq.change_priority(3, 4)\n",
    "print (\"after:\")\n",
    "print (\"array: \", pq._array)\n",
    "pq.show()\n"
   ]
  },
  {
   "cell_type": "markdown",
   "metadata": {},
   "source": [
    "## Question 5\n",
    "Now similar to the name/age example before: 1) create a priority queue (this time using heapify, note that you need to create an array first) and show it, 2) change Jacob's age to 3 (using change_priority), 3) show the tree again"
   ]
  },
  {
   "cell_type": "code",
   "execution_count": 8,
   "metadata": {},
   "outputs": [
    {
     "name": "stdout",
     "output_type": "stream",
     "text": [
      "[(4, 'Noah'), (7, 'Jacob'), (10, 'Mia'), (5, 'Ava'), (1, 'Madison'), (13, 'Charlotte'), (17, 'Emma'), (8, 'Olivia'), (10, 'Abigail'), (5, 'Micheal'), (43, 'Alexander'), (13, 'Daniel')]\n",
      "                                (1, 'Madison')                                  \n",
      "\n",
      "\n",
      "                            (4, 'Noah') (10, 'Mia')                             \n",
      "\n",
      "\n",
      "           (5, 'Ava') (5, 'Micheal') (13, 'Charlotte') (17, 'Emma')             \n",
      "\n",
      "\n",
      "(8, 'Olivia') (10, 'Abigail') (7, 'Jacob') (43, 'Alexander') (13, 'Daniel')  -  -  - \n",
      "\n",
      "\n",
      "                                (1, 'Madison')                                  \n",
      "\n",
      "\n",
      "                           (3, 'Jacob') (10, 'Mia')                             \n",
      "\n",
      "\n",
      "             (5, 'Ava') (4, 'Noah') (13, 'Charlotte') (17, 'Emma')              \n",
      "\n",
      "\n",
      "(8, 'Olivia') (10, 'Abigail') (5, 'Micheal') (43, 'Alexander') (13, 'Daniel')  -  -  - \n",
      "\n",
      "\n"
     ]
    }
   ],
   "source": [
    "names = {\"Noah\":4, \"Jacob\":7, \"Mia\":10, \"Ava\":5, \"Madison\":1, \"Charlotte\":13, \"Emma\": 17, \\\n",
    "         \"Olivia\": 8, \"Abigail\": 10, \"Micheal\": 5, \"Alexander\": 43, \"Daniel\": 13}\n",
    "pq = PriorityQueue()\n",
    "\n",
    "list_of_names = []\n",
    "for name in names:\n",
    "    list_of_names.append((names[name], name))\n",
    "print(list_of_names)\n",
    "pq.heapify(list_of_names)\n",
    "\n",
    "pq.show()\n",
    "\n",
    "pq.change_priority((names[\"Jacob\"], \"Jacob\"), (3, \"Jacob\"))\n",
    "\n",
    "pq.show()\n"
   ]
  },
  {
   "cell_type": "code",
   "execution_count": null,
   "metadata": {},
   "outputs": [],
   "source": []
  }
 ],
 "metadata": {
  "kernelspec": {
   "display_name": "Python 3 (ipykernel)",
   "language": "python",
   "name": "python3"
  },
  "language_info": {
   "codemirror_mode": {
    "name": "ipython",
    "version": 3
   },
   "file_extension": ".py",
   "mimetype": "text/x-python",
   "name": "python",
   "nbconvert_exporter": "python",
   "pygments_lexer": "ipython3",
   "version": "3.9.13"
  },
  "name": "hw07.ipynb"
 },
 "nbformat": 4,
 "nbformat_minor": 4
}
