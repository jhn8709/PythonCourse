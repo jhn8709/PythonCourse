{
 "cells": [
  {
   "cell_type": "markdown",
   "metadata": {},
   "source": [
    "# HW05 - Exploring Trees/Graphs\n",
    "\n",
    "YOUR NAME: _James Nguyen_________________"
   ]
  },
  {
   "cell_type": "code",
   "execution_count": 2,
   "metadata": {},
   "outputs": [
    {
     "name": "stdout",
     "output_type": "stream",
     "text": [
      "T has 25 edges\n",
      "T has 26 vertices\n"
     ]
    }
   ],
   "source": [
    "# here is a list of edges:\n",
    "T = [('Bob','Eve'),('Alice','Carol'),('Eve','Frank'),('Alice','Doug'),('Frank','Ginger'), \\\n",
    "         ('Eve','Howard'),('Carol','Irene'),('Frank','Jeff'),('Doug','Kathy'),('Bob','Luis'), \\\n",
    "         ('Alice','Bob'),('Bob','Mabel'),('Ginger','Norm'),('Howard','Oprah'),('Carol','Peter'), \\\n",
    "         ('Kathy','Queen'),('Mabel','Ursala'),('Luis','Ronald'),('Ginger','Sarah'),('Irene','Tom'), \\\n",
    "         ('Jeff','Vince'),('Peter','Wanda'),('Oprah','Xanthia'),('Norm','Yaakov'),('Luis','Zandra')]\n",
    "\n",
    "print ('T has',len(T),'edges')\n",
    "vertices = set()\n",
    "for edge in T:\n",
    "    s,t = edge\n",
    "    vertices.add(s)\n",
    "    vertices.add(t)\n",
    "print ('T has',len(vertices),'vertices')"
   ]
  },
  {
   "cell_type": "markdown",
   "metadata": {},
   "source": [
    "So this could be a tree. Now lets compute the number of parents for each vertex. The result confirms that we indeed have a tree and that the root is Alice (right?)."
   ]
  },
  {
   "cell_type": "code",
   "execution_count": 4,
   "metadata": {},
   "outputs": [
    {
     "name": "stdout",
     "output_type": "stream",
     "text": [
      "{'Frank': 1, 'Kathy': 1, 'Mabel': 1, 'Bob': 1, 'Irene': 1, 'Doug': 1, 'Eve': 1, 'Ursala': 1, 'Sarah': 1, 'Carol': 1, 'Wanda': 1, 'Peter': 1, 'Yaakov': 1, 'Oprah': 1, 'Jeff': 1, 'Howard': 1, 'Luis': 1, 'Queen': 1, 'Norm': 1, 'Ronald': 1, 'Vince': 1, 'Xanthia': 1, 'Tom': 1, 'Zandra': 1, 'Alice': 0, 'Ginger': 1}\n"
     ]
    }
   ],
   "source": [
    "np = {} # a dictionary that maps vertex to the number of incoming edges\n",
    "for v in vertices:\n",
    "    np[v] = 0\n",
    "for parent,child in T:\n",
    "    np[child] += 1\n",
    "# for parent,child in T:\n",
    "#     np[parent] += 1\n",
    "print (np)"
   ]
  },
  {
   "cell_type": "markdown",
   "metadata": {},
   "source": [
    "We now construct a dictionary of pairs (p,c) where p is the parent of the list of children c"
   ]
  },
  {
   "cell_type": "code",
   "execution_count": 3,
   "metadata": {},
   "outputs": [
    {
     "name": "stdout",
     "output_type": "stream",
     "text": [
      "node and their children:\n",
      "Zandra : []\n",
      "Vince : []\n",
      "Yaakov : []\n",
      "Howard : ['Oprah']\n",
      "Alice : ['Carol', 'Doug', 'Bob']\n",
      "Queen : []\n",
      "Frank : ['Ginger', 'Jeff']\n",
      "Sarah : []\n",
      "Ronald : []\n",
      "Xanthia : []\n",
      "Mabel : ['Ursala']\n",
      "Doug : ['Kathy']\n",
      "Norm : ['Yaakov']\n",
      "Peter : ['Wanda']\n",
      "Oprah : ['Xanthia']\n",
      "Bob : ['Eve', 'Luis', 'Mabel']\n",
      "Irene : ['Tom']\n",
      "Ginger : ['Norm', 'Sarah']\n",
      "Kathy : ['Queen']\n",
      "Tom : []\n",
      "Ursala : []\n",
      "Jeff : ['Vince']\n",
      "Carol : ['Irene', 'Peter']\n",
      "Wanda : []\n",
      "Luis : ['Ronald', 'Zandra']\n",
      "Eve : ['Frank', 'Howard']\n",
      "{'Zandra': [], 'Vince': [], 'Yaakov': [], 'Howard': ['Oprah'], 'Alice': ['Carol', 'Doug', 'Bob'], 'Queen': [], 'Frank': ['Ginger', 'Jeff'], 'Sarah': [], 'Ronald': [], 'Xanthia': [], 'Mabel': ['Ursala'], 'Doug': ['Kathy'], 'Norm': ['Yaakov'], 'Peter': ['Wanda'], 'Oprah': ['Xanthia'], 'Bob': ['Eve', 'Luis', 'Mabel'], 'Irene': ['Tom'], 'Ginger': ['Norm', 'Sarah'], 'Kathy': ['Queen'], 'Tom': [], 'Ursala': [], 'Jeff': ['Vince'], 'Carol': ['Irene', 'Peter'], 'Wanda': [], 'Luis': ['Ronald', 'Zandra'], 'Eve': ['Frank', 'Howard']}\n"
     ]
    }
   ],
   "source": [
    "adjacency_map = {}\n",
    "for v in vertices:\n",
    "    adjacency_map[v] = []\n",
    "for p,c in T:\n",
    "    adjacency_map[p].append(c)\n",
    "    #you can also do adjacency_map[c].append(p) to treat T as undirected edge list\n",
    "\n",
    "print (\"node and their children:\")\n",
    "for p in adjacency_map:\n",
    "    print (p, \":\", adjacency_map[p])\n",
    "\n",
    "#print ()\n",
    "print (adjacency_map)"
   ]
  },
  {
   "cell_type": "code",
   "execution_count": 4,
   "metadata": {},
   "outputs": [
    {
     "name": "stdout",
     "output_type": "stream",
     "text": [
      "Hello!Hello!Hello!Hello!Hello!\n"
     ]
    }
   ],
   "source": [
    "print (5*\"Hello!\")"
   ]
  },
  {
   "cell_type": "code",
   "execution_count": 5,
   "metadata": {},
   "outputs": [
    {
     "name": "stdout",
     "output_type": "stream",
     "text": [
      " Alice\n",
      "   Carol\n",
      "     Irene\n",
      "       Tom\n",
      "     Peter\n",
      "       Wanda\n",
      "   Doug\n",
      "     Kathy\n",
      "       Queen\n",
      "   Bob\n",
      "     Eve\n",
      "       Frank\n",
      "         Ginger\n",
      "           Norm\n",
      "             Yaakov\n",
      "           Sarah\n",
      "         Jeff\n",
      "           Vince\n",
      "       Howard\n",
      "         Oprah\n",
      "           Xanthia\n",
      "     Luis\n",
      "       Ronald\n",
      "       Zandra\n",
      "     Mabel\n",
      "       Ursala\n"
     ]
    }
   ],
   "source": [
    "# A recursive depth-first traversal of a tree defined by an adjacency_map\n",
    "def print_tree_depth_first(parent, adjacency_map, level=0):\n",
    "    print (level*'  ', parent)\n",
    "    children = adjacency_map[parent]\n",
    "    for child in children:\n",
    "        print_tree_depth_first(child, adjacency_map, level+1)\n",
    "\n",
    "root = 'Alice'\n",
    "print_tree_depth_first(root, adjacency_map)"
   ]
  },
  {
   "cell_type": "markdown",
   "metadata": {},
   "source": [
    "## Question 1\n",
    "extend the breadth-first traversal to include the generation, so that the output is like below. Do this by also storing the generation in the queue."
   ]
  },
  {
   "cell_type": "raw",
   "metadata": {},
   "source": [
    "1: Alice\n",
    "2: Carol Doug Bob\n",
    "3: ..."
   ]
  },
  {
   "cell_type": "code",
   "execution_count": 6,
   "metadata": {},
   "outputs": [
    {
     "name": "stdout",
     "output_type": "stream",
     "text": [
      "A\n",
      "B\n",
      "D\n",
      "E\n",
      "C\n",
      "F\n",
      "\n",
      "1: Alice \n",
      "2: Carol Doug Bob \n",
      "3: Irene Peter Kathy Eve Luis Mabel \n",
      "4: Tom Wanda Queen Frank Howard Ronald Zandra Ursala \n",
      "5: Ginger Jeff Oprah \n",
      "6: Norm Sarah Vince Xanthia \n",
      "7: Yaakov "
     ]
    }
   ],
   "source": [
    "from collections import deque \n",
    "am={\"A\":[\"B\",\"D\",\"E\"], \"B\":[\"C\"], \"E\":[\"F\"], \"D\":[], \"F\":[], \"C\":[]}\n",
    "            \n",
    "# breadth-first traversal using a queue\n",
    "def print_tree_breadth_first(root, adjacency_map):\n",
    "    Q = deque()\n",
    "    Q.append(root)\n",
    "    while len(Q)>0:\n",
    "        p = Q.popleft()\n",
    "        print (p)\n",
    "        children = adjacency_map[p]\n",
    "        for child in children:\n",
    "            Q.append(child)\n",
    "            \n",
    "print_tree_breadth_first(\"A\", am)\n",
    "\n",
    "def print_tree_breadth_first_by_generation(root, adjacency_map):\n",
    "    Q = deque()\n",
    "    gen_num = 1\n",
    "    Q.append(gen_num) # generation number\n",
    "    Q.append(root)\n",
    "    while len(Q)>0:\n",
    "        p = Q.popleft()\n",
    "        if isinstance(p, int):\n",
    "            if gen_num <= p: # if new generation print endline, number, and increment gen_num\n",
    "                print(\"\")\n",
    "                print(p, end=\": \")\n",
    "                gen_num += 1\n",
    "            p = Q.popleft() # if not new generation then ignore generation number\n",
    "        print (p, end=\" \")\n",
    "        children = adjacency_map[p]\n",
    "        for child in children:\n",
    "            Q.append(gen_num)\n",
    "            Q.append(child)\n",
    "\n",
    "\n",
    "print_tree_breadth_first_by_generation(\"Alice\", adjacency_map)\n",
    "#print_tree_breadth_first_by_generation(\"A\", am)"
   ]
  },
  {
   "cell_type": "markdown",
   "metadata": {},
   "source": [
    "## Question 2\n",
    "Write a function that checks if for the given directed graph (given by a list of edges E) root is connected to every other vertex."
   ]
  },
  {
   "cell_type": "code",
   "execution_count": 7,
   "metadata": {},
   "outputs": [],
   "source": [
    "def all_connected_to(edge_list, root):\n",
    "    \"\"\" return true if you can reach all nodes in the graph given\n",
    "    by a list of edges (edge_list) from root \"\"\"\n",
    "    \n",
    "    # start by constructing set of vertices and the adjacency map\n",
    "    vertices = set()\n",
    "    for edge in edge_list:\n",
    "        s,t = edge\n",
    "        vertices.add(s)\n",
    "        vertices.add(t)\n",
    "    #print(vertices)\n",
    "        \n",
    "    adjacency_map = {}\n",
    "    for v in vertices:\n",
    "        adjacency_map[v] = []\n",
    "    for p,c in edge_list:\n",
    "        adjacency_map[p].append(c)\n",
    "    #print(adjacency_map)\n",
    "    \n",
    "    Q = deque()\n",
    "    Q.append(root)\n",
    "    while len(Q)>0:\n",
    "        p = Q.popleft()\n",
    "        #print (p)\n",
    "        if p in vertices:\n",
    "            vertices.remove(p)\n",
    "        else:\n",
    "            continue\n",
    "        children = adjacency_map[p]\n",
    "        for child in children:\n",
    "            Q.append(child)\n",
    "    #print(vertices)\n",
    "    \n",
    "    \n",
    "    if len(vertices) > 0:\n",
    "        return False\n",
    "    else:\n",
    "        return True\n",
    "    "
   ]
  },
  {
   "cell_type": "code",
   "execution_count": 8,
   "metadata": {},
   "outputs": [
    {
     "name": "stdout",
     "output_type": "stream",
     "text": [
      "True\n",
      "False\n",
      "False\n",
      "True\n",
      "True\n"
     ]
    }
   ],
   "source": [
    "G = [(\"A\",\"B\"), (\"B\",\"C\")]\n",
    "print (all_connected_to(G, \"A\"))\n",
    "G2 = [(\"1\",\"2\"), (\"A\",\"B\"), (\"B\",\"C\"), (\"C\",\"A\")]\n",
    "print (all_connected_to(G2, \"A\"))\n",
    "print (all_connected_to(G2, \"1\"))\n",
    "G3 = [(\"A\",\"B\"), (\"B\",\"C\"), (\"C\",\"A\")]\n",
    "print (all_connected_to(G3, \"C\"))\n",
    "# and our graph from above?\n",
    "print (all_connected_to(T, \"Alice\"))"
   ]
  },
  {
   "cell_type": "markdown",
   "metadata": {},
   "source": [
    "## Question 3\n",
    "We now treat the the graph T from above as undirected (edges going in both directions) and construct a tree rooted in Bob. The tree will contain edges from a vertex to the parent and direct children. The result will tell us how far removed the vertices from our root Bob are."
   ]
  },
  {
   "cell_type": "code",
   "execution_count": 9,
   "metadata": {},
   "outputs": [
    {
     "name": "stdout",
     "output_type": "stream",
     "text": [
      "{'Bob': ['Eve', 'Luis', 'Alice', 'Mabel'], 'Eve': ['Frank', 'Howard'], 'Luis': ['Ronald', 'Zandra'], 'Alice': ['Carol', 'Doug'], 'Mabel': ['Ursala'], 'Frank': ['Ginger', 'Jeff'], 'Howard': ['Oprah'], 'Ronald': [], 'Zandra': [], 'Carol': ['Irene', 'Peter'], 'Doug': ['Kathy'], 'Ursala': [], 'Ginger': ['Norm', 'Sarah'], 'Jeff': ['Vince'], 'Oprah': ['Xanthia'], 'Irene': ['Tom'], 'Peter': ['Wanda'], 'Kathy': ['Queen'], 'Norm': ['Yaakov'], 'Sarah': [], 'Vince': [], 'Xanthia': [], 'Tom': [], 'Wanda': [], 'Queen': [], 'Yaakov': []}\n"
     ]
    }
   ],
   "source": [
    "root = 'Bob'\n",
    "\n",
    "# construct adjacency for graph T:\n",
    "adjacency_map = {}\n",
    "for vertex in vertices:\n",
    "    adjacency_map[vertex] = []\n",
    "for edge in T:\n",
    "    s,t = edge\n",
    "    adjacency_map[s].append(t)\n",
    "    adjacency_map[t].append(s)\n",
    "    \n",
    "#print (\"parents/children of Ginger:\", adjacency_map['Ginger'])\n",
    "#print (adjacency_map)\n",
    "\n",
    "# now create the adjacency map of the tree rooted in 'Bob'\n",
    "tree = {}\n",
    "\n",
    "#TODO: construct tree by using a queue\n",
    "\n",
    "# Initialize the tree with 'Bob' as the root\n",
    "tree = {'Bob': []}\n",
    "\n",
    "queue = deque()\n",
    "queue.append('Bob')\n",
    "\n",
    "# Visited vertices\n",
    "visited = set()\n",
    "visited.add('Bob')\n",
    "\n",
    "while queue:\n",
    "    vertex = queue.popleft()\n",
    "\n",
    "    # Iterate through neighbors of the current_vertex in the original graph\n",
    "    for member in adjacency_map[vertex]:\n",
    "        if member not in visited:\n",
    "            # Add member as a child of the current vertex in the tree\n",
    "            tree[vertex].append(member)\n",
    "            # Create list for member key\n",
    "            tree[member] = []\n",
    "            # Mark member as visited and add to queue\n",
    "            visited.add(member)\n",
    "            queue.append(member)\n",
    "\n",
    "print (tree)\n",
    "#print_tree_depth_first('Bob', tree, level=0)"
   ]
  },
  {
   "cell_type": "markdown",
   "metadata": {},
   "source": [
    "Execute the following two blocks to check your result:"
   ]
  },
  {
   "cell_type": "code",
   "execution_count": 10,
   "metadata": {},
   "outputs": [
    {
     "name": "stdout",
     "output_type": "stream",
     "text": [
      " Bob\n",
      "   Eve\n",
      "     Frank\n",
      "       Ginger\n",
      "         Norm\n",
      "           Yaakov\n",
      "         Sarah\n",
      "       Jeff\n",
      "         Vince\n",
      "     Howard\n",
      "       Oprah\n",
      "         Xanthia\n",
      "   Luis\n",
      "     Ronald\n",
      "     Zandra\n",
      "   Alice\n",
      "     Carol\n",
      "       Irene\n",
      "         Tom\n",
      "       Peter\n",
      "         Wanda\n",
      "     Doug\n",
      "       Kathy\n",
      "         Queen\n",
      "   Mabel\n",
      "     Ursala\n"
     ]
    }
   ],
   "source": [
    "print_tree_depth_first(root, tree)"
   ]
  },
  {
   "cell_type": "code",
   "execution_count": 11,
   "metadata": {},
   "outputs": [
    {
     "name": "stdout",
     "output_type": "stream",
     "text": [
      "Bob\n",
      "Eve\n",
      "Luis\n",
      "Alice\n",
      "Mabel\n",
      "Frank\n",
      "Howard\n",
      "Ronald\n",
      "Zandra\n",
      "Carol\n",
      "Doug\n",
      "Ursala\n",
      "Ginger\n",
      "Jeff\n",
      "Oprah\n",
      "Irene\n",
      "Peter\n",
      "Kathy\n",
      "Norm\n",
      "Sarah\n",
      "Vince\n",
      "Xanthia\n",
      "Tom\n",
      "Wanda\n",
      "Queen\n",
      "Yaakov\n"
     ]
    }
   ],
   "source": [
    "print_tree_breadth_first(root, tree)"
   ]
  },
  {
   "cell_type": "markdown",
   "metadata": {},
   "source": [
    "## Question 4: n queens problem\n",
    "Backtracking is the technique of recursively exploring the tree that contains all the possible solutions to a problem. Choose a systematic way to explore all the possible cases. This approach should reflect a rooted tree, and the backtracking approach is a depth-first search of the rooted tree. Whenever the search has found a solution or determined that there are no further solutions on the branches below the current vertex, backtrack to the preceeding vertex. \n",
    "\n",
    "A classic example of a problem that can be easily solved with this approach is the n queens problem.  This problem is to determine all the possible ways to place n nonattacking queens on an n-by-n chess board. The following code provides two helpful routines for this problem and illustrates one of the solutions for the 4 queens problem."
   ]
  },
  {
   "cell_type": "code",
   "execution_count": 12,
   "metadata": {},
   "outputs": [
    {
     "name": "stdout",
     "output_type": "stream",
     "text": [
      "[[0. 0. 0. 0.]\n",
      " [0. 0. 0. 0.]\n",
      " [0. 0. 0. 0.]\n",
      " [0. 0. 0. 0.]]\n",
      "..Q.\n",
      "Q...\n",
      "...Q\n",
      ".Q..\n",
      "\n"
     ]
    }
   ],
   "source": [
    "import numpy as np\n",
    "\n",
    "def build_chessboard(N):\n",
    "    chessboard = np.zeros((N,N))\n",
    "    return chessboard\n",
    "\n",
    "def print_chessboard(chessboard):\n",
    "    N = len(chessboard)\n",
    "    for r in range(N):\n",
    "        for c in range(N):\n",
    "#             if chessboard[r,c] == 1:\n",
    "#                 print ('Q', end=\"\")\n",
    "#             else:\n",
    "#                 print ('.', end=\"\")\n",
    "            if chessboard[r,c] == 1:\n",
    "                print ('Q', end=\"\")\n",
    "            elif chessboard[r,c] == 2:\n",
    "                print('X', end=\"\")\n",
    "            else:\n",
    "                print ('.', end=\"\")\n",
    "\n",
    "        print ()\n",
    "    print ()\n",
    "\n",
    "# generate an empty 4x4 chessboard:\n",
    "chessboard = build_chessboard(4)\n",
    "print (chessboard)\n",
    "\n",
    "# Place 4 non-attacking queens on this board\n",
    "chessboard[1,0] = 1\n",
    "chessboard[3,1] = 1\n",
    "chessboard[0,2] = 1\n",
    "chessboard[2,3] = 1\n",
    "\n",
    "# Pretty print the resulting board\n",
    "print_chessboard(chessboard)"
   ]
  },
  {
   "cell_type": "markdown",
   "metadata": {},
   "source": [
    "Complete the following code to solve the n queens problem by returning the total number of solutions while printing only the first five solutions."
   ]
  },
  {
   "cell_type": "code",
   "execution_count": 13,
   "metadata": {},
   "outputs": [],
   "source": [
    "def change_diagonal_values1(array, row, col, value):\n",
    "    start_row = row\n",
    "    start_col = col\n",
    "    while start_row < len(array) and start_col < len(array):\n",
    "        array[start_row, start_col] = value\n",
    "        start_row += 1\n",
    "        start_col += 1\n",
    "        \n",
    "\n",
    "def change_diagonal_values2(array, row, col, value):\n",
    "    start_row = row\n",
    "    start_col = col\n",
    "    while start_row >= 0 and start_col >= 0:\n",
    "        array[start_row, start_col] = value\n",
    "        start_row -= 1\n",
    "        start_col -= 1\n",
    "\n",
    "def change_diagonal_values3(array, row, col, value):\n",
    "    start_row = row\n",
    "    start_col = col\n",
    "    while start_row >= 0 and start_col < len(array):\n",
    "        array[start_row, start_col] = value\n",
    "        start_row -= 1\n",
    "        start_col += 1\n",
    "\n",
    "def change_diagonal_values4(array, row, col, value):\n",
    "    start_row = row\n",
    "    start_col = col\n",
    "    while start_row < len(array) and start_col >= 0:\n",
    "        array[start_row, start_col] = value\n",
    "        start_row += 1\n",
    "        start_col -= 1\n",
    "    "
   ]
  },
  {
   "cell_type": "code",
   "execution_count": 14,
   "metadata": {},
   "outputs": [
    {
     "name": "stdout",
     "output_type": "stream",
     "text": [
      "Reached the end!\n",
      "QXXXX\n",
      "XXXQX\n",
      "XQXXX\n",
      "XXXXQ\n",
      "XXQXX\n",
      "\n",
      "Reached the end!\n",
      "QXXXX\n",
      "XXQXX\n",
      "XXXXQ\n",
      "XQXXX\n",
      "XXXQX\n",
      "\n",
      "Reached the end!\n",
      "XXQXX\n",
      "QXXXX\n",
      "XXXQX\n",
      "XQXXX\n",
      "XXXXQ\n",
      "\n",
      "Reached the end!\n",
      "XXXQX\n",
      "QXXXX\n",
      "XXQXX\n",
      "XXXXQ\n",
      "XQXXX\n",
      "\n",
      "Reached the end!\n",
      "XQXXX\n",
      "XXXQX\n",
      "QXXXX\n",
      "XXQXX\n",
      "XXXXQ\n",
      "\n",
      "solutions:  10\n"
     ]
    }
   ],
   "source": [
    "def n_queens(chessboard, column=0, count=0):\n",
    "    \"\"\" given a partially filled <chessboard>, try to place a queen in column <column> and recursively fill the board.\n",
    "    Finally return the number of solutions (added to <count>)\"\"\"\n",
    "    N = len(chessboard)\n",
    "    if column == N:\n",
    "        if count < 5:\n",
    "            print(\"Reached the end!\")\n",
    "            print_chessboard(chessboard)\n",
    "        return count + 1\n",
    "    \n",
    "    # Examine all available squares in column <column>, place the queen, and \n",
    "    # mark all squares under attack by that queen.\n",
    "    # Note: you can make a copy of a chessboard using chessboard.copy()\n",
    "    \n",
    "    # TODO\n",
    "    \n",
    "    for row in range(N):\n",
    "        if np.any(chessboard[row,column] > 0):\n",
    "            continue\n",
    "        else:\n",
    "            updated_chessboard = chessboard.copy()\n",
    "            change_diagonal_values1(updated_chessboard, row, column, 2)\n",
    "            change_diagonal_values2(updated_chessboard, row, column, 2)\n",
    "            change_diagonal_values3(updated_chessboard, row, column, 2)\n",
    "            change_diagonal_values4(updated_chessboard, row, column, 2)\n",
    "            updated_chessboard[row,:] = 2\n",
    "            updated_chessboard[:,column] = 2\n",
    "            updated_chessboard[row, column] = 1\n",
    "            #print_chessboard(updated_chessboard)\n",
    "            count = n_queens(updated_chessboard, column+1, count)\n",
    "    return count\n",
    "\n",
    "chessboard = build_chessboard(5)\n",
    "count = n_queens(chessboard)\n",
    "print (\"solutions: \", count)"
   ]
  },
  {
   "cell_type": "code",
   "execution_count": 15,
   "metadata": {},
   "outputs": [
    {
     "name": "stdout",
     "output_type": "stream",
     "text": [
      "....\n",
      "....\n",
      "....\n",
      "....\n",
      "\n",
      "Q...\n",
      "....\n",
      "....\n",
      "....\n",
      "\n",
      "....\n",
      "....\n",
      "....\n",
      "....\n",
      "\n"
     ]
    }
   ],
   "source": [
    "# This example shows why .copy() is needed in your code above (reference semantics!)\n",
    "def test(cb):\n",
    "    cb[0,0]=1\n",
    "    print_chessboard(cb)\n",
    "    \n",
    "chessboard = build_chessboard(4)\n",
    "print_chessboard(chessboard)\n",
    "test(chessboard.copy())# try chessboard.copy() instead\n",
    "print_chessboard(chessboard)  # oooops!\n",
    "test = chessboard.copy()\n"
   ]
  },
  {
   "cell_type": "code",
   "execution_count": 16,
   "metadata": {},
   "outputs": [
    {
     "name": "stdout",
     "output_type": "stream",
     "text": [
      "before: a= [2, 4, [6]]\n",
      "after:  a= [3, 4, [9]]  b= [3, 4, [9]]  (not copying)\n",
      "after:  a= [2, 4, [9]]  b= [3, 4, [9]]  (using copy)\n",
      "after:  a= [2, 4, [6]]  b= [3, 4, [9]]  (using deepcopy)\n"
     ]
    }
   ],
   "source": [
    "import copy\n",
    "\n",
    "# copy makes a copy of the outer-most object, but keeps the same references to the inner\n",
    "# object.\n",
    "a=[2,4,[6]]\n",
    "print (\"before: a=\", a)\n",
    "\n",
    "#not copying:\n",
    "a=[2,4,[6]]\n",
    "b=a\n",
    "b[0]+=1\n",
    "b[2][0]+=3\n",
    "print (\"after:  a=\",a,\" b=\", b, \" (not copying)\")\n",
    "\n",
    "# using copy:\n",
    "a=[2,4,[6]]\n",
    "b=copy.copy(a)\n",
    "b[0]+=1\n",
    "b[2][0]+=3\n",
    "print (\"after:  a=\",a,\" b=\", b, \" (using copy)\")\n",
    "\n",
    "# deepcopy also makes a copy of each contained element (recursively)\n",
    "a=[2,4,[6]]\n",
    "b=copy.deepcopy(a)\n",
    "b[0]+=1\n",
    "b[2][0]+=3\n",
    "print (\"after:  a=\",a,\" b=\", b, \" (using deepcopy)\")"
   ]
  },
  {
   "cell_type": "code",
   "execution_count": null,
   "metadata": {},
   "outputs": [],
   "source": []
  }
 ],
 "metadata": {
  "kernelspec": {
   "display_name": "Python 3 (ipykernel)",
   "language": "python",
   "name": "python3"
  },
  "language_info": {
   "codemirror_mode": {
    "name": "ipython",
    "version": 3
   },
   "file_extension": ".py",
   "mimetype": "text/x-python",
   "name": "python",
   "nbconvert_exporter": "python",
   "pygments_lexer": "ipython3",
   "version": "3.9.13"
  },
  "name": "HW05.ipynb"
 },
 "nbformat": 4,
 "nbformat_minor": 4
}
