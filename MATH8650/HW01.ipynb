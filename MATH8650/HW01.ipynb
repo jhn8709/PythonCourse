{
 "cells": [
  {
   "cell_type": "markdown",
   "metadata": {},
   "source": [
    "# Homework 01\n",
    "\n",
    "Please fill in your name: __James Nguyen__________"
   ]
  },
  {
   "cell_type": "markdown",
   "metadata": {},
   "source": [
    "## Question 0\n",
    "\n",
    "Fill in your name at the top and complete the instructions for the questions below. You need to fill in blanks ________ and write code (sections often contain a comment that begins with \"TODO\", which you should remove). When you are done, download the file as a .ipynb and submit on Canvas.\n",
    "\n",
    "Before starting with this assignment, open and work through \"python-intro.ipynb\" and read up on things you don't understand. See the Python Tutorial PDF on Canvas for more information."
   ]
  },
  {
   "cell_type": "markdown",
   "metadata": {},
   "source": [
    "## Question 1\n",
    "I demonstrated in class that the integer data type in Python is not a typical 32 or 64 bit integer with a largest value of $2^{32}$ or $2^{64}$ but basically unlimited in size.\n",
    "\n",
    "Find out the format Python is using to store floating point numbers like 3.4 (What IEEE floating point standard is used, 32 or 64 or something else? Write your answer below) and do a computation that demonstrates that this is true.    "
   ]
  },
  {
   "cell_type": "code",
   "execution_count": 1,
   "metadata": {},
   "outputs": [
    {
     "name": "stdout",
     "output_type": "stream",
     "text": [
      "<class 'float'>\n",
      "Number of bits for mantissa: 53\n"
     ]
    }
   ],
   "source": [
    "x=3.4\n",
    "print(type(x))\n",
    "\n",
    "# the number format \"float\" is known as: double-precision floating-point set by IEEE 754 with 64 bits in total\n",
    "\n",
    "# Show that your statement above is correct using some expression or\n",
    "# computation that shows the precision of the underlying format:\n",
    "\n",
    "# TODO\n",
    "import sys\n",
    "# 1 bit is used for the sign of the number, 11 bits are used for the exponent component of the answer\n",
    "# allowing for many magnitudes of answers. In the mantissa, there is 1 more implicit bit.\n",
    "# In total, there are 64 plus 1 implicit bits.\n",
    "x_bits = sys.float_info.mant_dig\n",
    "print(f\"Number of bits for mantissa: {x_bits}\")\n",
    "\n",
    "# Bonus: why do you think Python uses a fixed size floating point\n",
    "# format, but has its own unlimited int format?\n",
    "\n",
    "# Floats can often take on infinite values like pi or 1/3 so it is best to make sure there is a fixed limit\n",
    "# to its precision. When using integers, the values are usually finite and can have the precision be\n",
    "# completely correct with the unlimited format."
   ]
  },
  {
   "cell_type": "markdown",
   "metadata": {},
   "source": [
    "## Question 2\n",
    "Write a function hey_ho() with arguments start and end that prints the numbers starting from start to end (inclusive) in a single line each. If the number is divisible by 3, print \"hey!\" instead of the number, if the number is divisible by 5 print \"ho!\". Finally, if it is divisible by both, print \"GO Tigers!\" instead.\n",
    "Example for hey_ho(7,16):"
   ]
  },
  {
   "cell_type": "raw",
   "metadata": {},
   "source": [
    "7\n",
    "8\n",
    "hey!\n",
    "ho!\n",
    "11\n",
    "hey!\n",
    "13\n",
    "14\n",
    "GO Tigers!\n",
    "16"
   ]
  },
  {
   "cell_type": "code",
   "execution_count": 3,
   "metadata": {},
   "outputs": [
    {
     "name": "stdout",
     "output_type": "stream",
     "text": [
      "7\n",
      "8\n",
      "hey!\n",
      "ho!\n",
      "11\n",
      "hey!\n",
      "13\n",
      "14\n",
      "GO Tigers!\n",
      "16\n"
     ]
    }
   ],
   "source": [
    "def hey_ho(start, end):\n",
    "    # TODO: your implementation here\n",
    "    #print('hello world')\n",
    "    string = \"\"\n",
    "    for i in range(start, end+1):\n",
    "        if (i % 3 == 0) and (i % 5 == 0):\n",
    "            print('GO Tigers!')\n",
    "        elif (i % 3 == 0):\n",
    "            print(\"hey!\")\n",
    "        elif (i % 5 == 0):\n",
    "            print(\"ho!\")\n",
    "        else:\n",
    "            print(str(i))\n",
    "        \n",
    "    \n",
    "hey_ho(7,16)"
   ]
  },
  {
   "cell_type": "markdown",
   "metadata": {},
   "source": [
    "# Question 3\n",
    "\n",
    "We discussed that the size of the number of allocated entries inside a Python \"list\" often is larger than absolutely necessary. Consider the case of adding one element at a time to an empty list x until it contains 100 elements. Based on the code in \"python-list-layout.ipynb\", print the final allocated size and count how many allocations happen during the computation by comparing the allocated size to the previous allocated size after each element is added."
   ]
  },
  {
   "cell_type": "code",
   "execution_count": 3,
   "metadata": {},
   "outputs": [
    {
     "name": "stdout",
     "output_type": "stream",
     "text": [
      "<class 'list'> 1 0 0\n",
      "5\n",
      "2939569200\n"
     ]
    }
   ],
   "source": [
    "import ctypes\n",
    "\n",
    "class ListStruct(ctypes.Structure): # struct PyListObject\n",
    "    _fields_ = [(\"ob_refcnt\", ctypes.c_long),\n",
    "                (\"ob_type\", ctypes.c_void_p),\n",
    "                (\"ob_size\", ctypes.c_ulong),\n",
    "                (\"ob_item\", ctypes.c_long),  # PyObject** pointer cast to long\n",
    "                (\"allocated\", ctypes.c_ulong)]\n",
    "\n",
    "x = []\n",
    "\n",
    "info = ListStruct.from_address(id(x))\n",
    "print(type(x), info.ob_refcnt, info.ob_size, info.allocated)\n",
    "\n",
    "for i in range(5):\n",
    "    x.append(i)\n",
    "# TODO: print the final allocated numer of items\n",
    "print(info.ob_size)\n",
    "# TODO: print the total number of allocations that occured (how many times did the allocated size change?)\n",
    "print(info.allocated)"
   ]
  },
  {
   "cell_type": "code",
   "execution_count": null,
   "metadata": {},
   "outputs": [],
   "source": []
  }
 ],
 "metadata": {
  "kernelspec": {
   "display_name": "Python 3 (ipykernel)",
   "language": "python",
   "name": "python3"
  },
  "language_info": {
   "codemirror_mode": {
    "name": "ipython",
    "version": 3
   },
   "file_extension": ".py",
   "mimetype": "text/x-python",
   "name": "python",
   "nbconvert_exporter": "python",
   "pygments_lexer": "ipython3",
   "version": "3.9.13"
  }
 },
 "nbformat": 4,
 "nbformat_minor": 4
}
