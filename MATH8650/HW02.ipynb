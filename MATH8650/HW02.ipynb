{
 "cells": [
  {
   "cell_type": "markdown",
   "metadata": {},
   "source": [
    "# Homework 02\n",
    "\n",
    "Please fill in: YOUR_NAME_HERE"
   ]
  },
  {
   "cell_type": "markdown",
   "metadata": {},
   "source": [
    "The goal of this homework is to understand iterative and recursive algorithms and complexity. We are using Pell Numbers as an example. They are defined as:\n",
    "$$\n",
    "    P_n = \\begin{cases} 0 & n=0 \\\\ 1 & n=1 \\\\ P_{n-2} + 2P_{n-1} & \\text{else} \\end{cases}\n",
    "$$"
   ]
  },
  {
   "cell_type": "markdown",
   "metadata": {},
   "source": [
    "## Question 1\n",
    "\n",
    "Write a function print_elements(l) that prints every element of the list L, one item per line. If an element is a list by itself, recursively call print_elements() for this element instead. To find out if a variable x is a list, use type(x). Note that the function should not return anything!"
   ]
  },
  {
   "cell_type": "code",
   "execution_count": 1,
   "metadata": {},
   "outputs": [
    {
     "name": "stdout",
     "output_type": "stream",
     "text": [
      "1\n",
      "hello\n",
      "3\n",
      "4\n",
      "5\n",
      "6\n",
      "1\n",
      "2\n",
      "3\n"
     ]
    }
   ],
   "source": [
    "def print_elements(L):\n",
    "    for item in L:\n",
    "        if type(item) == list:\n",
    "            print_elements(item)\n",
    "        else:\n",
    "            print(item)\n",
    "\n",
    "    #pass # TODO: replace this\n",
    "\n",
    "print_elements([[1,\"hello\"], 3, [4,5,6],[1,[2,[3]]]])"
   ]
  },
  {
   "cell_type": "markdown",
   "metadata": {},
   "source": [
    "## Question 2\n",
    "\n",
    "Write pell_recursive(n) that returns the n-th Pell number as a recursive function using the definition above."
   ]
  },
  {
   "cell_type": "code",
   "execution_count": 2,
   "metadata": {},
   "outputs": [
    {
     "name": "stdout",
     "output_type": "stream",
     "text": [
      "[0, 1, 2, 5, 12, 29, 70, 169, 408, 985, 2378, 5741, 13860, 33461, 80782, 195025, 470832, 1136689, 2744210, 6625109]\n"
     ]
    }
   ],
   "source": [
    "def pell_recursive(n):\n",
    "    if n == 0:\n",
    "        return 0\n",
    "    elif n == 1:\n",
    "        return 1\n",
    "    else:\n",
    "        return 2*pell_recursive(n-1) + pell_recursive(n-2)\n",
    "        \n",
    "print ([pell_recursive(n) for n in range(0,20)])"
   ]
  },
  {
   "cell_type": "markdown",
   "metadata": {},
   "source": [
    "### Question 3\n",
    "Write a function pell_recursive_cost(n) that returns the total number of times the function pell_recursive() is called for a given n (it should be 1 for n=0 and n=1, and 3 for n=2, ...). What sequence is that (see https://oeis.org/)? What is the complexity of pell_recursive(n)? Is it polynomial?"
   ]
  },
  {
   "cell_type": "code",
   "execution_count": 3,
   "metadata": {},
   "outputs": [
    {
     "name": "stdout",
     "output_type": "stream",
     "text": [
      "[1, 1, 3, 5, 9, 15, 25, 41, 67, 109, 177, 287, 465, 753, 1219, 1973, 3193, 5167, 8361, 13529]\n"
     ]
    }
   ],
   "source": [
    "def pell_recursive_cost(n):\n",
    "    counter = 1\n",
    "    if n == 0:\n",
    "        return counter\n",
    "    elif n == 1:\n",
    "        return counter\n",
    "    else:\n",
    "        counter += pell_recursive_cost(n-2)\n",
    "        counter += pell_recursive_cost(n-1)\n",
    "        return counter\n",
    "    \n",
    "\n",
    "print ([pell_recursive_cost(n) for n in range(0,20)])\n",
    "\n",
    "# this sequence is known as A000129 in the OEIS\n",
    "# complexity is O(2^n)\n",
    "# complexity  is not   (is / is not) polynomial"
   ]
  },
  {
   "cell_type": "markdown",
   "metadata": {},
   "source": [
    "## Question 4\n",
    "Write a function pell_iterative(n) that returns the n-th Pell number using an iterative approach (that does not recompute P_2 more than once when computing P_5 for example). Check your result."
   ]
  },
  {
   "cell_type": "code",
   "execution_count": 4,
   "metadata": {},
   "outputs": [
    {
     "name": "stdout",
     "output_type": "stream",
     "text": [
      "[0, 1, 2, 5, 12, 29, 70, 169, 408, 985, 2378, 5741, 13860, 33461, 80782, 195025, 470832, 1136689, 2744210, 6625109]\n"
     ]
    }
   ],
   "source": [
    "def pell_iterative(n):\n",
    "    total = 0\n",
    "    num1 = 0\n",
    "    num2 = 1\n",
    "    if n < 2:\n",
    "        return n\n",
    "    else:\n",
    "        for i in range(2, n+1):\n",
    "            total = 2*num2 + num1\n",
    "            num1 = num2\n",
    "            num2 = total\n",
    "                    \n",
    "        return total\n",
    "\n",
    "print ([pell_iterative(n) for n in range(0,20)])"
   ]
  },
  {
   "cell_type": "markdown",
   "metadata": {},
   "source": [
    "## Question 5\n",
    "Write a function pell_iterative_cost(n) that returns total the number of additions and multiplications done to compute pell_iterative(n). What is the complexity of pell_iterative(n)?"
   ]
  },
  {
   "cell_type": "code",
   "execution_count": 5,
   "metadata": {},
   "outputs": [
    {
     "name": "stdout",
     "output_type": "stream",
     "text": [
      "[0, 0, 2, 4, 6, 8, 10, 12, 14, 16, 18, 20, 22, 24, 26, 28, 30, 32, 34, 36]\n"
     ]
    }
   ],
   "source": [
    "def pell_iterative_cost(n):\n",
    "    total = 0\n",
    "    if n < 2:\n",
    "        return 0\n",
    "    else:\n",
    "        for i in range(2, n+1):\n",
    "            total += 2\n",
    "        return total\n",
    "\n",
    "print ([pell_iterative_cost(n) for n in range(0,20)])\n",
    "\n",
    "# complexity is: O(n)"
   ]
  },
  {
   "cell_type": "markdown",
   "metadata": {},
   "source": [
    "## Question 6\n",
    "Look up Pell number on wikipedia and find the direct formula and implement it as pell_direct(n) (you should round your answer using round()). Find the smallest n where the direct formula is no longer accurate. Explain why."
   ]
  },
  {
   "cell_type": "code",
   "execution_count": 6,
   "metadata": {},
   "outputs": [
    {
     "name": "stdout",
     "output_type": "stream",
     "text": [
      "[0, 1, 2, 5, 12, 29, 70, 169, 408, 985, 2378, 5741, 13860, 33461, 80782, 195025, 470832, 1136689, 2744210, 6625109]\n"
     ]
    }
   ],
   "source": [
    "import math # needed for math.sqrt()\n",
    "\n",
    "def pell_direct(n):\n",
    "    return round( ((1 + math.sqrt(2))**n - (1 - math.sqrt(2))**n) / (2 * math.sqrt(2)) ) \n",
    "\n",
    "    \n",
    "\n",
    "print ([ pell_direct(n) for n in range (0,20) ])"
   ]
  },
  {
   "cell_type": "code",
   "execution_count": 7,
   "metadata": {},
   "outputs": [
    {
     "name": "stdout",
     "output_type": "stream",
     "text": [
      "smallest n where the functions differ is: 39\n",
      "pell number for iterative: 299713796309065\n",
      "pell number for direct: 299713796309064\n"
     ]
    }
   ],
   "source": [
    "# somehow compare pell_direct(n) and pell_iterative(n) and find smallest n where they differ\n",
    "\n",
    "for n in range(0, 300):\n",
    "    p_iter = pell_iterative(n)\n",
    "    p_direct = pell_direct(n)\n",
    "    if p_iter != p_direct:\n",
    "        print(\"smallest n where the functions differ is:\", n)\n",
    "        print(\"pell number for iterative:\", p_iter)\n",
    "        print(\"pell number for direct:\", p_direct)\n",
    "        break\n",
    "# TODO\n",
    "\n",
    "# why does this happen for this n?\n",
    "# With pell_direct, it uses floating point numbers to determine the answer everytime a sqrt and exponential is used.\n",
    "# Unlike integers, floating point numbers do not have unlimited precision. This means that tiny amounts of error will\n",
    "# accumulate since floating points numbers are an approximation at a certain degree. Eventually the error can make it\n",
    "# so that the rounding makes the number slightly smaller or larger than what it should be."
   ]
  },
  {
   "cell_type": "markdown",
   "metadata": {},
   "source": [
    "## Question 7\n",
    "Observe the time it takes to compute $P_{10}, P_{20}, P_{30}$ (There is nothing for you to do here except running the following block)"
   ]
  },
  {
   "cell_type": "code",
   "execution_count": 8,
   "metadata": {},
   "outputs": [
    {
     "name": "stdout",
     "output_type": "stream",
     "text": [
      "for n = 10 :\n",
      "36.5 µs ± 4.92 µs per loop (mean ± std. dev. of 7 runs, 10,000 loops each)\n",
      "1.64 µs ± 149 ns per loop (mean ± std. dev. of 7 runs, 1,000,000 loops each)\n",
      "1.61 µs ± 234 ns per loop (mean ± std. dev. of 7 runs, 1,000,000 loops each)\n",
      "for n = 20 :\n",
      "4 ms ± 711 µs per loop (mean ± std. dev. of 7 runs, 100 loops each)\n",
      "3.33 µs ± 725 ns per loop (mean ± std. dev. of 7 runs, 100,000 loops each)\n",
      "1.53 µs ± 147 ns per loop (mean ± std. dev. of 7 runs, 1,000,000 loops each)\n",
      "for n = 30 :\n",
      "510 ms ± 31.6 ms per loop (mean ± std. dev. of 7 runs, 1 loop each)\n",
      "4.25 µs ± 515 ns per loop (mean ± std. dev. of 7 runs, 100,000 loops each)\n",
      "1.55 µs ± 102 ns per loop (mean ± std. dev. of 7 runs, 1,000,000 loops each)\n"
     ]
    }
   ],
   "source": [
    "for n in [10,20,30]:\n",
    "    print (\"for n =\",n,\":\")\n",
    "    %timeit pell_recursive(n)\n",
    "    %timeit pell_iterative(n)\n",
    "    %timeit pell_direct(n)"
   ]
  }
 ],
 "metadata": {
  "kernelspec": {
   "display_name": "Python 3 (ipykernel)",
   "language": "python",
   "name": "python3"
  },
  "language_info": {
   "codemirror_mode": {
    "name": "ipython",
    "version": 3
   },
   "file_extension": ".py",
   "mimetype": "text/x-python",
   "name": "python",
   "nbconvert_exporter": "python",
   "pygments_lexer": "ipython3",
   "version": "3.9.13"
  }
 },
 "nbformat": 4,
 "nbformat_minor": 4
}
