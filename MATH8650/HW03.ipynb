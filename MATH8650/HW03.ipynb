{
 "cells": [
  {
   "cell_type": "markdown",
   "metadata": {},
   "source": [
    "# Homework 03\n",
    "\n",
    "Please fill in: James Nguyen"
   ]
  },
  {
   "cell_type": "code",
   "execution_count": 1,
   "metadata": {},
   "outputs": [
    {
     "name": "stdout",
     "output_type": "stream",
     "text": [
      "x: 5 y: hello\n",
      "x: hello y: 5\n"
     ]
    }
   ],
   "source": [
    "# Note: You can swap the contents of two variables in the following way (this will be useful below):\n",
    "x = 5\n",
    "y = \"hello\"\n",
    "print(\"x:\", x, \"y:\", y)\n",
    "x,y = y,x\n",
    "print(\"x:\", x, \"y:\", y)"
   ]
  },
  {
   "cell_type": "markdown",
   "metadata": {},
   "source": [
    "## Question 1\n",
    "Implement selection sort as discussed in class"
   ]
  },
  {
   "cell_type": "code",
   "execution_count": 1,
   "metadata": {},
   "outputs": [],
   "source": [
    "def selection_sort(arr):\n",
    "    \"\"\" sort the given array in-place (by swapping elements) using selection sort\n",
    "        and also return a reference to the result at the end \"\"\"\n",
    "    n = len(arr)\n",
    "    for i in range(0, n-1):\n",
    "        min_index = i\n",
    "        for j in range(i+1, n):\n",
    "            if arr[j] < arr[min_index]:\n",
    "                min_index = j\n",
    "        current_val = arr[i]\n",
    "        arr[i] = arr[min_index]\n",
    "        arr[min_index] = current_val\n",
    "        \n",
    "    return arr"
   ]
  },
  {
   "cell_type": "code",
   "execution_count": 2,
   "metadata": {},
   "outputs": [
    {
     "name": "stdout",
     "output_type": "stream",
     "text": [
      "[5] -> [5]\n",
      "[1, 7, 2, 8, 7] -> [1, 2, 7, 7, 8]\n",
      "[4, 3, 2, 1] -> [1, 2, 3, 4]\n",
      "[1, 2, 3, 4] -> [1, 2, 3, 4]\n",
      "[] -> []\n"
     ]
    }
   ],
   "source": [
    "# Run the following code and check the output to confirm your implementation is correct:\n",
    "a=[5]\n",
    "print (a, end=\" -> \")\n",
    "print (selection_sort(a))\n",
    "\n",
    "a=[1,7,2,8,7]\n",
    "print (a, end=\" -> \")\n",
    "print (selection_sort(a))\n",
    "\n",
    "a=[4,3,2,1]\n",
    "print (a, end=\" -> \")\n",
    "print (selection_sort(a))\n",
    "\n",
    "a=[1,2,3,4]\n",
    "print (a, end=\" -> \")\n",
    "print (selection_sort(a))\n",
    "\n",
    "a=[]\n",
    "print (a, end=\" -> \")\n",
    "print (selection_sort(a))"
   ]
  },
  {
   "cell_type": "markdown",
   "metadata": {},
   "source": [
    "## Question 2\n",
    "Implement insertion sort as discussed in class"
   ]
  },
  {
   "cell_type": "code",
   "execution_count": 7,
   "metadata": {},
   "outputs": [],
   "source": [
    "def insertion_sort(arr):\n",
    "    \"\"\" sort the given array in-place (by swapping elements) using insertion sort\n",
    "        and also return a reference to it \"\"\"\n",
    "    for i in range(1, len(arr)):\n",
    "        key = arr[i] # record current value\n",
    "        j = i - 1 # index left of i\n",
    "        # keep loop until left index is less than 0 or the key is greater than left\n",
    "        # since we are sorting from least to greatest, stop when the key is larger meaning it should be to the right\n",
    "        while j >= 0 and key < arr[j]:\n",
    "            # if the key is less than the value to the left, set arr[j+1] to arr[j]\n",
    "            # this pushes the greater value forward\n",
    "            arr[j + 1] = arr[j] \n",
    "            j -= 1\n",
    "        arr[j + 1] = key\n",
    "    return arr"
   ]
  },
  {
   "cell_type": "code",
   "execution_count": 8,
   "metadata": {},
   "outputs": [
    {
     "name": "stdout",
     "output_type": "stream",
     "text": [
      "[5] -> [5]\n",
      "[1, 7, 2, 8, 7] -> [1, 2, 7, 7, 8]\n",
      "[4, 3, 2, 1] -> [1, 2, 3, 4]\n",
      "[1, 2, 3, 4] -> [1, 2, 3, 4]\n",
      "[] -> []\n"
     ]
    }
   ],
   "source": [
    "# Run the following code and check the output to confirm your implementation is correct:\n",
    "a=[5]\n",
    "print (a, end=\" -> \")\n",
    "print (insertion_sort(a))\n",
    "\n",
    "a=[1,7,2,8,7]\n",
    "print (a, end=\" -> \")\n",
    "print (insertion_sort(a))\n",
    "\n",
    "a=[4,3,2,1]\n",
    "print (a, end=\" -> \")\n",
    "print (insertion_sort(a))\n",
    "\n",
    "a=[1,2,3,4]\n",
    "print (a, end=\" -> \")\n",
    "print (insertion_sort(a))\n",
    "\n",
    "a=[]\n",
    "print (a, end=\" -> \")\n",
    "print (insertion_sort(a))"
   ]
  },
  {
   "cell_type": "markdown",
   "metadata": {},
   "source": [
    "## Question 3\n",
    "\n",
    "finish the implementation of merge sort."
   ]
  },
  {
   "cell_type": "code",
   "execution_count": 35,
   "metadata": {},
   "outputs": [],
   "source": [
    "def merge(left, right):\n",
    "    \"\"\" merge the two arrays into a sorted array assuming\n",
    "        left and right are already sorted individually \"\"\"\n",
    "    result = []\n",
    "    i = j = 0\n",
    "    # merge sorted arrays\n",
    "    while i < len(left) and j < len(right): # TODO\n",
    "        if left[i] <= right[j]:\n",
    "            result.append(left[i])\n",
    "            i += 1\n",
    "        else:\n",
    "            result.append(right[j])\n",
    "            j += 1\n",
    "    # Handle left over elements\n",
    "    while i < len(left):\n",
    "        result.append(left[i])\n",
    "        i += 1\n",
    "    while j < len(right):\n",
    "        result.append(right[j])\n",
    "        j += 1\n",
    "        \n",
    "    return result\n",
    "                \n",
    "def merge_sort(arr):\n",
    "    \"\"\" sort the given array using merge sort and return \n",
    "        the new result (the original array is unchanged) \"\"\"\n",
    "    \n",
    "    if len(arr) < 2:\n",
    "        return arr\n",
    "    # integer division to find the middle index:\n",
    "    mid = len(arr)//2  \n",
    "    left = arr[:mid] # left half of array\n",
    "    right = arr[mid:] # right half of array\n",
    "    # TODO: recursion\n",
    "    left = merge_sort(left) # sort left array\n",
    "    right = merge_sort(right) # sort right array\n",
    "    result = merge(left,right) # merge left and right array\n",
    "    #print(left, right, result)\n",
    "    return result"
   ]
  },
  {
   "cell_type": "code",
   "execution_count": 37,
   "metadata": {},
   "outputs": [
    {
     "name": "stdout",
     "output_type": "stream",
     "text": [
      "[5] -> [5]\n",
      "[1, 7, 2, 8, 7] -> [1, 2, 7, 7, 8]\n",
      "[4, 3, 2, 1] -> [1, 2, 3, 4]\n",
      "[1, 2, 3, 4] -> [1, 2, 3, 4]\n",
      "[] -> []\n"
     ]
    }
   ],
   "source": [
    "# Run the following code and check your implementation:\n",
    "a=[5]\n",
    "print (a, end=\" -> \")\n",
    "print (merge_sort(a))\n",
    "\n",
    "a=[1,7,2,8,7]\n",
    "print (a, end=\" -> \")\n",
    "print (merge_sort(a))\n",
    "\n",
    "a=[4,3,2,1]\n",
    "print (a, end=\" -> \")\n",
    "print (merge_sort(a))\n",
    "\n",
    "a=[1,2,3,4]\n",
    "print (a, end=\" -> \")\n",
    "print (merge_sort(a))\n",
    "\n",
    "a=[]\n",
    "print (a, end=\" -> \")\n",
    "print (merge_sort(a))"
   ]
  },
  {
   "cell_type": "markdown",
   "metadata": {},
   "source": [
    "# Question 4\n",
    "\n",
    "For complicated situations, one not only use a custom key function with Python's sort() but also a custom comparison function. Take a look at https://docs.python.org/3/howto/sorting.html and find how one can use a custom key and how one can write a custom sort comparison function (hint: cmp_to_key).\n",
    "\n",
    "Then modify the compare() function below to sort the names by length (shortest name first) and then alphabetically (for names with the same length)."
   ]
  },
  {
   "cell_type": "code",
   "execution_count": 48,
   "metadata": {},
   "outputs": [
    {
     "name": "stdout",
     "output_type": "stream",
     "text": [
      "['Alice', 'Dave', 'Anna', 'Bob', 'Charlie']\n",
      "['Bob', 'Dave', 'Anna', 'Alice', 'Charlie']\n",
      "['Bob', 'Anna', 'Dave', 'Alice', 'Charlie']\n"
     ]
    }
   ],
   "source": [
    "import functools\n",
    "\n",
    "names = ['Alice', 'Dave', 'Anna', 'Bob', 'Charlie']\n",
    "print(names)\n",
    "\n",
    "sorted_by_length = sorted(names, key=len) #TODO\n",
    "print(sorted_by_length)\n",
    "\n",
    "def compare(str1, str2):\n",
    "    # TODO\n",
    "    # Check length first\n",
    "    if len(str1) < len(str2):\n",
    "        return -1\n",
    "    elif len(str1) > len(str2):\n",
    "        return 1\n",
    "    # Python string comparison is alphabetical\n",
    "    if str1 <= str2:\n",
    "        return -1\n",
    "    else: \n",
    "        return 1\n",
    "\n",
    "\n",
    "sorted_by_length_then_alpha = sorted(names, key=functools.cmp_to_key(compare))\n",
    "\n",
    "print(sorted_by_length_then_alpha)"
   ]
  },
  {
   "cell_type": "code",
   "execution_count": null,
   "metadata": {},
   "outputs": [],
   "source": []
  }
 ],
 "metadata": {
  "kernelspec": {
   "display_name": "Python 3 (ipykernel)",
   "language": "python",
   "name": "python3"
  },
  "language_info": {
   "codemirror_mode": {
    "name": "ipython",
    "version": 3
   },
   "file_extension": ".py",
   "mimetype": "text/x-python",
   "name": "python",
   "nbconvert_exporter": "python",
   "pygments_lexer": "ipython3",
   "version": "3.9.13"
  },
  "name": "HW03.ipynb"
 },
 "nbformat": 4,
 "nbformat_minor": 4
}
