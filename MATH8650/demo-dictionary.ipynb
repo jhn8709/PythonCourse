{
 "cells": [
  {
   "cell_type": "markdown",
   "metadata": {},
   "source": [
    "# A small dictionary demo"
   ]
  },
  {
   "cell_type": "markdown",
   "metadata": {},
   "source": [
    "Warning: some of these examples below only work nicely up to Python 3.6 (order of elements in a dictionary for example). Hashes are only deterministic for Python 2.x.\n",
    "also see:\n",
    "- http://www.laurentluce.com/posts/python-dictionary-implementation/\n",
    "- http://svn.python.org/projects/python/trunk/Objects/dictobject.c\n",
    "- https://en.wikipedia.org/wiki/Associative_array"
   ]
  },
  {
   "cell_type": "code",
   "execution_count": null,
   "metadata": {},
   "outputs": [],
   "source": [
    "pop = {} # an empty dictionary\n",
    "pop[\"Liberty\"] = 3009 # add or change elements\n",
    "pop[\"Clemson\"] = 16058\n",
    "pop[\"Easely\"] = 29321\n",
    "pop[\"Clemson\"] = pop[\"Clemson\"] + 1\n",
    "print(pop)\n",
    "print(\"Clemson:\", pop[\"Clemson\"]) # access\n",
    "del pop[\"Liberty\"] # delete\n",
    "print(pop)\n",
    "\n",
    "print (\"not there\" in pop, \"Clemson\" in pop) # contained?"
   ]
  },
  {
   "cell_type": "code",
   "execution_count": null,
   "metadata": {},
   "outputs": [],
   "source": [
    "# keys need to be immutable (not lists) and \"hashable\"\n",
    "d = {1: \"hello\", -2:\"world\", \"c\":56.9, 1.2:1.2, \"works\":[1]}\n",
    "bla = [4,[5,6]]\n",
    "d[1] = bla\n",
    "print(d)\n",
    "bla.append(1)\n",
    "print(d)\n",
    "\n",
    "fails = {[1,2] : \"test\"}"
   ]
  },
  {
   "cell_type": "code",
   "execution_count": null,
   "metadata": {},
   "outputs": [],
   "source": [
    "# observe \"random\" ordering (Python < 3.6) and in insertion order otherwise\n",
    "x = {1234567:1, \"c\":4, \"a\":1, \"b\":2, \"z\":5}\n",
    "print(x)\n",
    "print(x.keys())"
   ]
  },
  {
   "cell_type": "code",
   "execution_count": null,
   "metadata": {},
   "outputs": [],
   "source": [
    "# .keys() are also unsorted (Python < 3.6) and in insertion order otherwise\n",
    "\n",
    "pop = {\"Test\": 1234, \"test2\": 5678}\n",
    "pop[\"Liberty\"] = 3009\n",
    "pop[\"Clemson\"] = 14276\n",
    "pop[\"Easely\"] = 29321\n",
    "print(pop)\n",
    "\n",
    "print(pop.keys())\n",
    "\n",
    "print(\"sorted:\")\n",
    "for k in sorted(pop.keys()):\n",
    "    print (k, pop[k])\n",
    "    \n",
    "print()\n",
    "print(\"unsorted:\")\n",
    "for key,value in pop.items():\n",
    "    print (key, \"->\", value)"
   ]
  },
  {
   "cell_type": "code",
   "execution_count": null,
   "metadata": {},
   "outputs": [],
   "source": [
    "# missing keys cause an error:\n",
    "d = {\"a\":[1,2]}\n",
    "print (d[\"a\"])\n",
    "print (d[\"not there\"])"
   ]
  },
  {
   "cell_type": "markdown",
   "metadata": {},
   "source": [
    "Now write code to figure out the complexity of the lookup in a dictionary (dictionary[item]). For this, create a dictionary with key-value pairs (1,1),...,(n,n) for a given n. Then write a function that looks up each element n and time the execution time for different n. Conclude what the complexity of the lookup is."
   ]
  },
  {
   "cell_type": "code",
   "execution_count": null,
   "metadata": {},
   "outputs": [],
   "source": [
    "def search_dict(d,n):\n",
    "    sum = 0\n",
    "    for x in range(n):\n",
    "        sum = sum + d[x]\n",
    "\n",
    "sizes = [10000,20000,40000,80000,160000, 320000]\n",
    "for n in sizes:\n",
    "    d = {}\n",
    "    for x in range(n):\n",
    "        d[x] = x\n",
    "        \n",
    "    %timeit search_dict(d,n)"
   ]
  },
  {
   "cell_type": "markdown",
   "metadata": {},
   "source": [
    "## Hash function"
   ]
  },
  {
   "cell_type": "code",
   "execution_count": null,
   "metadata": {},
   "outputs": [],
   "source": [
    "print (hash(1), hash(2), hash(3), hash(\"a\"))\n",
    "print (hash(\"Clemson\"), hash(\"clemson\"))\n",
    "print (hash((1,1)))\n",
    "print (hash(4.0), hash(4.1), hash(4.10001))\n",
    "help(hash)"
   ]
  },
  {
   "cell_type": "code",
   "execution_count": null,
   "metadata": {},
   "outputs": [],
   "source": [
    "print ([ (x,hash(x) % 8) for x in [\"a\",\"b\",\"c\",\"d\",\"z\",\"hello world\", \"Clemson\", 4.4, 128] ])"
   ]
  },
  {
   "cell_type": "code",
   "execution_count": null,
   "metadata": {},
   "outputs": [],
   "source": [
    "def my_hash(str):\n",
    "    \"\"\" reimplementation of the python 2 hash function for strings \"\"\"\n",
    "    h = ord(str[0])<<7\n",
    "    for c in str:\n",
    "        h = (1000003*h % 2**64 ) ^ (ord(c))\n",
    "    h = h ^ len(str)\n",
    "    return h\n",
    "\n",
    "print (ord(\"b\"))\n",
    "print (my_hash(\"a\"), hash(\"a\"))\n",
    "print (my_hash(\"abc\"), hash(\"abc\"))\n",
    "\n",
    "# with Python 3 hashes differ with every execution (on purpose)"
   ]
  },
  {
   "cell_type": "markdown",
   "metadata": {},
   "source": [
    "## An example"
   ]
  },
  {
   "cell_type": "code",
   "execution_count": null,
   "metadata": {},
   "outputs": [],
   "source": [
    "text = \"\"\"\n",
    "Clemson University was established to fulfill our founder's vision of a high seminary of learning to develop the material\n",
    "resources of the State for the people of South Carolina. Nurtured by an abiding land grant commitment, Clemson has emerged\n",
    "as a research university with a global vision. Our primary purpose is educating undergraduate and graduate students to think\n",
    "deeply about and engage in the social, scientific, economic, and professional challenges of our times. The foundation of this\n",
    "mission is the generation, preservation, communication, and application of knowledge. The University also is committed to the\n",
    "personal growth of the individual and promotes an environment of good decision making, healthy and ethical lifestyles, and\n",
    "tolerance and respect for others. Our distinctive character is shaped by a legacy of service, collaboration, and fellowship\n",
    "forged from and renewed by the spirit of Thomas Green Clemson's covenant. \n",
    "\"\"\"\n",
    "d = {}\n",
    "for char in text:\n",
    "    if char in d:\n",
    "        d[char] += 1\n",
    "    else:\n",
    "        d[char] = 1\n",
    "        \n",
    "print (d)"
   ]
  },
  {
   "cell_type": "code",
   "execution_count": null,
   "metadata": {},
   "outputs": [],
   "source": []
  }
 ],
 "metadata": {
  "kernelspec": {
   "display_name": "Python 3 (ipykernel)",
   "language": "python",
   "name": "python3"
  },
  "language_info": {
   "codemirror_mode": {
    "name": "ipython",
    "version": 3
   },
   "file_extension": ".py",
   "mimetype": "text/x-python",
   "name": "python",
   "nbconvert_exporter": "python",
   "pygments_lexer": "ipython3",
   "version": "3.10.6"
  },
  "name": "dict_timo.ipynb"
 },
 "nbformat": 4,
 "nbformat_minor": 4
}
